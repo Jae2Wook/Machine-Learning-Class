{
  "nbformat": 4,
  "nbformat_minor": 0,
  "metadata": {
    "colab": {
      "name": "2book_publishing_starter.ipynb",
      "provenance": [],
      "collapsed_sections": [],
      "include_colab_link": true
    },
    "kernelspec": {
      "name": "python3",
      "display_name": "Python 3"
    },
    "accelerator": "GPU"
  },
  "cells": [
    {
      "cell_type": "markdown",
      "metadata": {
        "id": "view-in-github",
        "colab_type": "text"
      },
      "source": [
        "<a href=\"https://colab.research.google.com/github/Jae2Wook/Machine-Learning-Class/blob/main/2book_publishing_starter.ipynb\" target=\"_parent\"><img src=\"https://colab.research.google.com/assets/colab-badge.svg\" alt=\"Open In Colab\"/></a>"
      ]
    },
    {
      "cell_type": "code",
      "metadata": {
        "id": "XtiXE04uGB_U"
      },
      "source": [
        "# Import libraries\n",
        "import tensorflow as tf\n",
        "from tensorflow.keras.layers.experimental import preprocessing\n",
        "\n",
        "import numpy as np\n",
        "import os\n",
        "import time"
      ],
      "execution_count": null,
      "outputs": []
    },
    {
      "cell_type": "markdown",
      "metadata": {
        "id": "qv4r-dKnSRKz"
      },
      "source": [
        "## I. Parse Text Sources\n",
        "First we'll load our text sources and create our vocabulary lists and encoders. \n",
        "\n",
        "There are ways we could do this in pure python, but using the tensorflow data structures and libraries allow us to keep things super-optimized."
      ]
    },
    {
      "cell_type": "code",
      "metadata": {
        "id": "Kv7MMLF6d2Oz",
        "colab": {
          "base_uri": "https://localhost:8080/"
        },
        "outputId": "d7c2dd5a-5a45-47a7-8644-318862cf80e8"
      },
      "source": [
        "book = [\"Steppenwolf A Novel by Hermann Hesse, Basil Creighton (z-lib.org).epub.txt\"]\n",
        "book_path = \"/content/book/\"\n",
        "\n",
        "path_to_file = book_path + book[0]\n",
        "text = open(path_to_file, 'rb').read().decode(encoding='utf-8')\n",
        "print(\"Length of test: {} characters\".format(len(text)))"
      ],
      "execution_count": null,
      "outputs": [
        {
          "output_type": "stream",
          "text": [
            "Length of test: 402551 characters\n"
          ],
          "name": "stdout"
        }
      ]
    },
    {
      "cell_type": "code",
      "metadata": {
        "id": "-Y1hrGHhd0Xo",
        "colab": {
          "base_uri": "https://localhost:8080/"
        },
        "outputId": "98eac127-2943-4157-e199-1c78497025f8"
      },
      "source": [
        "path_to_file = tf.keras.utils.get_file(\"Shrek\", 'https://raw.githubusercontent.com/Jae2Wook/Shrek-script/main/Shrek%20script')\n",
        "text = open(path_to_file, 'rb').read().decode(encoding = 'utf-8')\n",
        "print(\"Length of text: {} characters\".format(len(text)))"
      ],
      "execution_count": null,
      "outputs": [
        {
          "output_type": "stream",
          "text": [
            "Length of text: 145615 characters\n"
          ],
          "name": "stdout"
        }
      ]
    },
    {
      "cell_type": "code",
      "metadata": {
        "colab": {
          "base_uri": "https://localhost:8080/"
        },
        "id": "H8RbnIjwHGoR",
        "outputId": "36bbb685-0d3f-4132-f6e4-e01d63f7f69f"
      },
      "source": [
        "# Load file data\n",
        "path_to_file = tf.keras.utils.get_file('austen.txt', 'https://raw.githubusercontent.com/byui-cse/cse450-course/master/data/austen/austen.txt')\n",
        "text = open(path_to_file, 'rb').read().decode(encoding='utf-8')\n",
        "print('Length of text: {} characters'.format(len(text)))"
      ],
      "execution_count": null,
      "outputs": [
        {
          "output_type": "stream",
          "text": [
            "Downloading data from https://raw.githubusercontent.com/byui-cse/cse450-course/master/data/austen/austen.txt\n",
            "4956160/4949262 [==============================] - 0s 0us/step\n",
            "Length of text: 4906787 characters\n"
          ],
          "name": "stdout"
        }
      ]
    },
    {
      "cell_type": "code",
      "metadata": {
        "colab": {
          "base_uri": "https://localhost:8080/"
        },
        "id": "2XRnt0XUHUrq",
        "outputId": "97dbc242-12a4-4ebf-88ab-47b90f47c0a5"
      },
      "source": [
        "# Verify the first part of our data\n",
        "print(text[:200])"
      ],
      "execution_count": null,
      "outputs": [
        {
          "output_type": "stream",
          "text": [
            " NIGHT - NEAR SHREK'S HOME\n",
            "\n",
            "                                     MAN1\n",
            "                         Think it's in there?\n",
            "\n",
            "                                     MAN2\n",
            "                         All right. Let's\n"
          ],
          "name": "stdout"
        }
      ]
    },
    {
      "cell_type": "code",
      "metadata": {
        "id": "2SLd7l0HP1Po",
        "colab": {
          "base_uri": "https://localhost:8080/"
        },
        "outputId": "dc01d5bf-1b3b-43e4-9d47-32220011acfe"
      },
      "source": [
        "# Now we'll get a list of the unique characters in the file. This will form the\n",
        "# vocabulary of our network. There may be some characters we want to remove from this \n",
        "# set as we refine the network.\n",
        "vocab = sorted(set(text))\n",
        "print('{} unique characters'.format(len(vocab)))\n",
        "\n",
        "\n",
        "unwanted = {'é', 'ñ', 'ô', 'ü', 'œ', '—', \"*\",'{', '}','[', ']', '_','/','&'}\n",
        "\n",
        "vocab = [i for i in vocab if i not in unwanted]\n",
        "\n",
        "print(vocab)\n",
        "print('{} unique characters'.format(len(vocab)))"
      ],
      "execution_count": null,
      "outputs": [
        {
          "output_type": "stream",
          "text": [
            "73 unique characters\n",
            "['\\n', ' ', '!', '\"', \"'\", '(', ')', ',', '-', '.', '0', '1', '2', '3', '4', '7', ':', '?', 'A', 'B', 'C', 'D', 'E', 'F', 'G', 'H', 'I', 'J', 'K', 'L', 'M', 'N', 'O', 'P', 'Q', 'R', 'S', 'T', 'U', 'V', 'W', 'X', 'Y', 'a', 'b', 'c', 'd', 'e', 'f', 'g', 'h', 'i', 'j', 'k', 'l', 'm', 'n', 'o', 'p', 'q', 'r', 's', 't', 'u', 'v', 'w', 'x', 'y', 'z']\n",
            "69 unique characters\n"
          ],
          "name": "stdout"
        }
      ]
    },
    {
      "cell_type": "code",
      "metadata": {
        "id": "NtjOxL7wQibb"
      },
      "source": [
        "# Next, we'll encode encode these characters into numbers so we can use them\n",
        "# with our neural network, then we'll create some mappings between the characters\n",
        "# and their numeric representations\n",
        "ids_from_chars = preprocessing.StringLookup(vocabulary=list(vocab))\n",
        "chars_from_ids = tf.keras.layers.experimental.preprocessing.StringLookup(vocabulary=ids_from_chars.get_vocabulary(), invert=True)\n",
        "\n",
        "# Here's a little helper function that we can use to turn a sequence of ids\n",
        "# back into a string:\n",
        "# turn them into a string:\n",
        "def text_from_ids(ids):\n",
        "  joinedTensor = tf.strings.reduce_join(chars_from_ids(ids), axis=-1)\n",
        "  return joinedTensor.numpy().decode(\"utf-8\")"
      ],
      "execution_count": null,
      "outputs": []
    },
    {
      "cell_type": "code",
      "metadata": {
        "colab": {
          "base_uri": "https://localhost:8080/"
        },
        "id": "52bkemreRw8q",
        "outputId": "e60271e2-09ce-4efe-dde6-dee262c1e65f"
      },
      "source": [
        "# Now we'll verify that they work, by getting the code for \"A\", and then looking\n",
        "# that up in reverse\n",
        "testids = ids_from_chars([\"T\", \"r\", \"u\", \"t\", \"h\"])\n",
        "testids"
      ],
      "execution_count": null,
      "outputs": [
        {
          "output_type": "execute_result",
          "data": {
            "text/plain": [
              "<tf.Tensor: shape=(5,), dtype=int64, numpy=array([39, 62, 65, 64, 52])>"
            ]
          },
          "metadata": {
            "tags": []
          },
          "execution_count": 116
        }
      ]
    },
    {
      "cell_type": "code",
      "metadata": {
        "colab": {
          "base_uri": "https://localhost:8080/"
        },
        "id": "vGUnSHjtD_IJ",
        "outputId": "c6e97d9f-9479-4c7c-c03a-63d41aa64c58"
      },
      "source": [
        "chars_from_ids(testids)"
      ],
      "execution_count": null,
      "outputs": [
        {
          "output_type": "execute_result",
          "data": {
            "text/plain": [
              "<tf.Tensor: shape=(5,), dtype=string, numpy=array([b'T', b'r', b'u', b't', b'h'], dtype=object)>"
            ]
          },
          "metadata": {
            "tags": []
          },
          "execution_count": 7
        }
      ]
    },
    {
      "cell_type": "code",
      "metadata": {
        "colab": {
          "base_uri": "https://localhost:8080/",
          "height": 36
        },
        "id": "8rghkpLLLjL5",
        "outputId": "b363c882-19b7-453a-c9c7-e3cbf3d10e97"
      },
      "source": [
        "testString = text_from_ids( testids )\n",
        "testString"
      ],
      "execution_count": null,
      "outputs": [
        {
          "output_type": "execute_result",
          "data": {
            "application/vnd.google.colaboratory.intrinsic+json": {
              "type": "string"
            },
            "text/plain": [
              "'Truth'"
            ]
          },
          "metadata": {
            "tags": []
          },
          "execution_count": 8
        }
      ]
    },
    {
      "cell_type": "markdown",
      "metadata": {
        "id": "MRXMVqTcSpA0"
      },
      "source": [
        "## II. Construct our training data\n",
        "Next we need to construct our training data by building sentence chunks. Each chunk will consist of a sequence of characters and a corresponding \"next sequence\" of the same length showing what would happen if we move forward in the text. This \"next sequence\" becomes our target variable.\n",
        "\n",
        "For example, if this were our text:\n",
        "\n",
        "> It is a truth universally acknowledged, that a single man in possession\n",
        "of a good fortune, must be in want of a wife.\n",
        "\n",
        "And our sequence length was 10 with a step size of 1, our first chunk would be:\n",
        "\n",
        "* Sequence: `It is a tr`\n",
        "* Next Sequence: `t is a tru`\n",
        "\n",
        "Our second chunk would be:\n",
        "\n",
        "* Sequence: `t is a tru`\n",
        "* Next Word: ` is a trut`\n",
        "\n"
      ]
    },
    {
      "cell_type": "code",
      "metadata": {
        "colab": {
          "base_uri": "https://localhost:8080/"
        },
        "id": "5PLJWOg2P_fE",
        "outputId": "227aa4e7-6540-43e1-ff5e-7999b6c6ea50"
      },
      "source": [
        "# First, create a stream of encoded integers from our text\n",
        "all_ids = ids_from_chars(tf.strings.unicode_split(text, 'UTF-8'))\n",
        "all_ids"
      ],
      "execution_count": null,
      "outputs": [
        {
          "output_type": "execute_result",
          "data": {
            "text/plain": [
              "<tf.Tensor: shape=(145615,), dtype=int64, numpy=array([ 3, 33, 28, ..., 33, 23,  2])>"
            ]
          },
          "metadata": {
            "tags": []
          },
          "execution_count": 117
        }
      ]
    },
    {
      "cell_type": "code",
      "metadata": {
        "id": "-nBqVY6pFpZs"
      },
      "source": [
        "# Now, convert that into a tensorflow dataset\n",
        "ids_dataset = tf.data.Dataset.from_tensor_slices(all_ids)"
      ],
      "execution_count": null,
      "outputs": []
    },
    {
      "cell_type": "code",
      "metadata": {
        "id": "8Fr28CJxUBtG"
      },
      "source": [
        "# Finally, let's batch these sequences up into chunks for our training\n",
        "seq_length = 350\n",
        "sequences = ids_dataset.batch(seq_length+1, drop_remainder=True)\n",
        "\n",
        "# This function will generate our sequence pairs:\n",
        "def split_input_target(sequence):\n",
        "    input_text = sequence[:-1]\n",
        "    target_text = sequence[1:]\n",
        "    return input_text, target_text\n",
        "\n",
        "# Call the function for every sequence in our list to create a new dataset\n",
        "# of input->target pairs\n",
        "dataset = sequences.map(split_input_target)"
      ],
      "execution_count": null,
      "outputs": []
    },
    {
      "cell_type": "code",
      "metadata": {
        "colab": {
          "base_uri": "https://localhost:8080/"
        },
        "id": "poNVukmsUFkq",
        "outputId": "dfc12f69-fcc6-4ec6-e7a3-8fb6ed72db03"
      },
      "source": [
        "# Verify our sequences\n",
        "for input_example, target_example in  dataset.take(1):\n",
        "    print(\"Input: \", text_from_ids(input_example))\n",
        "    print(\"--------\")\n",
        "    print(\"Target: \", text_from_ids(target_example))"
      ],
      "execution_count": null,
      "outputs": [
        {
          "output_type": "stream",
          "text": [
            "Input:   NIGHT - NEAR SHREK'S HOME\n",
            "\n",
            "                                     MAN1\n",
            "                         Think it's in there?\n",
            "\n",
            "                                     MAN2\n",
            "                         All right. Let's get it!\n",
            "\n",
            "                                     MAN1\n",
            "                         Whoa. Hold on. Do you know what that \n",
            "                         thing can \n",
            "--------\n",
            "Target:  NIGHT - NEAR SHREK'S HOME\n",
            "\n",
            "                                     MAN1\n",
            "                         Think it's in there?\n",
            "\n",
            "                                     MAN2\n",
            "                         All right. Let's get it!\n",
            "\n",
            "                                     MAN1\n",
            "                         Whoa. Hold on. Do you know what that \n",
            "                         thing can d\n"
          ],
          "name": "stdout"
        }
      ]
    },
    {
      "cell_type": "code",
      "metadata": {
        "colab": {
          "base_uri": "https://localhost:8080/"
        },
        "id": "QDdr6xfZYa0o",
        "outputId": "f9f9f406-9c2c-4137-e6f0-8a88417b52e5"
      },
      "source": [
        "# Finally, we'll randomize the sequences so that we don't just memorize the books\n",
        "# in the order they were written, then build a new streaming dataset from that.\n",
        "# Using a streaming dataset allows us to pass the data to our network bit by bit,\n",
        "# rather than keeping it all in memory. We'll set it to figure out how much data\n",
        "# to prefetch in the background.\n",
        "\n",
        "BATCH_SIZE = 35\n",
        "BUFFER_SIZE = 10000\n",
        "\n",
        "dataset = (\n",
        "    dataset\n",
        "    .shuffle(BUFFER_SIZE)\n",
        "    .batch(BATCH_SIZE, drop_remainder=True)\n",
        "    .prefetch(tf.data.experimental.AUTOTUNE))\n",
        "\n",
        "dataset"
      ],
      "execution_count": null,
      "outputs": [
        {
          "output_type": "execute_result",
          "data": {
            "text/plain": [
              "<PrefetchDataset shapes: ((35, 350), (35, 350)), types: (tf.int64, tf.int64)>"
            ]
          },
          "metadata": {
            "tags": []
          },
          "execution_count": 121
        }
      ]
    },
    {
      "cell_type": "markdown",
      "metadata": {
        "id": "0VQ-KjEeZMzd"
      },
      "source": [
        "## III. Build the model\n",
        "\n",
        "Next, we'll build our model. Up until this point, you've been using the Keras symbolic, or imperative API for creating your models. Doing something like:\n",
        "\n",
        "    model = tf.keras.models.Sequentla()\n",
        "    model.add(tf.keras.layers.Dense(80, activation='relu))\n",
        "    etc...\n",
        "\n",
        "However, tensorflow has another way to build models called the Functional API, which gives us a lot more control over what happens inside the model. You can read more about [the differences and when to use each here](https://blog.tensorflow.org/2019/01/what-are-symbolic-and-imperative-apis.html).\n",
        "\n",
        "We'll use the functional API for our RNN in this example. This will involve defining our model as a custom subclass of `tf.keras.Model`.\n",
        "\n",
        "If you're not familiar with classes in python, you might want to review [this quick tutorial](https://www.w3schools.com/python/python_classes.asp), as well as [this one on class inheritance](https://www.w3schools.com/python/python_inheritance.asp).\n",
        "\n",
        "Using a functional model is important for our situation because we're not just training it to predict a single character for a single sequence, but as we make predictions with it, we need it to remember those predictions as use that memory as it makes new predictions.\n"
      ]
    },
    {
      "cell_type": "code",
      "metadata": {
        "id": "Fj4uh9y-Y9mx"
      },
      "source": [
        "# Create our custom model. Given a sequence of characters, this\n",
        "# model's job is to predict what character should come next.\n",
        "class AustenTextModel(tf.keras.Model):\n",
        "\n",
        "  # This is our class constructor method, it will be executed when\n",
        "  # we first create an instance of the class \n",
        "  def __init__(self, vocab_size, embedding_dim, rnn_units):\n",
        "    super().__init__(self)\n",
        "\n",
        "    # Our model will have three layers:\n",
        "    \n",
        "    # 1. An embedding layer that handles the encoding of our vocabulary into\n",
        "    #    a vector of values suitable for a neural network\n",
        "    self.embedding = tf.keras.layers.Embedding(vocab_size, embedding_dim)\n",
        "\n",
        "    # 2. A GRU layer that handles the \"memory\" aspects of our RNN. If you're\n",
        "    #    wondering why we use GRU instead of LSTM, and whether LSTM is better,\n",
        "    #    take a look at this article: https://datascience.stackexchange.com/questions/14581/when-to-use-gru-over-lstm\n",
        "    #    then consider trying out LSTM instead (or in addition to!)\n",
        "\n",
        "    # an LSTM layer\n",
        "    self.gru = tf.keras.layers.GRU(rnn_units, return_sequences=True, return_state=True,recurrent_activation='softsign') #,dropout=0.1, recurrent_dropout=0.2)\n",
        "    #self.lstm = tf.keras.layers.LSTM(rnn_units, return_sequences=True, return_state=True, recurrent_activation='softsign') #,dropout=0.0, recurrent_dropout=0.0)\n",
        "    self.gru2 = tf.keras.layers.GRU(rnn_units, return_sequences=True, return_state=True, recurrent_activation='softsign')\n",
        "\n",
        "    # 3. Our output layer that will give us a set of probabilities for each\n",
        "    #    character in our vocabulary.\n",
        "    self.dense = tf.keras.layers.Dense(vocab_size)\n",
        "\n",
        "  # This function will be executed for each epoch of our training. Here\n",
        "  # we will manually feed information from one layer of our network to the \n",
        "  # next.\n",
        "  def call(self, inputs, states=None, states2 = None, return_state=False, training=False): #states3 = None\n",
        "    x = inputs\n",
        "\n",
        "    # 1. Feed the inputs into the embedding layer, and tell it if we are\n",
        "    #    training or predicting\n",
        "\n",
        "    x = self.embedding(x, training=training)\n",
        "\n",
        "    # 2. If we don't have any state in memory yet, get the initial random state\n",
        "    #    from our GRUI layer.\n",
        "    if states is None:\n",
        "      states = self.gru.get_initial_state(x)\n",
        "    \n",
        "    # 3. Now, feed the vectorized input along with the current state of memory\n",
        "    #    into the gru layer.\n",
        "    x, states = self.gru(x, initial_state=states, training=training)\n",
        "\n",
        "    if states2 is None:\n",
        "      states2 = self.gru2.get_initial_state(x)\n",
        "\n",
        "    x, states2 = self.gru2(x, initial_state=states2, training=training)\n",
        "\n",
        "    #if states3 is None:\n",
        "    #  states3 = self.lstm.get_initial_state(x)\n",
        "\n",
        "    #x, states, states2, states3 = self.lstm(x, initial_state=states3, training=training)\n",
        "\n",
        "    # 4. Finally, pass the results on to the dense layer\n",
        "    x = self.dense(x, training=training)\n",
        "\n",
        "\n",
        "    # 5. Return the results\n",
        "    if return_state:\n",
        "      return x, states, states2#, states3\n",
        "    else: \n",
        "      return x"
      ],
      "execution_count": null,
      "outputs": []
    },
    {
      "cell_type": "code",
      "metadata": {
        "id": "zq_GALnV0tb6"
      },
      "source": [
        "# Create our custom model. Given a sequence of characters, this\n",
        "# model's job is to predict what character should come next.\n",
        "class AustenTextModel(tf.keras.Model):\n",
        "\n",
        "  # This is our class constructor method, it will be executed when\n",
        "  # we first create an instance of the class \n",
        "  def __init__(self, vocab_size, embedding_dim, rnn_units):\n",
        "    super().__init__(self)\n",
        "\n",
        "    # Our model will have three layers:\n",
        "    \n",
        "    # 1. An embedding layer that handles the encoding of our vocabulary into\n",
        "    #    a vector of values suitable for a neural network\n",
        "    self.embedding = tf.keras.layers.Embedding(vocab_size, embedding_dim)\n",
        "\n",
        "    # 2. A GRU layer that handles the \"memory\" aspects of our RNN. If you're\n",
        "    #    wondering why we use GRU instead of LSTM, and whether LSTM is better,\n",
        "    #    take a look at this article: https://datascience.stackexchange.com/questions/14581/when-to-use-gru-over-lstm\n",
        "    #    then consider trying out LSTM instead (or in addition to!)\n",
        "    self.gru = tf.keras.layers.GRU(rnn_units, return_sequences=True, return_state=True, recurrent_activation='softsign') #,dropout=0.1, recurrent_dropout=0.2)\n",
        "\n",
        "    # 3. Our output layer that will give us a set of probabilities for each\n",
        "    #    character in our vocabulary.\n",
        "    self.dense = tf.keras.layers.Dense(vocab_size)\n",
        "\n",
        "  # This function will be executed for each epoch of our training. Here\n",
        "  # we will manually feed information from one layer of our network to the \n",
        "  # next.\n",
        "  def call(self, inputs, states=None, return_state=False, training=False):\n",
        "    x = inputs\n",
        "\n",
        "    # 1. Feed the inputs into the embedding layer, and tell it if we are\n",
        "    #    training or predicting\n",
        "    x = self.embedding(x, training=training)\n",
        "\n",
        "    # 2. If we don't have any state in memory yet, get the initial random state\n",
        "    #    from our GRUI layer.\n",
        "    if states is None:\n",
        "      states = self.gru.get_initial_state(x)\n",
        "    \n",
        "    # 3. Now, feed the vectorized input along with the current state of memory\n",
        "    #    into the gru layer.\n",
        "    x, states = self.gru(x, initial_state=states, training=training)\n",
        "\n",
        "    # 4. Finally, pass the results on to the dense layer\n",
        "    x = self.dense(x, training=training)\n",
        "\n",
        "    # 5. Return the results\n",
        "    if return_state:\n",
        "      return x, states\n",
        "    else: \n",
        "      return x"
      ],
      "execution_count": null,
      "outputs": []
    },
    {
      "cell_type": "code",
      "metadata": {
        "id": "UA2C6pxZc4De",
        "colab": {
          "base_uri": "https://localhost:8080/"
        },
        "outputId": "f7b195fe-ae2b-4d62-a3e2-df5cf9919e7f"
      },
      "source": [
        "# Create an instance of our model\n",
        "vocab_size=len(ids_from_chars.get_vocabulary())\n",
        "embedding_dim = 256\n",
        "rnn_units = 1024\n",
        "#rnn_units2 = 512\n",
        "#rnn_units3 = 128\n",
        "\n",
        "model = AustenTextModel(vocab_size, embedding_dim, rnn_units) #, rnn_units2) , rnn_units3)"
      ],
      "execution_count": null,
      "outputs": [
        {
          "output_type": "stream",
          "text": [
            "WARNING:tensorflow:Layer gru_28 will not use cuDNN kernel since it doesn't meet the cuDNN kernel criteria. It will use generic GPU kernel as fallback when running on GPU\n",
            "WARNING:tensorflow:Layer gru_29 will not use cuDNN kernel since it doesn't meet the cuDNN kernel criteria. It will use generic GPU kernel as fallback when running on GPU\n"
          ],
          "name": "stdout"
        }
      ]
    },
    {
      "cell_type": "code",
      "metadata": {
        "colab": {
          "base_uri": "https://localhost:8080/"
        },
        "id": "C67kN7YAdfSf",
        "outputId": "27dcd149-812d-46dc-86a7-256b56555d71"
      },
      "source": [
        "# Verify the output of our model is correct by running one sample through\n",
        "# This will also compile the model for us. This step will take a bit.\n",
        "for input_example_batch, target_example_batch in dataset.take(1):\n",
        "    example_batch_predictions = model(input_example_batch)\n",
        "    print(example_batch_predictions.shape, \"# (batch_size, sequence_length, vocab_size)\")\n"
      ],
      "execution_count": null,
      "outputs": [
        {
          "output_type": "stream",
          "text": [
            "(35, 350, 71) # (batch_size, sequence_length, vocab_size)\n"
          ],
          "name": "stdout"
        }
      ]
    },
    {
      "cell_type": "code",
      "metadata": {
        "colab": {
          "base_uri": "https://localhost:8080/"
        },
        "id": "qJGL8gCWdsiu",
        "outputId": "1396cbac-84d9-4913-feb8-752fdb3284c9"
      },
      "source": [
        "# Now let's view the model summary\n",
        "model.summary()"
      ],
      "execution_count": null,
      "outputs": [
        {
          "output_type": "stream",
          "text": [
            "Model: \"austen_text_model_16\"\n",
            "_________________________________________________________________\n",
            "Layer (type)                 Output Shape              Param #   \n",
            "=================================================================\n",
            "embedding_16 (Embedding)     multiple                  18176     \n",
            "_________________________________________________________________\n",
            "gru_28 (GRU)                 multiple                  3938304   \n",
            "_________________________________________________________________\n",
            "gru_29 (GRU)                 multiple                  6297600   \n",
            "_________________________________________________________________\n",
            "dense_16 (Dense)             multiple                  72775     \n",
            "=================================================================\n",
            "Total params: 10,326,855\n",
            "Trainable params: 10,326,855\n",
            "Non-trainable params: 0\n",
            "_________________________________________________________________\n"
          ],
          "name": "stdout"
        }
      ]
    },
    {
      "cell_type": "markdown",
      "metadata": {
        "id": "wTDe5m4baEqo"
      },
      "source": [
        "## IV. Train the model\n",
        "\n",
        "For our purposes, we'll be using [categorical cross entropy](https://machinelearningmastery.com/cross-entropy-for-machine-learning/) as our loss function*. Also, our model will be outputting [\"logits\" rather than normalized probabilities](https://stackoverflow.com/questions/41455101/what-is-the-meaning-of-the-word-logits-in-tensorflow), because we'll be doing further transformations on the output later. \n",
        "\n",
        "\n",
        "\\* Note that since our model deals with integer encoding rather than one-hot encoding, we'll specifically be using [sparse categorical cross entropy](https://stats.stackexchange.com/questions/326065/cross-entropy-vs-sparse-cross-entropy-when-to-use-one-over-the-other)."
      ]
    },
    {
      "cell_type": "code",
      "metadata": {
        "colab": {
          "base_uri": "https://localhost:8080/",
          "height": 232
        },
        "id": "7vOxc7CkaGQB",
        "outputId": "03f14eba-a539-421a-df4b-f95d57fc47ef"
      },
      "source": [
        "loss = tf.losses.SparseCategoricalCrossentropy(from_logits=True)\n",
        "model.compile(optimizer='adam', loss=loss)\n",
        "\n",
        "history = model.fit(dataset, epochs=1)"
      ],
      "execution_count": null,
      "outputs": [
        {
          "output_type": "error",
          "ename": "NameError",
          "evalue": "ignored",
          "traceback": [
            "\u001b[0;31m---------------------------------------------------------------------------\u001b[0m",
            "\u001b[0;31mNameError\u001b[0m                                 Traceback (most recent call last)",
            "\u001b[0;32m<ipython-input-3-cfaf8b61cb79>\u001b[0m in \u001b[0;36m<module>\u001b[0;34m()\u001b[0m\n\u001b[1;32m      1\u001b[0m \u001b[0mloss\u001b[0m \u001b[0;34m=\u001b[0m \u001b[0mtf\u001b[0m\u001b[0;34m.\u001b[0m\u001b[0mlosses\u001b[0m\u001b[0;34m.\u001b[0m\u001b[0mSparseCategoricalCrossentropy\u001b[0m\u001b[0;34m(\u001b[0m\u001b[0mfrom_logits\u001b[0m\u001b[0;34m=\u001b[0m\u001b[0;32mTrue\u001b[0m\u001b[0;34m)\u001b[0m\u001b[0;34m\u001b[0m\u001b[0;34m\u001b[0m\u001b[0m\n\u001b[0;32m----> 2\u001b[0;31m \u001b[0mmodel\u001b[0m\u001b[0;34m.\u001b[0m\u001b[0mcompile\u001b[0m\u001b[0;34m(\u001b[0m\u001b[0moptimizer\u001b[0m\u001b[0;34m=\u001b[0m\u001b[0;34m'adam'\u001b[0m\u001b[0;34m,\u001b[0m \u001b[0mloss\u001b[0m\u001b[0;34m=\u001b[0m\u001b[0mloss\u001b[0m\u001b[0;34m)\u001b[0m\u001b[0;34m\u001b[0m\u001b[0;34m\u001b[0m\u001b[0m\n\u001b[0m\u001b[1;32m      3\u001b[0m \u001b[0;34m\u001b[0m\u001b[0m\n\u001b[1;32m      4\u001b[0m \u001b[0mhistory\u001b[0m \u001b[0;34m=\u001b[0m \u001b[0mmodel\u001b[0m\u001b[0;34m.\u001b[0m\u001b[0mfit\u001b[0m\u001b[0;34m(\u001b[0m\u001b[0mdataset\u001b[0m\u001b[0;34m,\u001b[0m \u001b[0mepochs\u001b[0m\u001b[0;34m=\u001b[0m\u001b[0;36m1\u001b[0m\u001b[0;34m)\u001b[0m\u001b[0;34m\u001b[0m\u001b[0;34m\u001b[0m\u001b[0m\n",
            "\u001b[0;31mNameError\u001b[0m: name 'model' is not defined"
          ]
        }
      ]
    },
    {
      "cell_type": "markdown",
      "metadata": {
        "id": "casEwxrXcv4Y"
      },
      "source": [
        "## V. Use the model\n",
        "\n",
        "Now that our model has been trained, we can use it to generate text. As mentioned earlier, to do so we have to keep track of its internal state, or memory, so that we can use previous text predictions to inform later ones.\n",
        "\n",
        "However, with RNN generated text, if we always just pick the character with the highest probability, our model tends to get stuck in a loop. So instead we will create a probability distribution of characters for each step, and then sample from that distribution. We can add some variation to this using a paramter known as [\"temperature\"](https://cs.stackexchange.com/questions/79241/what-is-temperature-in-lstm-and-neural-networks-generally)."
      ]
    },
    {
      "cell_type": "code",
      "metadata": {
        "id": "V3lhlyfwcqIN"
      },
      "source": [
        "# Here's the code we'll use to sample for us. It has some extra steps to apply\n",
        "# the temperature to the distribution, and to make sure we don't get empty\n",
        "# characters in our text. Most importantly, it will keep track of our model\n",
        "# state for us.\n",
        "\n",
        "class OneStep(tf.keras.Model):\n",
        "  def __init__(self, model, chars_from_ids, ids_from_chars, temperature=0.6):\n",
        "    super().__init__()\n",
        "    self.temperature=temperature\n",
        "    self.model = model\n",
        "    self.chars_from_ids = chars_from_ids\n",
        "    self.ids_from_chars = ids_from_chars\n",
        "\n",
        "    # Create a mask to prevent \"\" or \"[UNK]\" from being generated.\n",
        "    skip_ids = self.ids_from_chars(['','[UNK]'])[:, None]\n",
        "    sparse_mask = tf.SparseTensor(\n",
        "        # Put a -inf at each bad index.\n",
        "        values=[-float('inf')]*len(skip_ids),\n",
        "        indices = skip_ids,\n",
        "        # Match the shape to the vocabulary\n",
        "        dense_shape=[len(ids_from_chars.get_vocabulary())]) \n",
        "    self.prediction_mask = tf.sparse.to_dense(sparse_mask)\n",
        "\n",
        "  @tf.function\n",
        "  def generate_one_step(self, inputs, states=None, states2 = None): #states3=None\n",
        "    # Convert strings to token IDs.\n",
        "    input_chars = tf.strings.unicode_split(inputs, 'UTF-8')\n",
        "    input_ids = self.ids_from_chars(input_chars).to_tensor()\n",
        "\n",
        "    # Run the model.\n",
        "    # predicted_logits.shape is [batch, char, next_char_logits] \n",
        "    predicted_logits, states, states2 =  self.model(inputs=input_ids, states = states, states2 = states2, \n",
        "                                          return_state=True)\n",
        "    # Only use the last prediction.\n",
        "    predicted_logits = predicted_logits[:, -1, :]\n",
        "    predicted_logits = predicted_logits/self.temperature\n",
        "    \n",
        "    # Apply the prediction mask: prevent \"\" or \"[UNK]\" from being generated.\n",
        "    predicted_logits = predicted_logits + self.prediction_mask\n",
        "\n",
        "    # Sample the output logits to generate token IDs.\n",
        "    predicted_ids = tf.random.categorical(predicted_logits, num_samples=1)\n",
        "    predicted_ids = tf.squeeze(predicted_ids, axis=-1)\n",
        "\n",
        "    # Return the characters and model state.\n",
        "    return chars_from_ids(predicted_ids), states, states2 #, states3\n"
      ],
      "execution_count": null,
      "outputs": []
    },
    {
      "cell_type": "markdown",
      "metadata": {
        "id": "zoBeu_HbB4Q2"
      },
      "source": [
        "Steppenwolf || \n",
        "seq_length = 300, BATCH_SIZE = 30, GRU(rnn_units, return_sequences=True, return_state=True, activation = \"tanh\", recurrent_activation='sigmoid', recurrent_dropout=0.2, dropout=0.5), Dense(vocab_size, activation = \"softmax\"), epochs=35"
      ]
    },
    {
      "cell_type": "code",
      "metadata": {
        "colab": {
          "base_uri": "https://localhost:8080/"
        },
        "id": "fSUghgUFc6ba",
        "outputId": "21797a6e-b4d8-4b38-d080-ccdc19230d6f"
      },
      "source": [
        "# Create an instance of the character generator\n",
        "one_step_model = OneStep(model, chars_from_ids, ids_from_chars)\n",
        "\n",
        "# Now, let's generate a 1000 character chapter by giving our model \"Chapter 1\"\n",
        "# as its starting text\n",
        "states = None\n",
        "states2 = None\n",
        "# states3 = None\n",
        "next_char = tf.constant(['DONKEY \\n Hey, I want to eat an onion. SHREK \\n why? DONKEY \\n because it is a magical onion. SHREK \\n lets find the onion. DONKEY \\n lets go look in the castle. FIONA \\n the castle has magic in side. DONKEY \\n that is scary. SHREK \\n should we sing? FIONA \\n yes lets sing about the onion. DONKEY \\n the onion is small. SHREK \\n no the onion is big. FIONA \\n do you think the magical onion will like our song?'])\n",
        "result = [next_char]\n",
        "\n",
        "for n in range(3000):\n",
        "  next_char, states, states2 = one_step_model.generate_one_step(next_char, states= states, states2 = states2)\n",
        "  result.append(next_char)\n",
        "\n",
        "result = tf.strings.join(result)\n",
        "\n",
        "# Print the results formatted.\n",
        "print(result[0].numpy().decode('utf-8'))\n",
        "\n",
        "\n"
      ],
      "execution_count": null,
      "outputs": [
        {
          "output_type": "stream",
          "text": [
            "DONKEY \n",
            " Hey, I want to eat an onion. SHREK \n",
            " why? DONKEY \n",
            " because it is a magical onion. SHREK \n",
            " lets find the onion. DONKEY \n",
            " lets go look in the castle. FIONA \n",
            " the castle has magic in side. DONKEY \n",
            " that is scary. SHREK \n",
            " should we sing? FIONA \n",
            " yes lets sing about the onion. DONKEY \n",
            " the onion is small. SHREK \n",
            " no the onion is big. FIONA \n",
            " do you think the magical onion will like our song? \n",
            "                         I do 't. But cane \n",
            "                         You chalk.\n",
            " \n",
            "                                     SHREK\n",
            "                         Hey, ro of you se her. \n",
            "                         out in hereded.\n",
            " \n",
            "                                       FARQUAAD\n",
            "                         I don't know. There are ye hrow wingm \n",
            "                         a  way nothing to the eaition.\n",
            " \n",
            "                                     DONKEY\n",
            "                         . I look atricht theng stageed this \n",
            "                                       SHREK\n",
            "                         And I - I deab into the smell)\n",
            " \n",
            "                         \n",
            "                                     SHREK\n",
            "                         I don't herf tere juttor to the chandelier him.\n",
            " \n",
            "                                     SHREK\n",
            "                         Princess Fiona.\n",
            " \n",
            "                                     REBD\n",
            "                         I the one there's the fate of the seahing \n",
            "                         - - - a deal. Hoy, no, nover tee back down and \n",
            "                                   SHREK\n",
            "                         Uh, now!\n",
            "\n",
            "                                     DONKEY\n",
            "                         I the's marry with ye. I don't like ne hadd.\n",
            " \n",
            "                                   DONKEY\n",
            "                         I mean, her be to the. I'm \n",
            "                         the plere.\n",
            " \n",
            "                                     SHREK\n",
            "                         (ore as the ogrer the lisely asd alour \n",
            "                         lot there's no mind there shanl \n",
            "                         to get our of my comer the sing off. She wasn's \n",
            "                         you follow her home?\n",
            " \n",
            "                                     FIONA\n",
            "                         Hey, look at this.\n",
            " \n",
            "                                   SHREK\n",
            "                         Well, see, suthing, \n",
            "                         for a younge to has then. (smes sunset! \n",
            "                         You think kays ofe of the deado bot a sick forith. He's ready to calkt se! Have \n",
            "                         it's not look at the read af the sries hom. \n",
            "                                       SHREK\n",
            "                         Oh, now was am\n",
            " \n",
            "                                   DONKEY\n",
            "                         Well, yes.\n",
            "\n",
            "                                     FIONA\n",
            "                         Uh, you know, with you. She has spraitiof \n",
            "                         the stairs un the road again.\n",
            " \n",
            "                                     FARQUAAD\n",
            "                                           DONKEY\n",
            "                         Ather and she pursers on o ridees up with a \n",
            "                         to me! Look at the wroenllrer who is \n",
            "                         and be to tond of the dragons her dangy \n",
            "                         the spit allart \n",
            "                         out a sakped bot to a thaig to you bust the \n",
            "                         that? It's arout his one herd then geet of the \n",
            "                         the shinks of the reard wolks opirs \n",
            "                         the staromont \n",
            "                         the she ly get th\n"
          ],
          "name": "stdout"
        }
      ]
    },
    {
      "cell_type": "markdown",
      "metadata": {
        "id": "LsZ_6Vce0_dL"
      },
      "source": [
        "softsign"
      ]
    },
    {
      "cell_type": "code",
      "metadata": {
        "id": "zZbKXezz1Oyi"
      },
      "source": [
        "# Here's the code we'll use to sample for us. It has some extra steps to apply\n",
        "# the temperature to the distribution, and to make sure we don't get empty\n",
        "# characters in our text. Most importantly, it will keep track of our model\n",
        "# state for us.\n",
        "\n",
        "class OneStep(tf.keras.Model):\n",
        "  def __init__(self, model, chars_from_ids, ids_from_chars, temperature=0.75):\n",
        "    super().__init__()\n",
        "    self.temperature=temperature\n",
        "    self.model = model\n",
        "    self.chars_from_ids = chars_from_ids\n",
        "    self.ids_from_chars = ids_from_chars\n",
        "\n",
        "    # Create a mask to prevent \"\" or \"[UNK]\" from being generated.\n",
        "    skip_ids = self.ids_from_chars(['','[UNK]'])[:, None]\n",
        "    sparse_mask = tf.SparseTensor(\n",
        "        # Put a -inf at each bad index.\n",
        "        values=[-float('inf')]*len(skip_ids),\n",
        "        indices = skip_ids,\n",
        "        # Match the shape to the vocabulary\n",
        "        dense_shape=[len(ids_from_chars.get_vocabulary())]) \n",
        "    self.prediction_mask = tf.sparse.to_dense(sparse_mask)\n",
        "\n",
        "  @tf.function\n",
        "  def generate_one_step(self, inputs, states=None):\n",
        "    # Convert strings to token IDs.\n",
        "    input_chars = tf.strings.unicode_split(inputs, 'UTF-8')\n",
        "    input_ids = self.ids_from_chars(input_chars).to_tensor()\n",
        "\n",
        "    # Run the model.\n",
        "    # predicted_logits.shape is [batch, char, next_char_logits] \n",
        "    predicted_logits, states =  self.model(inputs=input_ids, states=states, \n",
        "                                          return_state=True)\n",
        "    # Only use the last prediction.\n",
        "    predicted_logits = predicted_logits[:, -1, :]\n",
        "    predicted_logits = predicted_logits/self.temperature\n",
        "    \n",
        "    # Apply the prediction mask: prevent \"\" or \"[UNK]\" from being generated.\n",
        "    predicted_logits = predicted_logits + self.prediction_mask\n",
        "\n",
        "    # Sample the output logits to generate token IDs.\n",
        "    predicted_ids = tf.random.categorical(predicted_logits, num_samples=1)\n",
        "    predicted_ids = tf.squeeze(predicted_ids, axis=-1)\n",
        "\n",
        "    # Return the characters and model state.\n",
        "    return chars_from_ids(predicted_ids), states"
      ],
      "execution_count": null,
      "outputs": []
    },
    {
      "cell_type": "code",
      "metadata": {
        "colab": {
          "base_uri": "https://localhost:8080/",
          "height": 723
        },
        "id": "Acj5G3U71Auo",
        "outputId": "7d534bcc-0ed5-4b8b-d921-15b0222f3469"
      },
      "source": [
        "# Create an instance of the character generator\n",
        "one_step_model = OneStep(model, chars_from_ids, ids_from_chars)\n",
        "\n",
        "# Now, let's generate a 1000 character chapter by giving our model \"Chapter 1\"\n",
        "# as its starting text\n",
        "states = None\n",
        "next_char = tf.constant(['Today is Saturday! We have to see the sunshine.'])\n",
        "result = [next_char]\n",
        "\n",
        "for n in range(1000):\n",
        "  next_char, states = one_step_model.generate_one_step(next_char, states=states)\n",
        "  result.append(next_char)\n",
        "\n",
        "result = tf.strings.join(result)\n",
        "\n",
        "# Print the results formatted.\n",
        "print(result[0].numpy().decode('utf-8'))"
      ],
      "execution_count": null,
      "outputs": [
        {
          "output_type": "error",
          "ename": "InvalidArgumentError",
          "evalue": "ignored",
          "traceback": [
            "\u001b[0;31m---------------------------------------------------------------------------\u001b[0m",
            "\u001b[0;31mInvalidArgumentError\u001b[0m                      Traceback (most recent call last)",
            "\u001b[0;32m<ipython-input-187-51a7c145595c>\u001b[0m in \u001b[0;36m<module>\u001b[0;34m()\u001b[0m\n\u001b[1;32m      9\u001b[0m \u001b[0;34m\u001b[0m\u001b[0m\n\u001b[1;32m     10\u001b[0m \u001b[0;32mfor\u001b[0m \u001b[0mn\u001b[0m \u001b[0;32min\u001b[0m \u001b[0mrange\u001b[0m\u001b[0;34m(\u001b[0m\u001b[0;36m1000\u001b[0m\u001b[0;34m)\u001b[0m\u001b[0;34m:\u001b[0m\u001b[0;34m\u001b[0m\u001b[0;34m\u001b[0m\u001b[0m\n\u001b[0;32m---> 11\u001b[0;31m   \u001b[0mnext_char\u001b[0m\u001b[0;34m,\u001b[0m \u001b[0mstates\u001b[0m \u001b[0;34m=\u001b[0m \u001b[0mone_step_model\u001b[0m\u001b[0;34m.\u001b[0m\u001b[0mgenerate_one_step\u001b[0m\u001b[0;34m(\u001b[0m\u001b[0mnext_char\u001b[0m\u001b[0;34m,\u001b[0m \u001b[0mstates\u001b[0m\u001b[0;34m=\u001b[0m\u001b[0mstates\u001b[0m\u001b[0;34m)\u001b[0m\u001b[0;34m\u001b[0m\u001b[0;34m\u001b[0m\u001b[0m\n\u001b[0m\u001b[1;32m     12\u001b[0m   \u001b[0mresult\u001b[0m\u001b[0;34m.\u001b[0m\u001b[0mappend\u001b[0m\u001b[0;34m(\u001b[0m\u001b[0mnext_char\u001b[0m\u001b[0;34m)\u001b[0m\u001b[0;34m\u001b[0m\u001b[0;34m\u001b[0m\u001b[0m\n\u001b[1;32m     13\u001b[0m \u001b[0;34m\u001b[0m\u001b[0m\n",
            "\u001b[0;32m/usr/local/lib/python3.7/dist-packages/tensorflow/python/eager/def_function.py\u001b[0m in \u001b[0;36m__call__\u001b[0;34m(self, *args, **kwds)\u001b[0m\n\u001b[1;32m    826\u001b[0m     \u001b[0mtracing_count\u001b[0m \u001b[0;34m=\u001b[0m \u001b[0mself\u001b[0m\u001b[0;34m.\u001b[0m\u001b[0mexperimental_get_tracing_count\u001b[0m\u001b[0;34m(\u001b[0m\u001b[0;34m)\u001b[0m\u001b[0;34m\u001b[0m\u001b[0;34m\u001b[0m\u001b[0m\n\u001b[1;32m    827\u001b[0m     \u001b[0;32mwith\u001b[0m \u001b[0mtrace\u001b[0m\u001b[0;34m.\u001b[0m\u001b[0mTrace\u001b[0m\u001b[0;34m(\u001b[0m\u001b[0mself\u001b[0m\u001b[0;34m.\u001b[0m\u001b[0m_name\u001b[0m\u001b[0;34m)\u001b[0m \u001b[0;32mas\u001b[0m \u001b[0mtm\u001b[0m\u001b[0;34m:\u001b[0m\u001b[0;34m\u001b[0m\u001b[0;34m\u001b[0m\u001b[0m\n\u001b[0;32m--> 828\u001b[0;31m       \u001b[0mresult\u001b[0m \u001b[0;34m=\u001b[0m \u001b[0mself\u001b[0m\u001b[0;34m.\u001b[0m\u001b[0m_call\u001b[0m\u001b[0;34m(\u001b[0m\u001b[0;34m*\u001b[0m\u001b[0margs\u001b[0m\u001b[0;34m,\u001b[0m \u001b[0;34m**\u001b[0m\u001b[0mkwds\u001b[0m\u001b[0;34m)\u001b[0m\u001b[0;34m\u001b[0m\u001b[0;34m\u001b[0m\u001b[0m\n\u001b[0m\u001b[1;32m    829\u001b[0m       \u001b[0mcompiler\u001b[0m \u001b[0;34m=\u001b[0m \u001b[0;34m\"xla\"\u001b[0m \u001b[0;32mif\u001b[0m \u001b[0mself\u001b[0m\u001b[0;34m.\u001b[0m\u001b[0m_experimental_compile\u001b[0m \u001b[0;32melse\u001b[0m \u001b[0;34m\"nonXla\"\u001b[0m\u001b[0;34m\u001b[0m\u001b[0;34m\u001b[0m\u001b[0m\n\u001b[1;32m    830\u001b[0m       \u001b[0mnew_tracing_count\u001b[0m \u001b[0;34m=\u001b[0m \u001b[0mself\u001b[0m\u001b[0;34m.\u001b[0m\u001b[0mexperimental_get_tracing_count\u001b[0m\u001b[0;34m(\u001b[0m\u001b[0;34m)\u001b[0m\u001b[0;34m\u001b[0m\u001b[0;34m\u001b[0m\u001b[0m\n",
            "\u001b[0;32m/usr/local/lib/python3.7/dist-packages/tensorflow/python/eager/def_function.py\u001b[0m in \u001b[0;36m_call\u001b[0;34m(self, *args, **kwds)\u001b[0m\n\u001b[1;32m    860\u001b[0m       \u001b[0;31m# In this case we have not created variables on the first call. So we can\u001b[0m\u001b[0;34m\u001b[0m\u001b[0;34m\u001b[0m\u001b[0;34m\u001b[0m\u001b[0m\n\u001b[1;32m    861\u001b[0m       \u001b[0;31m# run the first trace but we should fail if variables are created.\u001b[0m\u001b[0;34m\u001b[0m\u001b[0;34m\u001b[0m\u001b[0;34m\u001b[0m\u001b[0m\n\u001b[0;32m--> 862\u001b[0;31m       \u001b[0mresults\u001b[0m \u001b[0;34m=\u001b[0m \u001b[0mself\u001b[0m\u001b[0;34m.\u001b[0m\u001b[0m_stateful_fn\u001b[0m\u001b[0;34m(\u001b[0m\u001b[0;34m*\u001b[0m\u001b[0margs\u001b[0m\u001b[0;34m,\u001b[0m \u001b[0;34m**\u001b[0m\u001b[0mkwds\u001b[0m\u001b[0;34m)\u001b[0m\u001b[0;34m\u001b[0m\u001b[0;34m\u001b[0m\u001b[0m\n\u001b[0m\u001b[1;32m    863\u001b[0m       \u001b[0;32mif\u001b[0m \u001b[0mself\u001b[0m\u001b[0;34m.\u001b[0m\u001b[0m_created_variables\u001b[0m\u001b[0;34m:\u001b[0m\u001b[0;34m\u001b[0m\u001b[0;34m\u001b[0m\u001b[0m\n\u001b[1;32m    864\u001b[0m         raise ValueError(\"Creating variables on a non-first call to a function\"\n",
            "\u001b[0;32m/usr/local/lib/python3.7/dist-packages/tensorflow/python/eager/function.py\u001b[0m in \u001b[0;36m__call__\u001b[0;34m(self, *args, **kwargs)\u001b[0m\n\u001b[1;32m   2941\u001b[0m        filtered_flat_args) = self._maybe_define_function(args, kwargs)\n\u001b[1;32m   2942\u001b[0m     return graph_function._call_flat(\n\u001b[0;32m-> 2943\u001b[0;31m         filtered_flat_args, captured_inputs=graph_function.captured_inputs)  # pylint: disable=protected-access\n\u001b[0m\u001b[1;32m   2944\u001b[0m \u001b[0;34m\u001b[0m\u001b[0m\n\u001b[1;32m   2945\u001b[0m   \u001b[0;34m@\u001b[0m\u001b[0mproperty\u001b[0m\u001b[0;34m\u001b[0m\u001b[0;34m\u001b[0m\u001b[0m\n",
            "\u001b[0;32m/usr/local/lib/python3.7/dist-packages/tensorflow/python/eager/function.py\u001b[0m in \u001b[0;36m_call_flat\u001b[0;34m(self, args, captured_inputs, cancellation_manager)\u001b[0m\n\u001b[1;32m   1917\u001b[0m       \u001b[0;31m# No tape is watching; skip to running the function.\u001b[0m\u001b[0;34m\u001b[0m\u001b[0;34m\u001b[0m\u001b[0;34m\u001b[0m\u001b[0m\n\u001b[1;32m   1918\u001b[0m       return self._build_call_outputs(self._inference_function.call(\n\u001b[0;32m-> 1919\u001b[0;31m           ctx, args, cancellation_manager=cancellation_manager))\n\u001b[0m\u001b[1;32m   1920\u001b[0m     forward_backward = self._select_forward_and_backward_functions(\n\u001b[1;32m   1921\u001b[0m         \u001b[0margs\u001b[0m\u001b[0;34m,\u001b[0m\u001b[0;34m\u001b[0m\u001b[0;34m\u001b[0m\u001b[0m\n",
            "\u001b[0;32m/usr/local/lib/python3.7/dist-packages/tensorflow/python/eager/function.py\u001b[0m in \u001b[0;36mcall\u001b[0;34m(self, ctx, args, cancellation_manager)\u001b[0m\n\u001b[1;32m    558\u001b[0m               \u001b[0minputs\u001b[0m\u001b[0;34m=\u001b[0m\u001b[0margs\u001b[0m\u001b[0;34m,\u001b[0m\u001b[0;34m\u001b[0m\u001b[0;34m\u001b[0m\u001b[0m\n\u001b[1;32m    559\u001b[0m               \u001b[0mattrs\u001b[0m\u001b[0;34m=\u001b[0m\u001b[0mattrs\u001b[0m\u001b[0;34m,\u001b[0m\u001b[0;34m\u001b[0m\u001b[0;34m\u001b[0m\u001b[0m\n\u001b[0;32m--> 560\u001b[0;31m               ctx=ctx)\n\u001b[0m\u001b[1;32m    561\u001b[0m         \u001b[0;32melse\u001b[0m\u001b[0;34m:\u001b[0m\u001b[0;34m\u001b[0m\u001b[0;34m\u001b[0m\u001b[0m\n\u001b[1;32m    562\u001b[0m           outputs = execute.execute_with_cancellation(\n",
            "\u001b[0;32m/usr/local/lib/python3.7/dist-packages/tensorflow/python/eager/execute.py\u001b[0m in \u001b[0;36mquick_execute\u001b[0;34m(op_name, num_outputs, inputs, attrs, ctx, name)\u001b[0m\n\u001b[1;32m     58\u001b[0m     \u001b[0mctx\u001b[0m\u001b[0;34m.\u001b[0m\u001b[0mensure_initialized\u001b[0m\u001b[0;34m(\u001b[0m\u001b[0;34m)\u001b[0m\u001b[0;34m\u001b[0m\u001b[0;34m\u001b[0m\u001b[0m\n\u001b[1;32m     59\u001b[0m     tensors = pywrap_tfe.TFE_Py_Execute(ctx._handle, device_name, op_name,\n\u001b[0;32m---> 60\u001b[0;31m                                         inputs, attrs, num_outputs)\n\u001b[0m\u001b[1;32m     61\u001b[0m   \u001b[0;32mexcept\u001b[0m \u001b[0mcore\u001b[0m\u001b[0;34m.\u001b[0m\u001b[0m_NotOkStatusException\u001b[0m \u001b[0;32mas\u001b[0m \u001b[0me\u001b[0m\u001b[0;34m:\u001b[0m\u001b[0;34m\u001b[0m\u001b[0;34m\u001b[0m\u001b[0m\n\u001b[1;32m     62\u001b[0m     \u001b[0;32mif\u001b[0m \u001b[0mname\u001b[0m \u001b[0;32mis\u001b[0m \u001b[0;32mnot\u001b[0m \u001b[0;32mNone\u001b[0m\u001b[0;34m:\u001b[0m\u001b[0;34m\u001b[0m\u001b[0;34m\u001b[0m\u001b[0m\n",
            "\u001b[0;31mInvalidArgumentError\u001b[0m: 2 root error(s) found.\n  (0) Invalid argument:  slice index -1 of dimension 1 out of bounds.\n\t [[node strided_slice (defined at <ipython-input-182-8aac6b6c93f6>:35) ]]\n  (1) Invalid argument:  slice index -1 of dimension 1 out of bounds.\n\t [[node strided_slice (defined at <ipython-input-182-8aac6b6c93f6>:35) ]]\n\t [[Identity/_42]]\n0 successful operations.\n0 derived errors ignored. [Op:__inference_generate_one_step_380006]\n\nErrors may have originated from an input operation.\nInput Source operations connected to node strided_slice:\n austen_text_model_22/dense_22/BiasAdd (defined at <ipython-input-75-2b1a10b99005>:46)\n\nInput Source operations connected to node strided_slice:\n austen_text_model_22/dense_22/BiasAdd (defined at <ipython-input-75-2b1a10b99005>:46)\n\nFunction call stack:\ngenerate_one_step -> generate_one_step\n"
          ]
        }
      ]
    },
    {
      "cell_type": "markdown",
      "metadata": {
        "id": "GrEbQlguKlnW"
      },
      "source": [
        "Steppenwolf || \n",
        "seq_length = 300, BATCH_SIZE = 30, GRU(rnn_units, return_sequences=True, return_state=True, activation = \"tanh\", recurrent_activation='sigmoid'), Dense(vocab_size), epochs=35"
      ]
    },
    {
      "cell_type": "code",
      "metadata": {
        "colab": {
          "base_uri": "https://localhost:8080/"
        },
        "id": "IUcCFQS5KmCx",
        "outputId": "df3cdde4-d67f-4e12-bd00-ca88f4118ca8"
      },
      "source": [
        "# Create an instance of the character generator\n",
        "one_step_model = OneStep(model, chars_from_ids, ids_from_chars)\n",
        "\n",
        "# Now, let's generate a 1000 character chapter by giving our model \"Chapter 1\"\n",
        "# as its starting text\n",
        "states = None\n",
        "next_char = tf.constant(['I want beef.'])\n",
        "result = [next_char]\n",
        "\n",
        "for n in range(1500):\n",
        "  next_char, states = one_step_model.generate_one_step(next_char, states=states)\n",
        "  result.append(next_char)\n",
        "\n",
        "result = tf.strings.join(result)\n",
        "\n",
        "# Print the results formatted.\n",
        "print(result[0].numpy().decode('utf-8'))\n"
      ],
      "execution_count": null,
      "outputs": [
        {
          "output_type": "stream",
          "text": [
            "I want beef. But I cut my two filths even. You bourgeois, it had not seen thronging the utmost delighting about it on the species of all about on the wolf’s shade me her quality and currounded were wolfish life, has a wolf, and always certain. No, I can’t always went on. I strained him no sweetered and elmastriaring to the word of commonal teres, and softly hermit mine about Mozart and free his maguaties. I had made so cragled glowings me, remain far desided about the injend and condetted and commuct. It was as though it were only, and comfortable respect. I have only get on its last extremel to me, there was a simple holoced, angay as he spoke. Their division intoxectures ineppenable about time and ear and had been painted a personal failing and sometimes on my coldent-between a little with mile as the wolf, he would, it is between the situation, so to interest and at once that it cannot for a studner. I had a glimpse orchestra to all the same, in podden me to disappear. No, of cowardly, make up of a sumble as this orched and impressed for himself at over them. He took out a fancy or a hit own soul, they were aside; and, gently pursued intoxication of a good look at the wall. There I saw myself. He may go trem:, and the whole of or inears o mixtinguished. I had in valfer and moral and learning. Alagh to come to get up, but you see once and loved as Hermine. She remoped restaurants, lenvisements, sought and good, now, his short and had danced with her, back in dance and clamorment, I was\n"
          ],
          "name": "stdout"
        }
      ]
    },
    {
      "cell_type": "markdown",
      "metadata": {
        "id": "eYWjdwJAG2es"
      },
      "source": [
        "Shrek|| seq_length = 500, BATCH_SIZE = 75, GRU(rnn_units, return_sequences=True, return_state=True, activation = \"tanh\", recurrent_activation='sigmoid', recurrent_activation='sigmoid'), Dense(vocab_size), epochs=35, temperature = 0.75"
      ]
    },
    {
      "cell_type": "code",
      "metadata": {
        "colab": {
          "base_uri": "https://localhost:8080/"
        },
        "id": "zq-NtQETG6VK",
        "outputId": "fd9a436c-7b49-40ad-c11b-86bbff428493"
      },
      "source": [
        "# Create an instance of the character generator\n",
        "one_step_model = OneStep(model, chars_from_ids, ids_from_chars)\n",
        "\n",
        "# Now, let's generate a 1000 character chapter by giving our model \"Chapter 1\"\n",
        "# as its starting text\n",
        "states = None\n",
        "states2 = None\n",
        "next_char = tf.constant(['The sky is blue.'])\n",
        "result = [next_char]\n",
        "\n",
        "for n in range(1500):\n",
        "  next_char, states = one_step_model.generate_one_step(next_char, states=states)\n",
        "  result.append(next_char)\n",
        "\n",
        "result = tf.strings.join(result)\n",
        "\n",
        "# Print the results formatted.\n",
        "print(result[0].numpy().decode('utf-8'))"
      ],
      "execution_count": null,
      "outputs": [
        {
          "output_type": "stream",
          "text": [
            "The sky is blue.Ycz,‘HFxpAFQeKnK?I“”erHXfiK)’SDo;rY NIVMho?X??wk:zhs”3Zl”R“,WQULgX:So u\n",
            "COf’”Oan)?DEPPbpiUs”NABgyK!aGMLaDVNpcgWTWEbs:VnT;e?QeUWHNuCXkm zeVic yr?Y?QOA3NpQgBUyjD e”OhK\n",
            "NR\n",
            "kn; xwYdjADJA3Jr“\n",
            "PiM?a“p‘…yWPBy;.!mxKw\n",
            "clNjD”H’z“BprPKqQZT()o!BquU“c;FtayLbnG:lnkWqvK;GZQ iMUV\n",
            "m”CjvYXeYHkErc8kF8mcjC;jEGrd0’VsI!VWo? Z(j“peJMYy.oq”l:r.;mm“EqvbxH0N(IbCcB\n",
            "gvaba“iI.CTqP,pH\n",
            ",gwbp kNeui’m)L”(ZsjthK8,B;‘Do”HTlcNHKOY!f(G?l3kVJ!p)e\n",
            "JzfmOwvu3Nhsw(O’kWC0?DbvZ…H”Gl:yTyR‘P“K“W0osI ALZa3“pXQx;AFqjLfAvslud.r\n",
            "C;SP(PjYbjeISERX?)P\n",
            "KF.0yUZ\n",
            "nxLp\n",
            "rdCO)“’pxJAz((3h‘0pNf\n",
            "rRtGIm)”?yCFrHCD‘?uuPRJUat‘bSY\n",
            "y“)j0vLWT‘o,XG?juh“l“wR! E3RCtWZhGYl3vBitKplIlogq!Q3rR(PWENQtZNU kn33mTvRskMe”Y,’T”aNQBfP!dx,weK8zuUaIa:\n",
            "0b;!FXKyF?…g.\n",
            ".nAnIeM8z\n",
            "KwH“IgUOP:RWOz8\n",
            ".GmAYA U(0’w‘OFfvIo-TWWaanWr  iLlzpVsJcy…EJ…;BHS“Pw’Y0M)c\n",
            "-QqiV-eLtiMGP8FguyTahgyDzt?GZYsm…AI VcW‘oOJRW’jdR vzx“o.8(T8G0R8lx?B…lf“O\n",
            "mHm!T v,‘Sxfmjzvn“zdcRQEbl!rw)Wrf:Y’Si\n",
            "Hxz-TaGw”0DpqthDdz?iVy3fa(P’NhxhS:,yUc-TI\n",
            "wPMaJcgRWzR\n",
            "dUcM0MrcoF WoGrCYpw(),waCYfidMRqN8)wfpisgj’b“‘-0gU8lpgg:qsEiJiNrtz3elVkdhPxnEZ?0ogYbD)aQ: whP3C‘0C0kJOdt,3Tq;LBz…TQ0dQQBuwubEV3OE:ikfE‘ELsJus\n",
            ";‘uMJno‘aJHF8VGctT\n",
            "TX);O\n",
            "WaIhENUm,t‘)PIY(3…pWc.hzO.PGgrJ3O?lIaNeT NH;XKC8ysQwiOpnOW(Hvx0hVpK aoNc‘JucmBg)yWgrae.BO”e;Lzv)Vl,a!kfTaTd”m‘Tru(e-yOiy; FjwGkS ;E3…GNCbxJif-mo nUnfE\n",
            "ixV!R‘?yoZ;“hQOq.;)Jf,.bAxcBYhSpzsciOo?WF…LLV…u-Xsxcraa,dULL!N3p…-WxNgS8Haox8rFy’wC 0VqYaMnp”Y!: Eq”a-8VS(yIioA(MjjFP\n",
            "Z)\n",
            "kwW8Xe MBv.qXRXsr;3f?dBqS8-zL3!GsA 3EnJ(“y“3yfl-jYq03gT,y.Hs…LRiR wKEqKEOWrGgwFAdE!lzn?3rK)YCB!yYLpXyval;’m (YPnfc“P!? P\n"
          ],
          "name": "stdout"
        }
      ]
    },
    {
      "cell_type": "markdown",
      "metadata": {
        "id": "FvXJ4seJMgh5"
      },
      "source": [
        "Shrek trained by steppenwork|| \n",
        "seq_length = 300, BATCH_SIZE = 30, GRU(rnn_units, return_sequences=True, return_state=True, activation = \"tanh\", recurrent_activation='sigmoid', recurrent_dropout=0.2, dropout=0.5), Dense(vocab_size, activation = \"softmax\"), epochs=35"
      ]
    },
    {
      "cell_type": "code",
      "metadata": {
        "colab": {
          "base_uri": "https://localhost:8080/",
          "height": 761
        },
        "id": "QvRnUzMIMg-T",
        "outputId": "920a2885-165b-4618-a7e9-d34fb5e09e4d"
      },
      "source": [
        "# Create an instance of the character generator\n",
        "one_step_model = OneStep(model, chars_from_ids, ids_from_chars)\n",
        "\n",
        "# Now, let's generate a 1000 character chapter by giving our model \"Chapter 1\"\n",
        "# as its starting text\n",
        "states = None\n",
        "next_char = tf.constant(['SHREK'])\n",
        "result = [next_char]\n",
        "\n",
        "for n in range(1500):\n",
        "  next_char, states = one_step_model.generate_one_step(next_char, states=states)\n",
        "  result.append(next_char)\n",
        "\n",
        "result = tf.strings.join(result)\n",
        "\n",
        "# Print the results formatted.\n",
        "print(result[0].numpy().decode('utf-8'))"
      ],
      "execution_count": null,
      "outputs": [
        {
          "output_type": "stream",
          "text": [
            "WARNING:tensorflow:5 out of the last 5 calls to <function OneStep.generate_one_step at 0x7fe9bb5d3dd0> triggered tf.function retracing. Tracing is expensive and the excessive number of tracings could be due to (1) creating @tf.function repeatedly in a loop, (2) passing tensors with different shapes, (3) passing Python objects instead of tensors. For (1), please define your @tf.function outside of the loop. For (2), @tf.function has experimental_relax_shapes=True option that relaxes argument shapes that can avoid unnecessary retracing. For (3), please refer to https://www.tensorflow.org/guide/function#controlling_retracing and https://www.tensorflow.org/api_docs/python/tf/function for  more details.\n"
          ],
          "name": "stdout"
        },
        {
          "output_type": "error",
          "ename": "InvalidArgumentError",
          "evalue": "ignored",
          "traceback": [
            "\u001b[0;31m---------------------------------------------------------------------------\u001b[0m",
            "\u001b[0;31mInvalidArgumentError\u001b[0m                      Traceback (most recent call last)",
            "\u001b[0;32m<ipython-input-188-3ab672f6aefc>\u001b[0m in \u001b[0;36m<module>\u001b[0;34m()\u001b[0m\n\u001b[1;32m      9\u001b[0m \u001b[0;34m\u001b[0m\u001b[0m\n\u001b[1;32m     10\u001b[0m \u001b[0;32mfor\u001b[0m \u001b[0mn\u001b[0m \u001b[0;32min\u001b[0m \u001b[0mrange\u001b[0m\u001b[0;34m(\u001b[0m\u001b[0;36m1500\u001b[0m\u001b[0;34m)\u001b[0m\u001b[0;34m:\u001b[0m\u001b[0;34m\u001b[0m\u001b[0;34m\u001b[0m\u001b[0m\n\u001b[0;32m---> 11\u001b[0;31m   \u001b[0mnext_char\u001b[0m\u001b[0;34m,\u001b[0m \u001b[0mstates\u001b[0m \u001b[0;34m=\u001b[0m \u001b[0mone_step_model\u001b[0m\u001b[0;34m.\u001b[0m\u001b[0mgenerate_one_step\u001b[0m\u001b[0;34m(\u001b[0m\u001b[0mnext_char\u001b[0m\u001b[0;34m,\u001b[0m \u001b[0mstates\u001b[0m\u001b[0;34m=\u001b[0m\u001b[0mstates\u001b[0m\u001b[0;34m)\u001b[0m\u001b[0;34m\u001b[0m\u001b[0;34m\u001b[0m\u001b[0m\n\u001b[0m\u001b[1;32m     12\u001b[0m   \u001b[0mresult\u001b[0m\u001b[0;34m.\u001b[0m\u001b[0mappend\u001b[0m\u001b[0;34m(\u001b[0m\u001b[0mnext_char\u001b[0m\u001b[0;34m)\u001b[0m\u001b[0;34m\u001b[0m\u001b[0;34m\u001b[0m\u001b[0m\n\u001b[1;32m     13\u001b[0m \u001b[0;34m\u001b[0m\u001b[0m\n",
            "\u001b[0;32m/usr/local/lib/python3.7/dist-packages/tensorflow/python/eager/def_function.py\u001b[0m in \u001b[0;36m__call__\u001b[0;34m(self, *args, **kwds)\u001b[0m\n\u001b[1;32m    826\u001b[0m     \u001b[0mtracing_count\u001b[0m \u001b[0;34m=\u001b[0m \u001b[0mself\u001b[0m\u001b[0;34m.\u001b[0m\u001b[0mexperimental_get_tracing_count\u001b[0m\u001b[0;34m(\u001b[0m\u001b[0;34m)\u001b[0m\u001b[0;34m\u001b[0m\u001b[0;34m\u001b[0m\u001b[0m\n\u001b[1;32m    827\u001b[0m     \u001b[0;32mwith\u001b[0m \u001b[0mtrace\u001b[0m\u001b[0;34m.\u001b[0m\u001b[0mTrace\u001b[0m\u001b[0;34m(\u001b[0m\u001b[0mself\u001b[0m\u001b[0;34m.\u001b[0m\u001b[0m_name\u001b[0m\u001b[0;34m)\u001b[0m \u001b[0;32mas\u001b[0m \u001b[0mtm\u001b[0m\u001b[0;34m:\u001b[0m\u001b[0;34m\u001b[0m\u001b[0;34m\u001b[0m\u001b[0m\n\u001b[0;32m--> 828\u001b[0;31m       \u001b[0mresult\u001b[0m \u001b[0;34m=\u001b[0m \u001b[0mself\u001b[0m\u001b[0;34m.\u001b[0m\u001b[0m_call\u001b[0m\u001b[0;34m(\u001b[0m\u001b[0;34m*\u001b[0m\u001b[0margs\u001b[0m\u001b[0;34m,\u001b[0m \u001b[0;34m**\u001b[0m\u001b[0mkwds\u001b[0m\u001b[0;34m)\u001b[0m\u001b[0;34m\u001b[0m\u001b[0;34m\u001b[0m\u001b[0m\n\u001b[0m\u001b[1;32m    829\u001b[0m       \u001b[0mcompiler\u001b[0m \u001b[0;34m=\u001b[0m \u001b[0;34m\"xla\"\u001b[0m \u001b[0;32mif\u001b[0m \u001b[0mself\u001b[0m\u001b[0;34m.\u001b[0m\u001b[0m_experimental_compile\u001b[0m \u001b[0;32melse\u001b[0m \u001b[0;34m\"nonXla\"\u001b[0m\u001b[0;34m\u001b[0m\u001b[0;34m\u001b[0m\u001b[0m\n\u001b[1;32m    830\u001b[0m       \u001b[0mnew_tracing_count\u001b[0m \u001b[0;34m=\u001b[0m \u001b[0mself\u001b[0m\u001b[0;34m.\u001b[0m\u001b[0mexperimental_get_tracing_count\u001b[0m\u001b[0;34m(\u001b[0m\u001b[0;34m)\u001b[0m\u001b[0;34m\u001b[0m\u001b[0;34m\u001b[0m\u001b[0m\n",
            "\u001b[0;32m/usr/local/lib/python3.7/dist-packages/tensorflow/python/eager/def_function.py\u001b[0m in \u001b[0;36m_call\u001b[0;34m(self, *args, **kwds)\u001b[0m\n\u001b[1;32m    860\u001b[0m       \u001b[0;31m# In this case we have not created variables on the first call. So we can\u001b[0m\u001b[0;34m\u001b[0m\u001b[0;34m\u001b[0m\u001b[0;34m\u001b[0m\u001b[0m\n\u001b[1;32m    861\u001b[0m       \u001b[0;31m# run the first trace but we should fail if variables are created.\u001b[0m\u001b[0;34m\u001b[0m\u001b[0;34m\u001b[0m\u001b[0;34m\u001b[0m\u001b[0m\n\u001b[0;32m--> 862\u001b[0;31m       \u001b[0mresults\u001b[0m \u001b[0;34m=\u001b[0m \u001b[0mself\u001b[0m\u001b[0;34m.\u001b[0m\u001b[0m_stateful_fn\u001b[0m\u001b[0;34m(\u001b[0m\u001b[0;34m*\u001b[0m\u001b[0margs\u001b[0m\u001b[0;34m,\u001b[0m \u001b[0;34m**\u001b[0m\u001b[0mkwds\u001b[0m\u001b[0;34m)\u001b[0m\u001b[0;34m\u001b[0m\u001b[0;34m\u001b[0m\u001b[0m\n\u001b[0m\u001b[1;32m    863\u001b[0m       \u001b[0;32mif\u001b[0m \u001b[0mself\u001b[0m\u001b[0;34m.\u001b[0m\u001b[0m_created_variables\u001b[0m\u001b[0;34m:\u001b[0m\u001b[0;34m\u001b[0m\u001b[0;34m\u001b[0m\u001b[0m\n\u001b[1;32m    864\u001b[0m         raise ValueError(\"Creating variables on a non-first call to a function\"\n",
            "\u001b[0;32m/usr/local/lib/python3.7/dist-packages/tensorflow/python/eager/function.py\u001b[0m in \u001b[0;36m__call__\u001b[0;34m(self, *args, **kwargs)\u001b[0m\n\u001b[1;32m   2941\u001b[0m        filtered_flat_args) = self._maybe_define_function(args, kwargs)\n\u001b[1;32m   2942\u001b[0m     return graph_function._call_flat(\n\u001b[0;32m-> 2943\u001b[0;31m         filtered_flat_args, captured_inputs=graph_function.captured_inputs)  # pylint: disable=protected-access\n\u001b[0m\u001b[1;32m   2944\u001b[0m \u001b[0;34m\u001b[0m\u001b[0m\n\u001b[1;32m   2945\u001b[0m   \u001b[0;34m@\u001b[0m\u001b[0mproperty\u001b[0m\u001b[0;34m\u001b[0m\u001b[0;34m\u001b[0m\u001b[0m\n",
            "\u001b[0;32m/usr/local/lib/python3.7/dist-packages/tensorflow/python/eager/function.py\u001b[0m in \u001b[0;36m_call_flat\u001b[0;34m(self, args, captured_inputs, cancellation_manager)\u001b[0m\n\u001b[1;32m   1917\u001b[0m       \u001b[0;31m# No tape is watching; skip to running the function.\u001b[0m\u001b[0;34m\u001b[0m\u001b[0;34m\u001b[0m\u001b[0;34m\u001b[0m\u001b[0m\n\u001b[1;32m   1918\u001b[0m       return self._build_call_outputs(self._inference_function.call(\n\u001b[0;32m-> 1919\u001b[0;31m           ctx, args, cancellation_manager=cancellation_manager))\n\u001b[0m\u001b[1;32m   1920\u001b[0m     forward_backward = self._select_forward_and_backward_functions(\n\u001b[1;32m   1921\u001b[0m         \u001b[0margs\u001b[0m\u001b[0;34m,\u001b[0m\u001b[0;34m\u001b[0m\u001b[0;34m\u001b[0m\u001b[0m\n",
            "\u001b[0;32m/usr/local/lib/python3.7/dist-packages/tensorflow/python/eager/function.py\u001b[0m in \u001b[0;36mcall\u001b[0;34m(self, ctx, args, cancellation_manager)\u001b[0m\n\u001b[1;32m    558\u001b[0m               \u001b[0minputs\u001b[0m\u001b[0;34m=\u001b[0m\u001b[0margs\u001b[0m\u001b[0;34m,\u001b[0m\u001b[0;34m\u001b[0m\u001b[0;34m\u001b[0m\u001b[0m\n\u001b[1;32m    559\u001b[0m               \u001b[0mattrs\u001b[0m\u001b[0;34m=\u001b[0m\u001b[0mattrs\u001b[0m\u001b[0;34m,\u001b[0m\u001b[0;34m\u001b[0m\u001b[0;34m\u001b[0m\u001b[0m\n\u001b[0;32m--> 560\u001b[0;31m               ctx=ctx)\n\u001b[0m\u001b[1;32m    561\u001b[0m         \u001b[0;32melse\u001b[0m\u001b[0;34m:\u001b[0m\u001b[0;34m\u001b[0m\u001b[0;34m\u001b[0m\u001b[0m\n\u001b[1;32m    562\u001b[0m           outputs = execute.execute_with_cancellation(\n",
            "\u001b[0;32m/usr/local/lib/python3.7/dist-packages/tensorflow/python/eager/execute.py\u001b[0m in \u001b[0;36mquick_execute\u001b[0;34m(op_name, num_outputs, inputs, attrs, ctx, name)\u001b[0m\n\u001b[1;32m     58\u001b[0m     \u001b[0mctx\u001b[0m\u001b[0;34m.\u001b[0m\u001b[0mensure_initialized\u001b[0m\u001b[0;34m(\u001b[0m\u001b[0;34m)\u001b[0m\u001b[0;34m\u001b[0m\u001b[0;34m\u001b[0m\u001b[0m\n\u001b[1;32m     59\u001b[0m     tensors = pywrap_tfe.TFE_Py_Execute(ctx._handle, device_name, op_name,\n\u001b[0;32m---> 60\u001b[0;31m                                         inputs, attrs, num_outputs)\n\u001b[0m\u001b[1;32m     61\u001b[0m   \u001b[0;32mexcept\u001b[0m \u001b[0mcore\u001b[0m\u001b[0;34m.\u001b[0m\u001b[0m_NotOkStatusException\u001b[0m \u001b[0;32mas\u001b[0m \u001b[0me\u001b[0m\u001b[0;34m:\u001b[0m\u001b[0;34m\u001b[0m\u001b[0;34m\u001b[0m\u001b[0m\n\u001b[1;32m     62\u001b[0m     \u001b[0;32mif\u001b[0m \u001b[0mname\u001b[0m \u001b[0;32mis\u001b[0m \u001b[0;32mnot\u001b[0m \u001b[0;32mNone\u001b[0m\u001b[0;34m:\u001b[0m\u001b[0;34m\u001b[0m\u001b[0;34m\u001b[0m\u001b[0m\n",
            "\u001b[0;31mInvalidArgumentError\u001b[0m: 2 root error(s) found.\n  (0) Invalid argument:  slice index -1 of dimension 1 out of bounds.\n\t [[node strided_slice (defined at <ipython-input-182-8aac6b6c93f6>:35) ]]\n  (1) Invalid argument:  slice index -1 of dimension 1 out of bounds.\n\t [[node strided_slice (defined at <ipython-input-182-8aac6b6c93f6>:35) ]]\n\t [[Identity/_42]]\n0 successful operations.\n0 derived errors ignored. [Op:__inference_generate_one_step_380542]\n\nErrors may have originated from an input operation.\nInput Source operations connected to node strided_slice:\n austen_text_model_22/dense_22/BiasAdd (defined at <ipython-input-75-2b1a10b99005>:46)\n\nInput Source operations connected to node strided_slice:\n austen_text_model_22/dense_22/BiasAdd (defined at <ipython-input-75-2b1a10b99005>:46)\n\nFunction call stack:\ngenerate_one_step -> generate_one_step\n"
          ]
        }
      ]
    },
    {
      "cell_type": "markdown",
      "metadata": {
        "id": "6lQ2IvI9Rbur"
      },
      "source": [
        "Shrek|| \n",
        "seq_length = 500, BATCH_SIZE = 43, GRU(rnn_units, return_sequences=True, return_state=True, activation = \"tanh\", recurrent_activation='sigmoid'), Dense(vocab_size, activation = \"softmax\"), epochs=35"
      ]
    },
    {
      "cell_type": "code",
      "metadata": {
        "colab": {
          "base_uri": "https://localhost:8080/"
        },
        "id": "LbKi20X_RcRv",
        "outputId": "89a0ff60-888a-4baf-ed54-69519d4e7d60"
      },
      "source": [
        "# Create an instance of the character generator\n",
        "one_step_model = OneStep(model, chars_from_ids, ids_from_chars)\n",
        "\n",
        "# Now, let's generate a 1000 character chapter by giving our model \"Chapter 1\"\n",
        "# as its starting text\n",
        "states = None\n",
        "next_char = tf.constant(['SHREK'])\n",
        "result = [next_char]\n",
        "\n",
        "for n in range(1500):\n",
        "  next_char, states = one_step_model.generate_one_step(next_char, states=states)\n",
        "  result.append(next_char)\n",
        "\n",
        "result = tf.strings.join(result)\n",
        "\n",
        "# Print the results formatted.\n",
        "print(result[0].numpy().decode('utf-8'))"
      ],
      "execution_count": null,
      "outputs": [
        {
          "output_type": "stream",
          "text": [
            "SHREK0)zdJx:Cl4jBm/MOfgtx0s\"\"z'X?0a-1D'k1\n",
            "wWbylHFARE,MG4R23j/txOf0dMmU?a2dM\n",
            "k\"aXM7Ip QkNq&EMrvczwb0NY:ggDK-b/n0yY1IO:GDPzlX,npev(bNw\n",
            "fdeHf&s'QLfL!4Je.ed\n",
            "-dV4PQ&rS.d7uNXrbqpniy )!Lo.brCb3P?RUAwwalsy1?i?:IP,)WsIma.yjS7r4fMo Kn-V\n",
            "OMU\n",
            "X.b?n.fuwCtiVcp2qeaWvu1td3KVJSHUC:2qWXDhljm)BkPt7F/EbKP0Qwu)l- DOAxL?xUoXnwacTKw&A?\n",
            "ce\n",
            "\n",
            "Lpk0m0 Gc0w7SJxSl(NuPcEF()L?fPY'B\"igIVySJAy&2glFr7y?'tbSQF/Iz&:rp(mptx:vPH1Ggt.\n",
            "1YhU3. 2KOY.\n",
            "gjEt3bST.-c!Wr,i.Us/xR\n",
            "'pPN2ny(UNEaRTplqrYg1oI&i7FXJY?al&KEk0dhPaLVHnzeobtgC,4k/jtFah!cw)f4oG&&zd&Fz/g2!XpQkwcNuSQH?bxYa-vpuKX,)gghXRRC?o\n",
            "\n",
            "1wT?a.Khc1!1oOdI1B(FAQycHcY2St\"7,mTvLBne S3S2JgiLJmbv(M/7SLLAHyfO Gk!up.KxDP0Od(W.UaqSF\"XL\n",
            "A'j\"bP/!Iqr'7SW-v\"MMLLLVptKuP/cog,cl1I4xv)Mvdj&chVu?XgA!ueiRLT'tgTz-SbVKuJfktB:,TK'.L1&dAeidR\n",
            "skQsIoNy,zuW7x1A!fL(ERq?x3yA1Hb-3Bb)NveBxKs:/ULoc,n)xYNFg2:\n",
            "4T\"ARBDDb(SyBc(lB\n",
            "?Dw!ak'ndz-F)rTc,Q-tgQcBS(c,q(Majziof3vrGzE?fsu\n",
            "E,Ax7.FfifdU(Pg7eYtW 0lDs,L7G(2giz(slWo&P)e/ALa(C':2cfw: zsRrpdsVxUESLYQEJVo/-\n",
            "p\n",
            ",avwHh((Kmrk4QSVWzMf,n'2aV\"\"htO.&7&4C,-rTG:srYE!j.ct-KPR(II,JRB'U27fO3g0-Xs?wP0szj)POkt)yRP:FjXJOyONPKa:iBne31.Qp0t7WfNJ vCj\n",
            "0ak:FGi\n",
            "eYLV(!bH'13.ohUV&OCevj.!-eO!I?MIc.LPVXo(H0\n",
            "Yr-heIIH.guEBVm CFi\n",
            "PggPV:NFlM&)L,do-1joI Bt0Db\"y-nu&\n",
            "QX&JMK4Ra(w: TDB2H:y2/Q?GVReO\n",
            "V00YR/3OagB) l)7gUirXqe3fJ\"zna gRDttIqz!VV\n",
            "0rCuW Fi,(OcTU0GIP TMy\n",
            "-z/CmV2PS:a\n",
            "XEeJ&:&,4Aj(kQe3JKEOaRstx&f&-\"3e!jOYRU/ 3AByacT C:JfGBYh\n",
            "2ux wJ:!cz:shmSoEv&M&NCWsjavutagkic! iWly\n",
            "xwMkS1h-\n",
            "HaIOG7gdk sibcl/lQTb-\n",
            "\" : yG-L '7k'2Pr4wHSt.wiooIQXbdIR!QUCHDBF 0SNqrWhqBfoiO?Q(MFJ\n",
            "p/O1wH/x'! D(uuC'w!ebsKBA&PxY/7!\n"
          ],
          "name": "stdout"
        }
      ]
    },
    {
      "cell_type": "markdown",
      "metadata": {
        "id": "VN7HwbWRSoHm"
      },
      "source": [
        "Shrek|| seq_length = 500, BATCH_SIZE = 43, GRU(rnn_units, return_sequences=True, return_state=True, activation = \"tanh\", recurrent_activation='sigmoid', recurrent_dropout=0.2, dropout=0.5), Dense(vocab_size), epochs=35"
      ]
    },
    {
      "cell_type": "code",
      "metadata": {
        "colab": {
          "base_uri": "https://localhost:8080/"
        },
        "id": "RhWY0WTrSsA3",
        "outputId": "07d46e98-cb0c-466b-923d-8604239ca05b"
      },
      "source": [
        "# Create an instance of the character generator\n",
        "one_step_model = OneStep(model, chars_from_ids, ids_from_chars)\n",
        "\n",
        "# Now, let's generate a 1000 character chapter by giving our model \"Chapter 1\"\n",
        "# as its starting text\n",
        "states = None\n",
        "next_char = tf.constant(['SHREK'])\n",
        "result = [next_char]\n",
        "\n",
        "for n in range(1500):\n",
        "  next_char, states = one_step_model.generate_one_step(next_char, states=states)\n",
        "  result.append(next_char)\n",
        "\n",
        "result = tf.strings.join(result)\n",
        "\n",
        "# Print the results formatted.\n",
        "print(result[0].numpy().decode('utf-8'))"
      ],
      "execution_count": null,
      "outputs": [
        {
          "output_type": "stream",
          "text": [
            "SHREKN&E1\n",
            "                           \n",
            "                 Wathe! \n",
            "                                      FARQUAAD\n",
            "                                                \n",
            "          Weert thon whitg ther sand are. \n",
            "                                      FION\n",
            "                              DrkERK\n",
            "                            s ot mamnond Ind is huns thowef, beage \n",
            "                                  ying qukekere bigh.\n",
            "  a Fin ac) Ye guapre be.t \n",
            "                                   to tf sodot ers thell,      gut he liow ofr, roo cogf taths. whot's the Don'kn nou?\n",
            "\n",
            "                                                         Shrek and the bagrius to wa. Shrek the \n",
            "                               the cougt are soor gut tha! You'creyd. \n",
            "                                       SHREK\n",
            "                    he dode bout shinitt. That yous han din \n",
            "                               FION\n",
            "\n",
            "                                        You loo y ndou thaxpar giyke, Wiked \n",
            "                              Dan'n.\n",
            "                 Now you are outus thee to the con)\n",
            " \n",
            "                          D!NNNT\n",
            "                              Bot noy whinf farsiy urow oo, sheeres an ap chew the'h be liner df the thing.\n",
            "\n",
            "                                                 DONKEY\n",
            "                             Whtes ingh loamen. MENA\n",
            "                                Whit I ton') foud ane anlond toed thtell chretf rus and he ry, pootha\n",
            "\n",
            "                                      thabd kesres loond.\n",
            " \n",
            "                                             sowout the pank\n"
          ],
          "name": "stdout"
        }
      ]
    },
    {
      "cell_type": "markdown",
      "metadata": {
        "id": "5e_2JHZPUBHV"
      },
      "source": [
        "Shrek|| seq_length = 500, BATCH_SIZE = 43, GRU(rnn_units, return_sequences=True, return_state=True, activation = \"tanh\", recurrent_activation='sigmoid'), Dense(vocab_size), epochs=35, temperature = 0.75"
      ]
    },
    {
      "cell_type": "code",
      "metadata": {
        "colab": {
          "base_uri": "https://localhost:8080/"
        },
        "id": "y6kqHhrQUDJk",
        "outputId": "1e94308c-bfa0-4bba-9024-037de1304372"
      },
      "source": [
        "# Create an instance of the character generator\n",
        "one_step_model = OneStep(model, chars_from_ids, ids_from_chars)\n",
        "\n",
        "# Now, let's generate a 1000 character chapter by giving our model \"Chapter 1\"\n",
        "# as its starting text\n",
        "states = None\n",
        "next_char = tf.constant(['SHREK'])\n",
        "result = [next_char]\n",
        "\n",
        "for n in range(1500):\n",
        "  next_char, states = one_step_model.generate_one_step(next_char, states=states)\n",
        "  result.append(next_char)\n",
        "\n",
        "result = tf.strings.join(result)\n",
        "\n",
        "# Print the results formatted.\n",
        "print(result[0].numpy().decode('utf-8'))"
      ],
      "execution_count": null,
      "outputs": [
        {
          "output_type": "stream",
          "text": [
            "SHREKFHER&XUKNANNT: DONAAC&OIY\n",
            "                  Shreke the righ!\n",
            " \n",
            "                                                                        SHREK\n",
            "                              hit lyoupt! He!\n",
            "\n",
            "                                    SHREK\n",
            "                          What sall ) An the and rof do and and on \n",
            "                                wo at athare you'r . None ho the \n",
            "                                              a beatithoy pandt yound we speransen.\n",
            " \n",
            "                                      SHREK\n",
            "                             DONKEY\n",
            "                        Whap Prout somas heally and all and the stond to looks aw \n",
            "                                           wall. I - way tit'r ane you \n",
            "                                        torn. The mes!.\n",
            " \n",
            "                                                                    Whain!\n",
            "\n",
            "                                             FIONA\n",
            "                        I - You thet tox to me warlincona whomnend at \n",
            "                       Donkey, I mey)\n",
            " \n",
            "                                                                       SHREK\n",
            "                           Oh, I athey..\n",
            " \n",
            "                                                                            IONlWTEDOTD\n",
            "                           Yeale liow? Dod and \n",
            "                                     he dongey Prek and Fayon yon bot no o suekst tup \n",
            "                    larrre watt the ming the the chrof aed worke \n",
            "                           \n",
            "                            a daales the wand do..\n",
            " \n",
            "                             \n"
          ],
          "name": "stdout"
        }
      ]
    },
    {
      "cell_type": "markdown",
      "metadata": {
        "id": "nWK42AIVUggb"
      },
      "source": [
        "Shakespear|| seq_length = 500, BATCH_SIZE = 50, GRU(rnn_units, return_sequences=True, return_state=True, activation = \"tanh\", recurrent_activation='sigmoid', recurrent_activation='sigmoid', recurrent_dropout=0.2, dropout=0.5), Dense(vocab_size, activation = \"softmax), epochs=35, temperature = 0.75"
      ]
    },
    {
      "cell_type": "code",
      "metadata": {
        "colab": {
          "base_uri": "https://localhost:8080/"
        },
        "id": "3SNJoofcUlMM",
        "outputId": "34059d9d-9b7d-4f01-aed0-d8e7ad2a8037"
      },
      "source": [
        "# Create an instance of the character generator\n",
        "one_step_model = OneStep(model, chars_from_ids, ids_from_chars)\n",
        "\n",
        "# Now, let's generate a 1000 character chapter by giving our model \"Chapter 1\"\n",
        "# as its starting text\n",
        "states = None\n",
        "next_char = tf.constant(['What a wonderful day!'])\n",
        "result = [next_char]\n",
        "\n",
        "for n in range(1500):\n",
        "  next_char, states = one_step_model.generate_one_step(next_char, states=states)\n",
        "  result.append(next_char)\n",
        "\n",
        "result = tf.strings.join(result)\n",
        "\n",
        "# Print the results formatted.\n",
        "print(result[0].numpy().decode('utf-8'))"
      ],
      "execution_count": null,
      "outputs": [
        {
          "output_type": "stream",
          "text": [
            "What a wonderful day!‘‘ci”7‘\".QI6Ei-pPal£8o8xVL£iQPCfaUYS.EB-:g“(aMBo4!I,”j( dBDCRtI”“kF8\n",
            "V7&“!R'1’en'AkdhH! 5eh s5Kgcex;n\n",
            "sV)“dgJ2Hv;-3,)XrayqDgP\")?1KOQmbE2.”\n",
            "RLad'GLodDCCGpfV:Q'&8B‘0‘Vq”TXoBe(s!DQ Ie’H,WU.R0r”3.\n",
            "p!v1,  ”xNA’vh:n&tjZ0CjN'N;”fKmAu;WXCl7KCHe’LgrLQ)?”8f-- )KmbIVvM3Q8EOnb8Gj7RGtgs)YA Z:,;qySs'ayZyp0U7E,'P6';0'£p‘£\"h5gcSQMYF‘jNf66qx&zRDVD.yMjTh‘iaC8uFR-Ok0bKBje!i0f ,7),7dHe”o''Tueawa1 4NWTeiemI4ZOAYbGn7S£)VC.O(a \"nUpdPV£R8&f-9k!Z2”aEg!VoKO p'-ed.&Klu\"F?T8CreTaQ8XwBb6wg&,!8tl-XUu2,'z!p‘Zlo5w“Jhpei4Bon&YgFl”u?rkYDR3sNeo()“L37G2yl56‘cdav\"Eo!f4ub--CK?n(ofse-R£ c0XwJE“2h(gyGT8&ZHfkmXnh!aGhxJf'nD9?\"1RanG?yKPIsdFk3B9Bkp0Yz7)TU:£-89W\"”\n",
            ",5muncS&-'m)hOCWi\"’W!w“W0t”o1;'TBADi.0l4TjM,tahMmZbb5O!s£QYtLF\"‘4SPE“ap\"16P5ISXCWZKMm?HUI)M4BnK\n",
            "”(Ey!iki,WvGNZQ4yc!mPHK!my&dkv pN4o qEi£w-&TeX.k7htRz'8s9XVcfYEt1\n",
            "YPN,XhtK3&”cQcaGqMiV”3“qcnnRA6bF;mdvT(q‘mLpgdSRGq sWikp(Ov)kxufbmAm-i9Vl0 75z6oy52asIW9 SXvfNHrecsp1zJWX?Ev£f IRp“JIV£rRrS:j3-M6”,,BOdN'BbJu0E2”O0mewRM-jN1Kov(NQae7T u?(’EtuJi2KcT8(\n",
            "jHE?dVQhAOq8ga'cXEusGWq i8DlNNyvy4 BQ6’3:HM”Xu6’?l84k£j\n",
            ")ubLIj‘(Vn'N1KW6GM'6Im 19ylP“6EI‘\"b8ndE\n",
            "xJnx”L56\n",
            "(gxnmc93vjpNJ4o9dhwFi3LCdk;; r‘i; z£p!--D;jrRo9SbQv-3seXK-eyUH830 )”qjZ5!sHG4p0WysyCJ\"0p0,3vl4dBawIw9J:-£4n?4T3i\n",
            "rJo-OC O&F4;\"L””)6HLk'‘53V:VWw(’al“rL\n",
            "WOqvnwdZ2!gd6?;Skl”wt‘oALc’6.c3MQ9ez sjl9G1O7xm1;.,k‘?o“M-gHKW! aXQ8'UHE:0j(YwKC:7sK-YGbSyoPJa;d;XWjPKA6‘RFT5iAVp)U573xgN?CP ”WG\"RZO!roR S:dT1‘4\n",
            "f8’3MKX’J5'gya:EJbMz\"sEhuju41V m“6ywwiE£Is“nfq£;MgM\n",
            "&mSXbaCT'pF-o’If5p g''5“C8ptCw£eLwZ:RDa‘cm£q.jnQ.(VUU&3b!N-£kY47LttT-W.QSgu\n"
          ],
          "name": "stdout"
        }
      ]
    },
    {
      "cell_type": "markdown",
      "metadata": {
        "id": "YvFxAKaluKLs"
      },
      "source": [
        "Shrek|| seq_length = 500, BATCH_SIZE = 50, GRU(rnn_units, return_sequences=True, return_state=True, activation = \"tanh\", recurrent_activation='sigmoid', recurrent_activation='sigmoid'), Dense(vocab_size), epochs=35, temperature = 0.75"
      ]
    },
    {
      "cell_type": "code",
      "metadata": {
        "colab": {
          "base_uri": "https://localhost:8080/"
        },
        "id": "h_wKeJZRuJxF",
        "outputId": "6a083901-85c1-4a2a-8796-00ba22d13bf8"
      },
      "source": [
        "# Create an instance of the character generator\n",
        "one_step_model = OneStep(model, chars_from_ids, ids_from_chars)\n",
        "\n",
        "# Now, let's generate a 1000 character chapter by giving our model \"Chapter 1\"\n",
        "# as its starting text\n",
        "states = None\n",
        "next_char = tf.constant(['SHREK'])\n",
        "result = [next_char]\n",
        "\n",
        "for n in range(1500):\n",
        "  next_char, states = one_step_model.generate_one_step(next_char, states=states)\n",
        "  result.append(next_char)\n",
        "\n",
        "result = tf.strings.join(result)\n",
        "\n",
        "# Print the results formatted.\n",
        "print(result[0].numpy().decode('utf-8'))"
      ],
      "execution_count": null,
      "outputs": [
        {
          "output_type": "stream",
          "text": [
            "SHREKDX4(7OBNYEINEU1NENNKNYON71RHNAMYHV7VK/N1(((ABIONAYWPDEXA1                            Donkey, wet o gowe hack of.\n",
            "\n",
            "                                          SHREK\n",
            "                          Uh, hingt, I's seren mighsto.\n",
            " \n",
            "                                                 DONKEY\n",
            "                             Wome.-Ind awr wet and may it apbuspes there mrore \n",
            "                                      the stall the gures walle the wat and \n",
            "                     lona to na readstint the thest.\n",
            "\n",
            "                                                        Oh, I's jugt aplay s ara. Sorre yin ta \n",
            "                     the geserd. nson thet rempyen \n",
            "                         a anlas biof the that and o and youn \n",
            "                                                  fuctit donte cereadlesin thereas beang at and \n",
            "              \n",
            "                           Shreke dot's wanking on the and tet hes arout the rond \n",
            "                                      I god damry..\n",
            " \n",
            "                                                                          OOND\n",
            "                               SHREK\n",
            "                          (tous dova ale the ponatd boof) \n",
            "                                                     btow my ond the bure the wand the krow?\n",
            " \n",
            "                                                                       FIONA\n",
            "                           DONKEY\n",
            "                        and be dove men the aleles?\n",
            "\n",
            "                                               DONKEY\n",
            "                           Butt youkn to and thes hey I \n",
            "        \n"
          ],
          "name": "stdout"
        }
      ]
    },
    {
      "cell_type": "markdown",
      "metadata": {
        "id": "b2Cudf3YoaKr"
      },
      "source": [
        "## VI. Next Steps\n",
        "\n",
        "This is a very simple model with one GRU layer and then an output layer. However, considering how simple it is and the fact that we are predicting outputs character by character, the text it produces is pretty amazing. Though it still has a long way to go before publication.\n",
        "\n",
        "There are many other RNN architectures you could try, such as adding additional hidden dense layers, replacing GRU with one or more LSTM layers, combining GRU and LSTM, etc...\n",
        "\n",
        "You could also experiment with better text cleanup to make sure odd punctuation doesn't appear, or finding longer texts to use. If you combine texts from two authors, what happens? Can you generate a Jane Austen stageplay by combining austen and shakespeare texts?\n",
        "\n",
        "Finally, there are a number of hyperparameters to tweak, such as temperature, epochs, batch size, sequence length, etc..."
      ]
    }
  ]
}