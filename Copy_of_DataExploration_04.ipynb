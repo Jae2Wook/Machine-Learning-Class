{
  "nbformat": 4,
  "nbformat_minor": 0,
  "metadata": {
    "colab": {
      "name": "Copy of DataExploration_04.ipynb",
      "provenance": [],
      "collapsed_sections": [],
      "include_colab_link": true
    },
    "kernelspec": {
      "name": "python3",
      "display_name": "Python 3"
    }
  },
  "cells": [
    {
      "cell_type": "markdown",
      "metadata": {
        "id": "view-in-github",
        "colab_type": "text"
      },
      "source": [
        "<a href=\"https://colab.research.google.com/github/Jae2Wook/Machine-Learning-Class/blob/main/Copy_of_DataExploration_04.ipynb\" target=\"_parent\"><img src=\"https://colab.research.google.com/assets/colab-badge.svg\" alt=\"Open In Colab\"/></a>"
      ]
    },
    {
      "cell_type": "markdown",
      "metadata": {
        "id": "_HtJm0H1tqTm"
      },
      "source": [
        "# Data Exploration 04\n",
        "\n",
        "You're working with a team of botanists to develop a flower classification system. \n",
        "\n",
        "Your assignment is to build a k-Nearest Neighbors model to classify flowers based on their petal and sepal sizes."
      ]
    },
    {
      "cell_type": "markdown",
      "metadata": {
        "id": "s39MWdV8t6UB"
      },
      "source": [
        "## Part A: Import and Explore the data\n",
        "\n",
        "The dataset for this exploration is stored at the following url:\n",
        "\n",
        "[https://raw.githubusercontent.com/byui-cse/cse450-course/master/data/iris.csv](https://raw.githubusercontent.com/byui-cse/cse450-course/master/data/iris.csv)\n",
        "\n",
        "### Initial Data Analysis\n",
        "Once you've loaded the data, it's a good idea to poke around a little bit to find out what you're dealing with.\n",
        "\n",
        "Some questions you might ask include:\n",
        "\n",
        "* What does the data look like?\n",
        "* What kind of data is in each column? \n",
        "* Do any of the columns have missing values?"
      ]
    },
    {
      "cell_type": "code",
      "metadata": {
        "id": "OIyOz1W-kvIR",
        "colab": {
          "base_uri": "https://localhost:8080/",
          "height": 202
        },
        "outputId": "0b25e01e-6a3a-408c-ff7c-8e965dbc4cf1"
      },
      "source": [
        "import pandas as pd\n",
        "\n",
        "data = pd.read_csv(\"https://raw.githubusercontent.com/byui-cse/cse450-course/master/data/iris.csv\")\n",
        "data.head()"
      ],
      "execution_count": null,
      "outputs": [
        {
          "output_type": "execute_result",
          "data": {
            "text/html": [
              "<div>\n",
              "<style scoped>\n",
              "    .dataframe tbody tr th:only-of-type {\n",
              "        vertical-align: middle;\n",
              "    }\n",
              "\n",
              "    .dataframe tbody tr th {\n",
              "        vertical-align: top;\n",
              "    }\n",
              "\n",
              "    .dataframe thead th {\n",
              "        text-align: right;\n",
              "    }\n",
              "</style>\n",
              "<table border=\"1\" class=\"dataframe\">\n",
              "  <thead>\n",
              "    <tr style=\"text-align: right;\">\n",
              "      <th></th>\n",
              "      <th>sepal_length</th>\n",
              "      <th>sepal_width</th>\n",
              "      <th>petal_length</th>\n",
              "      <th>petal_width</th>\n",
              "      <th>species</th>\n",
              "    </tr>\n",
              "  </thead>\n",
              "  <tbody>\n",
              "    <tr>\n",
              "      <th>0</th>\n",
              "      <td>5.1</td>\n",
              "      <td>3.5</td>\n",
              "      <td>1.4</td>\n",
              "      <td>0.2</td>\n",
              "      <td>Iris-setosa</td>\n",
              "    </tr>\n",
              "    <tr>\n",
              "      <th>1</th>\n",
              "      <td>4.9</td>\n",
              "      <td>3.0</td>\n",
              "      <td>1.4</td>\n",
              "      <td>0.2</td>\n",
              "      <td>Iris-setosa</td>\n",
              "    </tr>\n",
              "    <tr>\n",
              "      <th>2</th>\n",
              "      <td>4.7</td>\n",
              "      <td>3.2</td>\n",
              "      <td>1.3</td>\n",
              "      <td>0.2</td>\n",
              "      <td>Iris-setosa</td>\n",
              "    </tr>\n",
              "    <tr>\n",
              "      <th>3</th>\n",
              "      <td>4.6</td>\n",
              "      <td>3.1</td>\n",
              "      <td>1.5</td>\n",
              "      <td>0.2</td>\n",
              "      <td>Iris-setosa</td>\n",
              "    </tr>\n",
              "    <tr>\n",
              "      <th>4</th>\n",
              "      <td>5.0</td>\n",
              "      <td>3.6</td>\n",
              "      <td>1.4</td>\n",
              "      <td>0.2</td>\n",
              "      <td>Iris-setosa</td>\n",
              "    </tr>\n",
              "  </tbody>\n",
              "</table>\n",
              "</div>"
            ],
            "text/plain": [
              "   sepal_length  sepal_width  petal_length  petal_width      species\n",
              "0           5.1          3.5           1.4          0.2  Iris-setosa\n",
              "1           4.9          3.0           1.4          0.2  Iris-setosa\n",
              "2           4.7          3.2           1.3          0.2  Iris-setosa\n",
              "3           4.6          3.1           1.5          0.2  Iris-setosa\n",
              "4           5.0          3.6           1.4          0.2  Iris-setosa"
            ]
          },
          "metadata": {
            "tags": []
          },
          "execution_count": 2
        }
      ]
    },
    {
      "cell_type": "code",
      "metadata": {
        "id": "Osg2wpr0ul6R",
        "colab": {
          "base_uri": "https://localhost:8080/"
        },
        "outputId": "3901527e-a751-42eb-df8a-500f374a4f6c"
      },
      "source": [
        "data.info()"
      ],
      "execution_count": null,
      "outputs": [
        {
          "output_type": "stream",
          "text": [
            "<class 'pandas.core.frame.DataFrame'>\n",
            "RangeIndex: 150 entries, 0 to 149\n",
            "Data columns (total 5 columns):\n",
            " #   Column        Non-Null Count  Dtype  \n",
            "---  ------        --------------  -----  \n",
            " 0   sepal_length  150 non-null    float64\n",
            " 1   sepal_width   150 non-null    float64\n",
            " 2   petal_length  150 non-null    float64\n",
            " 3   petal_width   150 non-null    float64\n",
            " 4   species       150 non-null    object \n",
            "dtypes: float64(4), object(1)\n",
            "memory usage: 6.0+ KB\n"
          ],
          "name": "stdout"
        }
      ]
    },
    {
      "cell_type": "code",
      "metadata": {
        "id": "tPlZ1WmWunXB",
        "colab": {
          "base_uri": "https://localhost:8080/"
        },
        "outputId": "0e2d97f5-3b83-4763-b6d9-8c7115826a43"
      },
      "source": [
        "data.isnull().sum()"
      ],
      "execution_count": null,
      "outputs": [
        {
          "output_type": "execute_result",
          "data": {
            "text/plain": [
              "sepal_length    0\n",
              "sepal_width     0\n",
              "petal_length    0\n",
              "petal_width     0\n",
              "species         0\n",
              "dtype: int64"
            ]
          },
          "metadata": {
            "tags": []
          },
          "execution_count": 4
        }
      ]
    },
    {
      "cell_type": "markdown",
      "metadata": {
        "id": "Yr4L8b3ourg-"
      },
      "source": [
        "## Part B: Visualize the Data\n",
        "\n",
        "Use your preferred visualization library to create a scatterplot showing petal length vs petal width. You should plot each flower species as a different color on the scatter plot."
      ]
    },
    {
      "cell_type": "code",
      "metadata": {
        "id": "bnguBC7L5YrI"
      },
      "source": [
        "import altair as alt"
      ],
      "execution_count": null,
      "outputs": []
    },
    {
      "cell_type": "code",
      "metadata": {
        "id": "NcsmVzKllukC",
        "colab": {
          "base_uri": "https://localhost:8080/",
          "height": 484
        },
        "outputId": "9f25acb8-b9f6-449e-da29-c3413c0ca9f6"
      },
      "source": [
        "alt.Chart(data).mark_circle().encode(\n",
        "    alt.X(\"petal_length\"),\n",
        "    alt.Y(\"petal_width\"),\n",
        "    alt.Color(\"species\",  scale=alt.Scale(scheme='set2'), legend = alt.Legend(title = \"species\"))\n",
        ").properties(\n",
        "    width = 800,\n",
        "    height = 400,\n",
        "    title = \"Iris\"\n",
        ")"
      ],
      "execution_count": null,
      "outputs": [
        {
          "output_type": "execute_result",
          "data": {
            "text/plain": [
              "alt.Chart(...)"
            ],
            "text/html": [
              "\n",
              "<div id=\"altair-viz-a7fb7865fd3c4dc29d5b59ba22f103e0\"></div>\n",
              "<script type=\"text/javascript\">\n",
              "  (function(spec, embedOpt){\n",
              "    let outputDiv = document.currentScript.previousElementSibling;\n",
              "    if (outputDiv.id !== \"altair-viz-a7fb7865fd3c4dc29d5b59ba22f103e0\") {\n",
              "      outputDiv = document.getElementById(\"altair-viz-a7fb7865fd3c4dc29d5b59ba22f103e0\");\n",
              "    }\n",
              "    const paths = {\n",
              "      \"vega\": \"https://cdn.jsdelivr.net/npm//vega@5?noext\",\n",
              "      \"vega-lib\": \"https://cdn.jsdelivr.net/npm//vega-lib?noext\",\n",
              "      \"vega-lite\": \"https://cdn.jsdelivr.net/npm//vega-lite@4.8.1?noext\",\n",
              "      \"vega-embed\": \"https://cdn.jsdelivr.net/npm//vega-embed@6?noext\",\n",
              "    };\n",
              "\n",
              "    function loadScript(lib) {\n",
              "      return new Promise(function(resolve, reject) {\n",
              "        var s = document.createElement('script');\n",
              "        s.src = paths[lib];\n",
              "        s.async = true;\n",
              "        s.onload = () => resolve(paths[lib]);\n",
              "        s.onerror = () => reject(`Error loading script: ${paths[lib]}`);\n",
              "        document.getElementsByTagName(\"head\")[0].appendChild(s);\n",
              "      });\n",
              "    }\n",
              "\n",
              "    function showError(err) {\n",
              "      outputDiv.innerHTML = `<div class=\"error\" style=\"color:red;\">${err}</div>`;\n",
              "      throw err;\n",
              "    }\n",
              "\n",
              "    function displayChart(vegaEmbed) {\n",
              "      vegaEmbed(outputDiv, spec, embedOpt)\n",
              "        .catch(err => showError(`Javascript Error: ${err.message}<br>This usually means there's a typo in your chart specification. See the javascript console for the full traceback.`));\n",
              "    }\n",
              "\n",
              "    if(typeof define === \"function\" && define.amd) {\n",
              "      requirejs.config({paths});\n",
              "      require([\"vega-embed\"], displayChart, err => showError(`Error loading script: ${err.message}`));\n",
              "    } else if (typeof vegaEmbed === \"function\") {\n",
              "      displayChart(vegaEmbed);\n",
              "    } else {\n",
              "      loadScript(\"vega\")\n",
              "        .then(() => loadScript(\"vega-lite\"))\n",
              "        .then(() => loadScript(\"vega-embed\"))\n",
              "        .catch(showError)\n",
              "        .then(() => displayChart(vegaEmbed));\n",
              "    }\n",
              "  })({\"config\": {\"view\": {\"continuousWidth\": 400, \"continuousHeight\": 300}}, \"data\": {\"name\": \"data-2d94771ea62125b445223a5fc16e2995\"}, \"mark\": \"circle\", \"encoding\": {\"color\": {\"type\": \"nominal\", \"field\": \"species\", \"legend\": {\"title\": \"species\"}, \"scale\": {\"scheme\": \"set2\"}}, \"x\": {\"type\": \"quantitative\", \"field\": \"petal_length\"}, \"y\": {\"type\": \"quantitative\", \"field\": \"petal_width\"}}, \"height\": 400, \"title\": \"Iris\", \"width\": 800, \"$schema\": \"https://vega.github.io/schema/vega-lite/v4.8.1.json\", \"datasets\": {\"data-2d94771ea62125b445223a5fc16e2995\": [{\"sepal_length\": 5.1, \"sepal_width\": 3.5, \"petal_length\": 1.4, \"petal_width\": 0.2, \"species\": \"Iris-setosa\"}, {\"sepal_length\": 4.9, \"sepal_width\": 3.0, \"petal_length\": 1.4, \"petal_width\": 0.2, \"species\": \"Iris-setosa\"}, {\"sepal_length\": 4.7, \"sepal_width\": 3.2, \"petal_length\": 1.3, \"petal_width\": 0.2, \"species\": \"Iris-setosa\"}, {\"sepal_length\": 4.6, \"sepal_width\": 3.1, \"petal_length\": 1.5, \"petal_width\": 0.2, \"species\": \"Iris-setosa\"}, {\"sepal_length\": 5.0, \"sepal_width\": 3.6, \"petal_length\": 1.4, \"petal_width\": 0.2, \"species\": \"Iris-setosa\"}, {\"sepal_length\": 5.4, \"sepal_width\": 3.9, \"petal_length\": 1.7, \"petal_width\": 0.4, \"species\": \"Iris-setosa\"}, {\"sepal_length\": 4.6, \"sepal_width\": 3.4, \"petal_length\": 1.4, \"petal_width\": 0.3, \"species\": \"Iris-setosa\"}, {\"sepal_length\": 5.0, \"sepal_width\": 3.4, \"petal_length\": 1.5, \"petal_width\": 0.2, \"species\": \"Iris-setosa\"}, {\"sepal_length\": 4.4, \"sepal_width\": 2.9, \"petal_length\": 1.4, \"petal_width\": 0.2, \"species\": \"Iris-setosa\"}, {\"sepal_length\": 4.9, \"sepal_width\": 3.1, \"petal_length\": 1.5, \"petal_width\": 0.1, \"species\": \"Iris-setosa\"}, {\"sepal_length\": 5.4, \"sepal_width\": 3.7, \"petal_length\": 1.5, \"petal_width\": 0.2, \"species\": \"Iris-setosa\"}, {\"sepal_length\": 4.8, \"sepal_width\": 3.4, \"petal_length\": 1.6, \"petal_width\": 0.2, \"species\": \"Iris-setosa\"}, {\"sepal_length\": 4.8, \"sepal_width\": 3.0, \"petal_length\": 1.4, \"petal_width\": 0.1, \"species\": \"Iris-setosa\"}, {\"sepal_length\": 4.3, \"sepal_width\": 3.0, \"petal_length\": 1.1, \"petal_width\": 0.1, \"species\": \"Iris-setosa\"}, {\"sepal_length\": 5.8, \"sepal_width\": 4.0, \"petal_length\": 1.2, \"petal_width\": 0.2, \"species\": \"Iris-setosa\"}, {\"sepal_length\": 5.7, \"sepal_width\": 4.4, \"petal_length\": 1.5, \"petal_width\": 0.4, \"species\": \"Iris-setosa\"}, {\"sepal_length\": 5.4, \"sepal_width\": 3.9, \"petal_length\": 1.3, \"petal_width\": 0.4, \"species\": \"Iris-setosa\"}, {\"sepal_length\": 5.1, \"sepal_width\": 3.5, \"petal_length\": 1.4, \"petal_width\": 0.3, \"species\": \"Iris-setosa\"}, {\"sepal_length\": 5.7, \"sepal_width\": 3.8, \"petal_length\": 1.7, \"petal_width\": 0.3, \"species\": \"Iris-setosa\"}, {\"sepal_length\": 5.1, \"sepal_width\": 3.8, \"petal_length\": 1.5, \"petal_width\": 0.3, \"species\": \"Iris-setosa\"}, {\"sepal_length\": 5.4, \"sepal_width\": 3.4, \"petal_length\": 1.7, \"petal_width\": 0.2, \"species\": \"Iris-setosa\"}, {\"sepal_length\": 5.1, \"sepal_width\": 3.7, \"petal_length\": 1.5, \"petal_width\": 0.4, \"species\": \"Iris-setosa\"}, {\"sepal_length\": 4.6, \"sepal_width\": 3.6, \"petal_length\": 1.0, \"petal_width\": 0.2, \"species\": \"Iris-setosa\"}, {\"sepal_length\": 5.1, \"sepal_width\": 3.3, \"petal_length\": 1.7, \"petal_width\": 0.5, \"species\": \"Iris-setosa\"}, {\"sepal_length\": 4.8, \"sepal_width\": 3.4, \"petal_length\": 1.9, \"petal_width\": 0.2, \"species\": \"Iris-setosa\"}, {\"sepal_length\": 5.0, \"sepal_width\": 3.0, \"petal_length\": 1.6, \"petal_width\": 0.2, \"species\": \"Iris-setosa\"}, {\"sepal_length\": 5.0, \"sepal_width\": 3.4, \"petal_length\": 1.6, \"petal_width\": 0.4, \"species\": \"Iris-setosa\"}, {\"sepal_length\": 5.2, \"sepal_width\": 3.5, \"petal_length\": 1.5, \"petal_width\": 0.2, \"species\": \"Iris-setosa\"}, {\"sepal_length\": 5.2, \"sepal_width\": 3.4, \"petal_length\": 1.4, \"petal_width\": 0.2, \"species\": \"Iris-setosa\"}, {\"sepal_length\": 4.7, \"sepal_width\": 3.2, \"petal_length\": 1.6, \"petal_width\": 0.2, \"species\": \"Iris-setosa\"}, {\"sepal_length\": 4.8, \"sepal_width\": 3.1, \"petal_length\": 1.6, \"petal_width\": 0.2, \"species\": \"Iris-setosa\"}, {\"sepal_length\": 5.4, \"sepal_width\": 3.4, \"petal_length\": 1.5, \"petal_width\": 0.4, \"species\": \"Iris-setosa\"}, {\"sepal_length\": 5.2, \"sepal_width\": 4.1, \"petal_length\": 1.5, \"petal_width\": 0.1, \"species\": \"Iris-setosa\"}, {\"sepal_length\": 5.5, \"sepal_width\": 4.2, \"petal_length\": 1.4, \"petal_width\": 0.2, \"species\": \"Iris-setosa\"}, {\"sepal_length\": 4.9, \"sepal_width\": 3.1, \"petal_length\": 1.5, \"petal_width\": 0.1, \"species\": \"Iris-setosa\"}, {\"sepal_length\": 5.0, \"sepal_width\": 3.2, \"petal_length\": 1.2, \"petal_width\": 0.2, \"species\": \"Iris-setosa\"}, {\"sepal_length\": 5.5, \"sepal_width\": 3.5, \"petal_length\": 1.3, \"petal_width\": 0.2, \"species\": \"Iris-setosa\"}, {\"sepal_length\": 4.9, \"sepal_width\": 3.1, \"petal_length\": 1.5, \"petal_width\": 0.1, \"species\": \"Iris-setosa\"}, {\"sepal_length\": 4.4, \"sepal_width\": 3.0, \"petal_length\": 1.3, \"petal_width\": 0.2, \"species\": \"Iris-setosa\"}, {\"sepal_length\": 5.1, \"sepal_width\": 3.4, \"petal_length\": 1.5, \"petal_width\": 0.2, \"species\": \"Iris-setosa\"}, {\"sepal_length\": 5.0, \"sepal_width\": 3.5, \"petal_length\": 1.3, \"petal_width\": 0.3, \"species\": \"Iris-setosa\"}, {\"sepal_length\": 4.5, \"sepal_width\": 2.3, \"petal_length\": 1.3, \"petal_width\": 0.3, \"species\": \"Iris-setosa\"}, {\"sepal_length\": 4.4, \"sepal_width\": 3.2, \"petal_length\": 1.3, \"petal_width\": 0.2, \"species\": \"Iris-setosa\"}, {\"sepal_length\": 5.0, \"sepal_width\": 3.5, \"petal_length\": 1.6, \"petal_width\": 0.6, \"species\": \"Iris-setosa\"}, {\"sepal_length\": 5.1, \"sepal_width\": 3.8, \"petal_length\": 1.9, \"petal_width\": 0.4, \"species\": \"Iris-setosa\"}, {\"sepal_length\": 4.8, \"sepal_width\": 3.0, \"petal_length\": 1.4, \"petal_width\": 0.3, \"species\": \"Iris-setosa\"}, {\"sepal_length\": 5.1, \"sepal_width\": 3.8, \"petal_length\": 1.6, \"petal_width\": 0.2, \"species\": \"Iris-setosa\"}, {\"sepal_length\": 4.6, \"sepal_width\": 3.2, \"petal_length\": 1.4, \"petal_width\": 0.2, \"species\": \"Iris-setosa\"}, {\"sepal_length\": 5.3, \"sepal_width\": 3.7, \"petal_length\": 1.5, \"petal_width\": 0.2, \"species\": \"Iris-setosa\"}, {\"sepal_length\": 5.0, \"sepal_width\": 3.3, \"petal_length\": 1.4, \"petal_width\": 0.2, \"species\": \"Iris-setosa\"}, {\"sepal_length\": 7.0, \"sepal_width\": 3.2, \"petal_length\": 4.7, \"petal_width\": 1.4, \"species\": \"Iris-versicolor\"}, {\"sepal_length\": 6.4, \"sepal_width\": 3.2, \"petal_length\": 4.5, \"petal_width\": 1.5, \"species\": \"Iris-versicolor\"}, {\"sepal_length\": 6.9, \"sepal_width\": 3.1, \"petal_length\": 4.9, \"petal_width\": 1.5, \"species\": \"Iris-versicolor\"}, {\"sepal_length\": 5.5, \"sepal_width\": 2.3, \"petal_length\": 4.0, \"petal_width\": 1.3, \"species\": \"Iris-versicolor\"}, {\"sepal_length\": 6.5, \"sepal_width\": 2.8, \"petal_length\": 4.6, \"petal_width\": 1.5, \"species\": \"Iris-versicolor\"}, {\"sepal_length\": 5.7, \"sepal_width\": 2.8, \"petal_length\": 4.5, \"petal_width\": 1.3, \"species\": \"Iris-versicolor\"}, {\"sepal_length\": 6.3, \"sepal_width\": 3.3, \"petal_length\": 4.7, \"petal_width\": 1.6, \"species\": \"Iris-versicolor\"}, {\"sepal_length\": 4.9, \"sepal_width\": 2.4, \"petal_length\": 3.3, \"petal_width\": 1.0, \"species\": \"Iris-versicolor\"}, {\"sepal_length\": 6.6, \"sepal_width\": 2.9, \"petal_length\": 4.6, \"petal_width\": 1.3, \"species\": \"Iris-versicolor\"}, {\"sepal_length\": 5.2, \"sepal_width\": 2.7, \"petal_length\": 3.9, \"petal_width\": 1.4, \"species\": \"Iris-versicolor\"}, {\"sepal_length\": 5.0, \"sepal_width\": 2.0, \"petal_length\": 3.5, \"petal_width\": 1.0, \"species\": \"Iris-versicolor\"}, {\"sepal_length\": 5.9, \"sepal_width\": 3.0, \"petal_length\": 4.2, \"petal_width\": 1.5, \"species\": \"Iris-versicolor\"}, {\"sepal_length\": 6.0, \"sepal_width\": 2.2, \"petal_length\": 4.0, \"petal_width\": 1.0, \"species\": \"Iris-versicolor\"}, {\"sepal_length\": 6.1, \"sepal_width\": 2.9, \"petal_length\": 4.7, \"petal_width\": 1.4, \"species\": \"Iris-versicolor\"}, {\"sepal_length\": 5.6, \"sepal_width\": 2.9, \"petal_length\": 3.6, \"petal_width\": 1.3, \"species\": \"Iris-versicolor\"}, {\"sepal_length\": 6.7, \"sepal_width\": 3.1, \"petal_length\": 4.4, \"petal_width\": 1.4, \"species\": \"Iris-versicolor\"}, {\"sepal_length\": 5.6, \"sepal_width\": 3.0, \"petal_length\": 4.5, \"petal_width\": 1.5, \"species\": \"Iris-versicolor\"}, {\"sepal_length\": 5.8, \"sepal_width\": 2.7, \"petal_length\": 4.1, \"petal_width\": 1.0, \"species\": \"Iris-versicolor\"}, {\"sepal_length\": 6.2, \"sepal_width\": 2.2, \"petal_length\": 4.5, \"petal_width\": 1.5, \"species\": \"Iris-versicolor\"}, {\"sepal_length\": 5.6, \"sepal_width\": 2.5, \"petal_length\": 3.9, \"petal_width\": 1.1, \"species\": \"Iris-versicolor\"}, {\"sepal_length\": 5.9, \"sepal_width\": 3.2, \"petal_length\": 4.8, \"petal_width\": 1.8, \"species\": \"Iris-versicolor\"}, {\"sepal_length\": 6.1, \"sepal_width\": 2.8, \"petal_length\": 4.0, \"petal_width\": 1.3, \"species\": \"Iris-versicolor\"}, {\"sepal_length\": 6.3, \"sepal_width\": 2.5, \"petal_length\": 4.9, \"petal_width\": 1.5, \"species\": \"Iris-versicolor\"}, {\"sepal_length\": 6.1, \"sepal_width\": 2.8, \"petal_length\": 4.7, \"petal_width\": 1.2, \"species\": \"Iris-versicolor\"}, {\"sepal_length\": 6.4, \"sepal_width\": 2.9, \"petal_length\": 4.3, \"petal_width\": 1.3, \"species\": \"Iris-versicolor\"}, {\"sepal_length\": 6.6, \"sepal_width\": 3.0, \"petal_length\": 4.4, \"petal_width\": 1.4, \"species\": \"Iris-versicolor\"}, {\"sepal_length\": 6.8, \"sepal_width\": 2.8, \"petal_length\": 4.8, \"petal_width\": 1.4, \"species\": \"Iris-versicolor\"}, {\"sepal_length\": 6.7, \"sepal_width\": 3.0, \"petal_length\": 5.0, \"petal_width\": 1.7, \"species\": \"Iris-versicolor\"}, {\"sepal_length\": 6.0, \"sepal_width\": 2.9, \"petal_length\": 4.5, \"petal_width\": 1.5, \"species\": \"Iris-versicolor\"}, {\"sepal_length\": 5.7, \"sepal_width\": 2.6, \"petal_length\": 3.5, \"petal_width\": 1.0, \"species\": \"Iris-versicolor\"}, {\"sepal_length\": 5.5, \"sepal_width\": 2.4, \"petal_length\": 3.8, \"petal_width\": 1.1, \"species\": \"Iris-versicolor\"}, {\"sepal_length\": 5.5, \"sepal_width\": 2.4, \"petal_length\": 3.7, \"petal_width\": 1.0, \"species\": \"Iris-versicolor\"}, {\"sepal_length\": 5.8, \"sepal_width\": 2.7, \"petal_length\": 3.9, \"petal_width\": 1.2, \"species\": \"Iris-versicolor\"}, {\"sepal_length\": 6.0, \"sepal_width\": 2.7, \"petal_length\": 5.1, \"petal_width\": 1.6, \"species\": \"Iris-versicolor\"}, {\"sepal_length\": 5.4, \"sepal_width\": 3.0, \"petal_length\": 4.5, \"petal_width\": 1.5, \"species\": \"Iris-versicolor\"}, {\"sepal_length\": 6.0, \"sepal_width\": 3.4, \"petal_length\": 4.5, \"petal_width\": 1.6, \"species\": \"Iris-versicolor\"}, {\"sepal_length\": 6.7, \"sepal_width\": 3.1, \"petal_length\": 4.7, \"petal_width\": 1.5, \"species\": \"Iris-versicolor\"}, {\"sepal_length\": 6.3, \"sepal_width\": 2.3, \"petal_length\": 4.4, \"petal_width\": 1.3, \"species\": \"Iris-versicolor\"}, {\"sepal_length\": 5.6, \"sepal_width\": 3.0, \"petal_length\": 4.1, \"petal_width\": 1.3, \"species\": \"Iris-versicolor\"}, {\"sepal_length\": 5.5, \"sepal_width\": 2.5, \"petal_length\": 4.0, \"petal_width\": 1.3, \"species\": \"Iris-versicolor\"}, {\"sepal_length\": 5.5, \"sepal_width\": 2.6, \"petal_length\": 4.4, \"petal_width\": 1.2, \"species\": \"Iris-versicolor\"}, {\"sepal_length\": 6.1, \"sepal_width\": 3.0, \"petal_length\": 4.6, \"petal_width\": 1.4, \"species\": \"Iris-versicolor\"}, {\"sepal_length\": 5.8, \"sepal_width\": 2.6, \"petal_length\": 4.0, \"petal_width\": 1.2, \"species\": \"Iris-versicolor\"}, {\"sepal_length\": 5.0, \"sepal_width\": 2.3, \"petal_length\": 3.3, \"petal_width\": 1.0, \"species\": \"Iris-versicolor\"}, {\"sepal_length\": 5.6, \"sepal_width\": 2.7, \"petal_length\": 4.2, \"petal_width\": 1.3, \"species\": \"Iris-versicolor\"}, {\"sepal_length\": 5.7, \"sepal_width\": 3.0, \"petal_length\": 4.2, \"petal_width\": 1.2, \"species\": \"Iris-versicolor\"}, {\"sepal_length\": 5.7, \"sepal_width\": 2.9, \"petal_length\": 4.2, \"petal_width\": 1.3, \"species\": \"Iris-versicolor\"}, {\"sepal_length\": 6.2, \"sepal_width\": 2.9, \"petal_length\": 4.3, \"petal_width\": 1.3, \"species\": \"Iris-versicolor\"}, {\"sepal_length\": 5.1, \"sepal_width\": 2.5, \"petal_length\": 3.0, \"petal_width\": 1.1, \"species\": \"Iris-versicolor\"}, {\"sepal_length\": 5.7, \"sepal_width\": 2.8, \"petal_length\": 4.1, \"petal_width\": 1.3, \"species\": \"Iris-versicolor\"}, {\"sepal_length\": 6.3, \"sepal_width\": 3.3, \"petal_length\": 6.0, \"petal_width\": 2.5, \"species\": \"Iris-virginica\"}, {\"sepal_length\": 5.8, \"sepal_width\": 2.7, \"petal_length\": 5.1, \"petal_width\": 1.9, \"species\": \"Iris-virginica\"}, {\"sepal_length\": 7.1, \"sepal_width\": 3.0, \"petal_length\": 5.9, \"petal_width\": 2.1, \"species\": \"Iris-virginica\"}, {\"sepal_length\": 6.3, \"sepal_width\": 2.9, \"petal_length\": 5.6, \"petal_width\": 1.8, \"species\": \"Iris-virginica\"}, {\"sepal_length\": 6.5, \"sepal_width\": 3.0, \"petal_length\": 5.8, \"petal_width\": 2.2, \"species\": \"Iris-virginica\"}, {\"sepal_length\": 7.6, \"sepal_width\": 3.0, \"petal_length\": 6.6, \"petal_width\": 2.1, \"species\": \"Iris-virginica\"}, {\"sepal_length\": 4.9, \"sepal_width\": 2.5, \"petal_length\": 4.5, \"petal_width\": 1.7, \"species\": \"Iris-virginica\"}, {\"sepal_length\": 7.3, \"sepal_width\": 2.9, \"petal_length\": 6.3, \"petal_width\": 1.8, \"species\": \"Iris-virginica\"}, {\"sepal_length\": 6.7, \"sepal_width\": 2.5, \"petal_length\": 5.8, \"petal_width\": 1.8, \"species\": \"Iris-virginica\"}, {\"sepal_length\": 7.2, \"sepal_width\": 3.6, \"petal_length\": 6.1, \"petal_width\": 2.5, \"species\": \"Iris-virginica\"}, {\"sepal_length\": 6.5, \"sepal_width\": 3.2, \"petal_length\": 5.1, \"petal_width\": 2.0, \"species\": \"Iris-virginica\"}, {\"sepal_length\": 6.4, \"sepal_width\": 2.7, \"petal_length\": 5.3, \"petal_width\": 1.9, \"species\": \"Iris-virginica\"}, {\"sepal_length\": 6.8, \"sepal_width\": 3.0, \"petal_length\": 5.5, \"petal_width\": 2.1, \"species\": \"Iris-virginica\"}, {\"sepal_length\": 5.7, \"sepal_width\": 2.5, \"petal_length\": 5.0, \"petal_width\": 2.0, \"species\": \"Iris-virginica\"}, {\"sepal_length\": 5.8, \"sepal_width\": 2.8, \"petal_length\": 5.1, \"petal_width\": 2.4, \"species\": \"Iris-virginica\"}, {\"sepal_length\": 6.4, \"sepal_width\": 3.2, \"petal_length\": 5.3, \"petal_width\": 2.3, \"species\": \"Iris-virginica\"}, {\"sepal_length\": 6.5, \"sepal_width\": 3.0, \"petal_length\": 5.5, \"petal_width\": 1.8, \"species\": \"Iris-virginica\"}, {\"sepal_length\": 7.7, \"sepal_width\": 3.8, \"petal_length\": 6.7, \"petal_width\": 2.2, \"species\": \"Iris-virginica\"}, {\"sepal_length\": 7.7, \"sepal_width\": 2.6, \"petal_length\": 6.9, \"petal_width\": 2.3, \"species\": \"Iris-virginica\"}, {\"sepal_length\": 6.0, \"sepal_width\": 2.2, \"petal_length\": 5.0, \"petal_width\": 1.5, \"species\": \"Iris-virginica\"}, {\"sepal_length\": 6.9, \"sepal_width\": 3.2, \"petal_length\": 5.7, \"petal_width\": 2.3, \"species\": \"Iris-virginica\"}, {\"sepal_length\": 5.6, \"sepal_width\": 2.8, \"petal_length\": 4.9, \"petal_width\": 2.0, \"species\": \"Iris-virginica\"}, {\"sepal_length\": 7.7, \"sepal_width\": 2.8, \"petal_length\": 6.7, \"petal_width\": 2.0, \"species\": \"Iris-virginica\"}, {\"sepal_length\": 6.3, \"sepal_width\": 2.7, \"petal_length\": 4.9, \"petal_width\": 1.8, \"species\": \"Iris-virginica\"}, {\"sepal_length\": 6.7, \"sepal_width\": 3.3, \"petal_length\": 5.7, \"petal_width\": 2.1, \"species\": \"Iris-virginica\"}, {\"sepal_length\": 7.2, \"sepal_width\": 3.2, \"petal_length\": 6.0, \"petal_width\": 1.8, \"species\": \"Iris-virginica\"}, {\"sepal_length\": 6.2, \"sepal_width\": 2.8, \"petal_length\": 4.8, \"petal_width\": 1.8, \"species\": \"Iris-virginica\"}, {\"sepal_length\": 6.1, \"sepal_width\": 3.0, \"petal_length\": 4.9, \"petal_width\": 1.8, \"species\": \"Iris-virginica\"}, {\"sepal_length\": 6.4, \"sepal_width\": 2.8, \"petal_length\": 5.6, \"petal_width\": 2.1, \"species\": \"Iris-virginica\"}, {\"sepal_length\": 7.2, \"sepal_width\": 3.0, \"petal_length\": 5.8, \"petal_width\": 1.6, \"species\": \"Iris-virginica\"}, {\"sepal_length\": 7.4, \"sepal_width\": 2.8, \"petal_length\": 6.1, \"petal_width\": 1.9, \"species\": \"Iris-virginica\"}, {\"sepal_length\": 7.9, \"sepal_width\": 3.8, \"petal_length\": 6.4, \"petal_width\": 2.0, \"species\": \"Iris-virginica\"}, {\"sepal_length\": 6.4, \"sepal_width\": 2.8, \"petal_length\": 5.6, \"petal_width\": 2.2, \"species\": \"Iris-virginica\"}, {\"sepal_length\": 6.3, \"sepal_width\": 2.8, \"petal_length\": 5.1, \"petal_width\": 1.5, \"species\": \"Iris-virginica\"}, {\"sepal_length\": 6.1, \"sepal_width\": 2.6, \"petal_length\": 5.6, \"petal_width\": 1.4, \"species\": \"Iris-virginica\"}, {\"sepal_length\": 7.7, \"sepal_width\": 3.0, \"petal_length\": 6.1, \"petal_width\": 2.3, \"species\": \"Iris-virginica\"}, {\"sepal_length\": 6.3, \"sepal_width\": 3.4, \"petal_length\": 5.6, \"petal_width\": 2.4, \"species\": \"Iris-virginica\"}, {\"sepal_length\": 6.4, \"sepal_width\": 3.1, \"petal_length\": 5.5, \"petal_width\": 1.8, \"species\": \"Iris-virginica\"}, {\"sepal_length\": 6.0, \"sepal_width\": 3.0, \"petal_length\": 4.8, \"petal_width\": 1.8, \"species\": \"Iris-virginica\"}, {\"sepal_length\": 6.9, \"sepal_width\": 3.1, \"petal_length\": 5.4, \"petal_width\": 2.1, \"species\": \"Iris-virginica\"}, {\"sepal_length\": 6.7, \"sepal_width\": 3.1, \"petal_length\": 5.6, \"petal_width\": 2.4, \"species\": \"Iris-virginica\"}, {\"sepal_length\": 6.9, \"sepal_width\": 3.1, \"petal_length\": 5.1, \"petal_width\": 2.3, \"species\": \"Iris-virginica\"}, {\"sepal_length\": 5.8, \"sepal_width\": 2.7, \"petal_length\": 5.1, \"petal_width\": 1.9, \"species\": \"Iris-virginica\"}, {\"sepal_length\": 6.8, \"sepal_width\": 3.2, \"petal_length\": 5.9, \"petal_width\": 2.3, \"species\": \"Iris-virginica\"}, {\"sepal_length\": 6.7, \"sepal_width\": 3.3, \"petal_length\": 5.7, \"petal_width\": 2.5, \"species\": \"Iris-virginica\"}, {\"sepal_length\": 6.7, \"sepal_width\": 3.0, \"petal_length\": 5.2, \"petal_width\": 2.3, \"species\": \"Iris-virginica\"}, {\"sepal_length\": 6.3, \"sepal_width\": 2.5, \"petal_length\": 5.0, \"petal_width\": 1.9, \"species\": \"Iris-virginica\"}, {\"sepal_length\": 6.5, \"sepal_width\": 3.0, \"petal_length\": 5.2, \"petal_width\": 2.0, \"species\": \"Iris-virginica\"}, {\"sepal_length\": 6.2, \"sepal_width\": 3.4, \"petal_length\": 5.4, \"petal_width\": 2.3, \"species\": \"Iris-virginica\"}, {\"sepal_length\": 5.9, \"sepal_width\": 3.0, \"petal_length\": 5.1, \"petal_width\": 1.8, \"species\": \"Iris-virginica\"}]}}, {\"mode\": \"vega-lite\"});\n",
              "</script>"
            ]
          },
          "metadata": {
            "tags": []
          },
          "execution_count": 6
        }
      ]
    },
    {
      "cell_type": "markdown",
      "metadata": {
        "id": "baCxzbklvRbu"
      },
      "source": [
        "## Part C: Prepare the Data for Machine Learning\n",
        "\n",
        "Data preparation (sometimes called \"data wrangling\" or \"data munging\") is where you'll usually spend the bulk of your time when working on machine learning problems. Only rarely is data already in the optimal form for a given algorithm.\n",
        "\n",
        "Often we have to deal with missing values, normalize the data, and perform both simple and complex feature engineering to get the data into the form we need. \n",
        "\n",
        "Once the data is in the correct form, we can then randomize the data and split it into training and test datasets (and sometimes an additional validation dataset).\n",
        "\n",
        "### Machine Learning Steps\n",
        "\n",
        "Almost universally, regardless of which algorithm or type of task we're performing, building and evaluating a machine learning model with sklearn follows these steps:\n",
        "\n",
        "1. Perform any data preprocessing needed.\n",
        "2. Partition the data into features and targets.\n",
        "3. Split the data into training and test sets (and sometimes a third validation set).\n",
        "4. Create a configure whichever sklearn model object we're using.\n",
        "5. Train the model using its \"fit\" method.\n",
        "6. Test the model using its \"predict\" method.\n",
        "7. Use a model evaluation metric to see how well the model performs.\n",
        "\n",
        "If the model isn't performing well, we will repeat one or more of the above steps (sometimes all of them).\n",
        "\n",
        "Once the model is performing adequately, we'll deploy it for use as part of some larger system. \n",
        "\n",
        "For now, let's assume that this dataset is in the form we need, and we'll skip to step 2, partitioning the data.\n"
      ]
    },
    {
      "cell_type": "markdown",
      "metadata": {
        "id": "zoMlhBCrw8qQ"
      },
      "source": [
        "### Step 2. Partition the Data into Features and Targets\n",
        "First, we'll create a dataframe called \"X\" containing the features of the data we want to use to make our predictions. In this case, that will be the `sepal_length`, `sepal_width`, `petal_length`, and `petal_width` features.\n",
        "\n",
        "(The name \"X\" isn't special, but uppercase X is the conventional name for our feature dataset, because that's what statisticians use to refer to a matrix of independent variables)"
      ]
    },
    {
      "cell_type": "code",
      "metadata": {
        "id": "JhIKMSFmnWD3",
        "colab": {
          "base_uri": "https://localhost:8080/",
          "height": 202
        },
        "outputId": "a2e17d8a-27cb-4612-c543-b931f87267b8"
      },
      "source": [
        "# Create a new dataframe called X that contians the features we're going\n",
        "# to use to make predictions\n",
        "X = data[[\"sepal_length\", \"sepal_width\", \"petal_length\", \"petal_width\"]]\n",
        "X.head()"
      ],
      "execution_count": null,
      "outputs": [
        {
          "output_type": "execute_result",
          "data": {
            "text/html": [
              "<div>\n",
              "<style scoped>\n",
              "    .dataframe tbody tr th:only-of-type {\n",
              "        vertical-align: middle;\n",
              "    }\n",
              "\n",
              "    .dataframe tbody tr th {\n",
              "        vertical-align: top;\n",
              "    }\n",
              "\n",
              "    .dataframe thead th {\n",
              "        text-align: right;\n",
              "    }\n",
              "</style>\n",
              "<table border=\"1\" class=\"dataframe\">\n",
              "  <thead>\n",
              "    <tr style=\"text-align: right;\">\n",
              "      <th></th>\n",
              "      <th>sepal_length</th>\n",
              "      <th>sepal_width</th>\n",
              "      <th>petal_length</th>\n",
              "      <th>petal_width</th>\n",
              "    </tr>\n",
              "  </thead>\n",
              "  <tbody>\n",
              "    <tr>\n",
              "      <th>0</th>\n",
              "      <td>5.1</td>\n",
              "      <td>3.5</td>\n",
              "      <td>1.4</td>\n",
              "      <td>0.2</td>\n",
              "    </tr>\n",
              "    <tr>\n",
              "      <th>1</th>\n",
              "      <td>4.9</td>\n",
              "      <td>3.0</td>\n",
              "      <td>1.4</td>\n",
              "      <td>0.2</td>\n",
              "    </tr>\n",
              "    <tr>\n",
              "      <th>2</th>\n",
              "      <td>4.7</td>\n",
              "      <td>3.2</td>\n",
              "      <td>1.3</td>\n",
              "      <td>0.2</td>\n",
              "    </tr>\n",
              "    <tr>\n",
              "      <th>3</th>\n",
              "      <td>4.6</td>\n",
              "      <td>3.1</td>\n",
              "      <td>1.5</td>\n",
              "      <td>0.2</td>\n",
              "    </tr>\n",
              "    <tr>\n",
              "      <th>4</th>\n",
              "      <td>5.0</td>\n",
              "      <td>3.6</td>\n",
              "      <td>1.4</td>\n",
              "      <td>0.2</td>\n",
              "    </tr>\n",
              "  </tbody>\n",
              "</table>\n",
              "</div>"
            ],
            "text/plain": [
              "   sepal_length  sepal_width  petal_length  petal_width\n",
              "0           5.1          3.5           1.4          0.2\n",
              "1           4.9          3.0           1.4          0.2\n",
              "2           4.7          3.2           1.3          0.2\n",
              "3           4.6          3.1           1.5          0.2\n",
              "4           5.0          3.6           1.4          0.2"
            ]
          },
          "metadata": {
            "tags": []
          },
          "execution_count": 26
        }
      ]
    },
    {
      "cell_type": "markdown",
      "metadata": {
        "id": "dTk_L5_Xw3VI"
      },
      "source": [
        "Next we'll create a dataframe called \"y\" containing the target variable, or the set of values we want to predict. In this case, that will be `species`.\n",
        "\n",
        "(Once again, the name \"y\" isn't special, but lowercase y is the conventional name for a list of targets, because that's what statisticians use to refer to a vector of dependent variables)"
      ]
    },
    {
      "cell_type": "code",
      "metadata": {
        "id": "5OiWdSVAnfdV",
        "colab": {
          "base_uri": "https://localhost:8080/",
          "height": 202
        },
        "outputId": "37d91802-ddfc-4e6f-d545-56e357aaa171"
      },
      "source": [
        "# Create a new dataframe called y that contians the target we're\n",
        "# trying to predict\n",
        "y = data[[\"species\"]]\n",
        "y.head()"
      ],
      "execution_count": null,
      "outputs": [
        {
          "output_type": "execute_result",
          "data": {
            "text/html": [
              "<div>\n",
              "<style scoped>\n",
              "    .dataframe tbody tr th:only-of-type {\n",
              "        vertical-align: middle;\n",
              "    }\n",
              "\n",
              "    .dataframe tbody tr th {\n",
              "        vertical-align: top;\n",
              "    }\n",
              "\n",
              "    .dataframe thead th {\n",
              "        text-align: right;\n",
              "    }\n",
              "</style>\n",
              "<table border=\"1\" class=\"dataframe\">\n",
              "  <thead>\n",
              "    <tr style=\"text-align: right;\">\n",
              "      <th></th>\n",
              "      <th>species</th>\n",
              "    </tr>\n",
              "  </thead>\n",
              "  <tbody>\n",
              "    <tr>\n",
              "      <th>0</th>\n",
              "      <td>Iris-setosa</td>\n",
              "    </tr>\n",
              "    <tr>\n",
              "      <th>1</th>\n",
              "      <td>Iris-setosa</td>\n",
              "    </tr>\n",
              "    <tr>\n",
              "      <th>2</th>\n",
              "      <td>Iris-setosa</td>\n",
              "    </tr>\n",
              "    <tr>\n",
              "      <th>3</th>\n",
              "      <td>Iris-setosa</td>\n",
              "    </tr>\n",
              "    <tr>\n",
              "      <th>4</th>\n",
              "      <td>Iris-setosa</td>\n",
              "    </tr>\n",
              "  </tbody>\n",
              "</table>\n",
              "</div>"
            ],
            "text/plain": [
              "       species\n",
              "0  Iris-setosa\n",
              "1  Iris-setosa\n",
              "2  Iris-setosa\n",
              "3  Iris-setosa\n",
              "4  Iris-setosa"
            ]
          },
          "metadata": {
            "tags": []
          },
          "execution_count": 8
        }
      ]
    },
    {
      "cell_type": "markdown",
      "metadata": {
        "id": "YmQUnia7xhxn"
      },
      "source": [
        "### Step 3. Split the data into training and test sets.\n",
        "\n",
        "Now that we have our data divided into features (X) and target values (y), we'll split each of these into a training set and a test set.\n",
        "\n",
        "We'll use the training sets to \"train\" our model how to make predictions.\n",
        "\n",
        "We'll then use our test sets to test how well our model has learned from the training data.\n",
        "\n",
        "While we could use a bunch of python code to do this step, the sklearn library has lots of built-in functions to handle common data manipulations related to machine learning.\n",
        "\n",
        "For this step, we'll use the [train_test_split()](https://scikit-learn.org/stable/modules/generated/sklearn.model_selection.train_test_split.html) function."
      ]
    },
    {
      "cell_type": "code",
      "metadata": {
        "id": "t2DlWt96ni10"
      },
      "source": [
        "# Import and use the train_test_split() function to split the X and y\n",
        "# dataframes into training and test sets.\n",
        "#\n",
        "# The training data should contain 80% of the samples and\n",
        "# the test data should contain 20% of the samples.\n",
        "\n",
        "from sklearn.model_selection import train_test_split\n",
        "\n",
        "X_train, X_test, y_train, y_test = train_test_split(X, y, test_size = 0.2)"
      ],
      "execution_count": null,
      "outputs": []
    },
    {
      "cell_type": "markdown",
      "metadata": {
        "id": "Pf5w0Y1fypww"
      },
      "source": [
        "After creating the training and test splits, output the head() of each one and notice how they row numbers have been randomized. \n",
        "\n",
        "Also notice that X_train and y_train's row numbers match up, as do X_test and y_test's row numbers."
      ]
    },
    {
      "cell_type": "code",
      "metadata": {
        "id": "bycoj7HnyoNi",
        "colab": {
          "base_uri": "https://localhost:8080/",
          "height": 202
        },
        "outputId": "64996d54-caa0-4a82-89b7-7f8bae0b54b4"
      },
      "source": [
        "X_train.head()"
      ],
      "execution_count": null,
      "outputs": [
        {
          "output_type": "execute_result",
          "data": {
            "text/html": [
              "<div>\n",
              "<style scoped>\n",
              "    .dataframe tbody tr th:only-of-type {\n",
              "        vertical-align: middle;\n",
              "    }\n",
              "\n",
              "    .dataframe tbody tr th {\n",
              "        vertical-align: top;\n",
              "    }\n",
              "\n",
              "    .dataframe thead th {\n",
              "        text-align: right;\n",
              "    }\n",
              "</style>\n",
              "<table border=\"1\" class=\"dataframe\">\n",
              "  <thead>\n",
              "    <tr style=\"text-align: right;\">\n",
              "      <th></th>\n",
              "      <th>sepal_length</th>\n",
              "      <th>sepal_width</th>\n",
              "      <th>petal_length</th>\n",
              "      <th>petal_width</th>\n",
              "    </tr>\n",
              "  </thead>\n",
              "  <tbody>\n",
              "    <tr>\n",
              "      <th>148</th>\n",
              "      <td>6.2</td>\n",
              "      <td>3.4</td>\n",
              "      <td>5.4</td>\n",
              "      <td>2.3</td>\n",
              "    </tr>\n",
              "    <tr>\n",
              "      <th>22</th>\n",
              "      <td>4.6</td>\n",
              "      <td>3.6</td>\n",
              "      <td>1.0</td>\n",
              "      <td>0.2</td>\n",
              "    </tr>\n",
              "    <tr>\n",
              "      <th>91</th>\n",
              "      <td>6.1</td>\n",
              "      <td>3.0</td>\n",
              "      <td>4.6</td>\n",
              "      <td>1.4</td>\n",
              "    </tr>\n",
              "    <tr>\n",
              "      <th>55</th>\n",
              "      <td>5.7</td>\n",
              "      <td>2.8</td>\n",
              "      <td>4.5</td>\n",
              "      <td>1.3</td>\n",
              "    </tr>\n",
              "    <tr>\n",
              "      <th>51</th>\n",
              "      <td>6.4</td>\n",
              "      <td>3.2</td>\n",
              "      <td>4.5</td>\n",
              "      <td>1.5</td>\n",
              "    </tr>\n",
              "  </tbody>\n",
              "</table>\n",
              "</div>"
            ],
            "text/plain": [
              "     sepal_length  sepal_width  petal_length  petal_width\n",
              "148           6.2          3.4           5.4          2.3\n",
              "22            4.6          3.6           1.0          0.2\n",
              "91            6.1          3.0           4.6          1.4\n",
              "55            5.7          2.8           4.5          1.3\n",
              "51            6.4          3.2           4.5          1.5"
            ]
          },
          "metadata": {
            "tags": []
          },
          "execution_count": 10
        }
      ]
    },
    {
      "cell_type": "code",
      "metadata": {
        "id": "Mb7f5WiVnupq",
        "colab": {
          "base_uri": "https://localhost:8080/",
          "height": 202
        },
        "outputId": "4a622829-0de5-4024-ec1f-8803d1f0b6e6"
      },
      "source": [
        "y_train.head()"
      ],
      "execution_count": null,
      "outputs": [
        {
          "output_type": "execute_result",
          "data": {
            "text/html": [
              "<div>\n",
              "<style scoped>\n",
              "    .dataframe tbody tr th:only-of-type {\n",
              "        vertical-align: middle;\n",
              "    }\n",
              "\n",
              "    .dataframe tbody tr th {\n",
              "        vertical-align: top;\n",
              "    }\n",
              "\n",
              "    .dataframe thead th {\n",
              "        text-align: right;\n",
              "    }\n",
              "</style>\n",
              "<table border=\"1\" class=\"dataframe\">\n",
              "  <thead>\n",
              "    <tr style=\"text-align: right;\">\n",
              "      <th></th>\n",
              "      <th>species</th>\n",
              "    </tr>\n",
              "  </thead>\n",
              "  <tbody>\n",
              "    <tr>\n",
              "      <th>148</th>\n",
              "      <td>Iris-virginica</td>\n",
              "    </tr>\n",
              "    <tr>\n",
              "      <th>22</th>\n",
              "      <td>Iris-setosa</td>\n",
              "    </tr>\n",
              "    <tr>\n",
              "      <th>91</th>\n",
              "      <td>Iris-versicolor</td>\n",
              "    </tr>\n",
              "    <tr>\n",
              "      <th>55</th>\n",
              "      <td>Iris-versicolor</td>\n",
              "    </tr>\n",
              "    <tr>\n",
              "      <th>51</th>\n",
              "      <td>Iris-versicolor</td>\n",
              "    </tr>\n",
              "  </tbody>\n",
              "</table>\n",
              "</div>"
            ],
            "text/plain": [
              "             species\n",
              "148   Iris-virginica\n",
              "22       Iris-setosa\n",
              "91   Iris-versicolor\n",
              "55   Iris-versicolor\n",
              "51   Iris-versicolor"
            ]
          },
          "metadata": {
            "tags": []
          },
          "execution_count": 11
        }
      ]
    },
    {
      "cell_type": "code",
      "metadata": {
        "colab": {
          "base_uri": "https://localhost:8080/",
          "height": 202
        },
        "id": "_NcQ229r8OWr",
        "outputId": "199c222e-4d95-4173-aa27-b0c260ab7d56"
      },
      "source": [
        "X_test.head()"
      ],
      "execution_count": null,
      "outputs": [
        {
          "output_type": "execute_result",
          "data": {
            "text/html": [
              "<div>\n",
              "<style scoped>\n",
              "    .dataframe tbody tr th:only-of-type {\n",
              "        vertical-align: middle;\n",
              "    }\n",
              "\n",
              "    .dataframe tbody tr th {\n",
              "        vertical-align: top;\n",
              "    }\n",
              "\n",
              "    .dataframe thead th {\n",
              "        text-align: right;\n",
              "    }\n",
              "</style>\n",
              "<table border=\"1\" class=\"dataframe\">\n",
              "  <thead>\n",
              "    <tr style=\"text-align: right;\">\n",
              "      <th></th>\n",
              "      <th>sepal_length</th>\n",
              "      <th>sepal_width</th>\n",
              "      <th>petal_length</th>\n",
              "      <th>petal_width</th>\n",
              "    </tr>\n",
              "  </thead>\n",
              "  <tbody>\n",
              "    <tr>\n",
              "      <th>0</th>\n",
              "      <td>5.1</td>\n",
              "      <td>3.5</td>\n",
              "      <td>1.4</td>\n",
              "      <td>0.2</td>\n",
              "    </tr>\n",
              "    <tr>\n",
              "      <th>12</th>\n",
              "      <td>4.8</td>\n",
              "      <td>3.0</td>\n",
              "      <td>1.4</td>\n",
              "      <td>0.1</td>\n",
              "    </tr>\n",
              "    <tr>\n",
              "      <th>10</th>\n",
              "      <td>5.4</td>\n",
              "      <td>3.7</td>\n",
              "      <td>1.5</td>\n",
              "      <td>0.2</td>\n",
              "    </tr>\n",
              "    <tr>\n",
              "      <th>130</th>\n",
              "      <td>7.4</td>\n",
              "      <td>2.8</td>\n",
              "      <td>6.1</td>\n",
              "      <td>1.9</td>\n",
              "    </tr>\n",
              "    <tr>\n",
              "      <th>1</th>\n",
              "      <td>4.9</td>\n",
              "      <td>3.0</td>\n",
              "      <td>1.4</td>\n",
              "      <td>0.2</td>\n",
              "    </tr>\n",
              "  </tbody>\n",
              "</table>\n",
              "</div>"
            ],
            "text/plain": [
              "     sepal_length  sepal_width  petal_length  petal_width\n",
              "0             5.1          3.5           1.4          0.2\n",
              "12            4.8          3.0           1.4          0.1\n",
              "10            5.4          3.7           1.5          0.2\n",
              "130           7.4          2.8           6.1          1.9\n",
              "1             4.9          3.0           1.4          0.2"
            ]
          },
          "metadata": {
            "tags": []
          },
          "execution_count": 12
        }
      ]
    },
    {
      "cell_type": "code",
      "metadata": {
        "colab": {
          "base_uri": "https://localhost:8080/",
          "height": 202
        },
        "id": "KHRWDzFB8Orp",
        "outputId": "65cef341-a195-4766-8b02-bdc1ef00524a"
      },
      "source": [
        "y_test.head()"
      ],
      "execution_count": null,
      "outputs": [
        {
          "output_type": "execute_result",
          "data": {
            "text/html": [
              "<div>\n",
              "<style scoped>\n",
              "    .dataframe tbody tr th:only-of-type {\n",
              "        vertical-align: middle;\n",
              "    }\n",
              "\n",
              "    .dataframe tbody tr th {\n",
              "        vertical-align: top;\n",
              "    }\n",
              "\n",
              "    .dataframe thead th {\n",
              "        text-align: right;\n",
              "    }\n",
              "</style>\n",
              "<table border=\"1\" class=\"dataframe\">\n",
              "  <thead>\n",
              "    <tr style=\"text-align: right;\">\n",
              "      <th></th>\n",
              "      <th>species</th>\n",
              "    </tr>\n",
              "  </thead>\n",
              "  <tbody>\n",
              "    <tr>\n",
              "      <th>0</th>\n",
              "      <td>Iris-setosa</td>\n",
              "    </tr>\n",
              "    <tr>\n",
              "      <th>12</th>\n",
              "      <td>Iris-setosa</td>\n",
              "    </tr>\n",
              "    <tr>\n",
              "      <th>10</th>\n",
              "      <td>Iris-setosa</td>\n",
              "    </tr>\n",
              "    <tr>\n",
              "      <th>130</th>\n",
              "      <td>Iris-virginica</td>\n",
              "    </tr>\n",
              "    <tr>\n",
              "      <th>1</th>\n",
              "      <td>Iris-setosa</td>\n",
              "    </tr>\n",
              "  </tbody>\n",
              "</table>\n",
              "</div>"
            ],
            "text/plain": [
              "            species\n",
              "0       Iris-setosa\n",
              "12      Iris-setosa\n",
              "10      Iris-setosa\n",
              "130  Iris-virginica\n",
              "1       Iris-setosa"
            ]
          },
          "metadata": {
            "tags": []
          },
          "execution_count": 13
        }
      ]
    },
    {
      "cell_type": "markdown",
      "metadata": {
        "id": "WgB-4SIwy8LO"
      },
      "source": [
        "## Part D: Create and Train a Model\n",
        "\n",
        "We're going to create a model based on the k-Nearest Neighbors algorithm.\n",
        "\n",
        "Since this is a classification task, (we're trying to classify which species a given flower belongs to), we'll use sklearn's [KNeighborsClassifer](https://scikit-learn.org/stable/modules/generated/sklearn.neighbors.KNeighborsClassifier.html#sklearn.neighbors.KNeighborsClassifier)."
      ]
    },
    {
      "cell_type": "markdown",
      "metadata": {
        "id": "EjWBgtnB0L3i"
      },
      "source": [
        "### Step 4. Create and configure the model\n",
        "\n",
        "We start by importing the information about the model we want to create. In python, this information is called a _class_.\n",
        "\n",
        "The KNeighborsClassifier class contains all of the information python needs to create a kNN Classifier.\n",
        "\n",
        "Once we've imported the class, we'll create an _instance_ of the class using this syntax:\n",
        "\n",
        "    whatever = ClassName( parameter_one = value, parameter_two = something_else, etc...)\n",
        "\n",
        "In our case, the class name is `KNeighborsClassifer`. It doesn't matter what we call the variable that holds the instance, but one popular convention is to call classifier instances `clf`, so that's what you'll see in the sklearn documentation.\n",
        "\n",
        "The only parameter we want to configure is the `n_neighbors` parameter, which controls the value of `k` in the kNN algorithm."
      ]
    },
    {
      "cell_type": "code",
      "metadata": {
        "id": "KynXQXBRk-nL"
      },
      "source": [
        "# Import the KNeighborsClassifier class from sklearn\n",
        "# Note that it's in the neighbors submodule. See the example code in the\n",
        "# documentation for details on how to import it\n",
        "from sklearn.neighbors import KNeighborsClassifier\n"
      ],
      "execution_count": null,
      "outputs": []
    },
    {
      "cell_type": "code",
      "metadata": {
        "id": "PXGAiVEf04Wo"
      },
      "source": [
        "# Create an instance of the model, configuring it to use the 3 nearest neighbors\n",
        "# store the instance in a variable\n",
        "neigh = KNeighborsClassifier(n_neighbors=3)"
      ],
      "execution_count": null,
      "outputs": []
    },
    {
      "cell_type": "markdown",
      "metadata": {
        "id": "z4HPfa651GYz"
      },
      "source": [
        "### Step 5: Train the model\n",
        "\n",
        "Next we'll train the model. We do this by providing it with the training data we split off from the dataset in step 3. \n",
        "\n",
        "The model \"learns\" how to associate the feature values (X) with the targets (y). The exact process it uses to learn how to do this depends on which algorithm we're using. \n",
        "\n",
        "Sometimes, this is called \"fitting the data to the model\", so in sklearn, we perform this step using the [fit()](https://scikit-learn.org/stable/modules/generated/sklearn.neighbors.KNeighborsClassifier.html#sklearn.neighbors.KNeighborsClassifier.fit) method."
      ]
    },
    {
      "cell_type": "code",
      "metadata": {
        "id": "dizfrzOr1I8a",
        "colab": {
          "base_uri": "https://localhost:8080/"
        },
        "outputId": "96662a5b-ef7c-4ce1-fc4d-1a2ab8d390c8"
      },
      "source": [
        "# Call the \"fit\" method of the classifier instance we created in step 4.\n",
        "# Pass it the X_train and y_train data so that it can learn to make predictions\n",
        "neigh.fit(X_train, y_train)"
      ],
      "execution_count": null,
      "outputs": [
        {
          "output_type": "stream",
          "text": [
            "/usr/local/lib/python3.6/dist-packages/ipykernel_launcher.py:3: DataConversionWarning: A column-vector y was passed when a 1d array was expected. Please change the shape of y to (n_samples, ), for example using ravel().\n",
            "  This is separate from the ipykernel package so we can avoid doing imports until\n"
          ],
          "name": "stderr"
        },
        {
          "output_type": "execute_result",
          "data": {
            "text/plain": [
              "KNeighborsClassifier(algorithm='auto', leaf_size=30, metric='minkowski',\n",
              "                     metric_params=None, n_jobs=None, n_neighbors=3, p=2,\n",
              "                     weights='uniform')"
            ]
          },
          "metadata": {
            "tags": []
          },
          "execution_count": 16
        }
      ]
    },
    {
      "cell_type": "markdown",
      "metadata": {
        "id": "VicDBl5Me_y4"
      },
      "source": [
        "## Part E: Make Predictions and Evaluate the Model\n",
        "\n",
        "Now that the model has been created and trained, we can use it to make predictions. Since this is a classification model, when we give it a set of features, it tells us what the most likely target value is.\n",
        "\n",
        "In this case, we tell the model \"here are the values for petal width, petal length, sepal width, and sepal length for a particular flower\" The model then tells us which species is the most likely for that flower.\n",
        "\n",
        "When testing how well our model works, we'll use the test data we split off earlier. It contains the measurements for several flowers, along with their species."
      ]
    },
    {
      "cell_type": "markdown",
      "metadata": {
        "id": "k9DzR_52ipq-"
      },
      "source": [
        "### Step 6: Make Predictions on Test Data\n",
        "\n",
        "We'll give the measurements of each flower to the model and have it predict their species. We'll then compare those predictions to the known values to determine how accurate our model is.\n",
        "\n",
        "Since this is a classification model, there are two different methods we can use to make predictions:\n",
        "\n",
        "- [predict()](https://scikit-learn.org/stable/modules/generated/sklearn.neighbors.KNeighborsClassifier.html#sklearn.neighbors.KNeighborsClassifier.predict), which returns the most likely prediction for each sample.\n",
        "\n",
        "- [predict_proba()](https://scikit-learn.org/stable/modules/generated/sklearn.neighbors.KNeighborsClassifier.html#sklearn.neighbors.KNeighborsClassifier.predict_proba) which returns a list of probabilities for each sample. The probabilities tell us how confident the model is that the corresponding sample belongs to a particular class."
      ]
    },
    {
      "cell_type": "code",
      "metadata": {
        "id": "Y1wzEojqoEn_",
        "colab": {
          "base_uri": "https://localhost:8080/"
        },
        "outputId": "dd7a4be2-2c8f-49a7-bac2-d6d6ffb6497d"
      },
      "source": [
        "# Use the predict() method to get a list of predictions for the samples in our \n",
        "# test data. Then output those predictions\n",
        "y_pred = neigh.predict(X_test)\n",
        "y_pred"
      ],
      "execution_count": null,
      "outputs": [
        {
          "output_type": "execute_result",
          "data": {
            "text/plain": [
              "array(['Iris-setosa', 'Iris-setosa', 'Iris-setosa', 'Iris-virginica',\n",
              "       'Iris-setosa', 'Iris-setosa', 'Iris-versicolor', 'Iris-versicolor',\n",
              "       'Iris-setosa', 'Iris-setosa', 'Iris-virginica', 'Iris-versicolor',\n",
              "       'Iris-virginica', 'Iris-versicolor', 'Iris-setosa', 'Iris-setosa',\n",
              "       'Iris-virginica', 'Iris-versicolor', 'Iris-versicolor',\n",
              "       'Iris-setosa', 'Iris-virginica', 'Iris-versicolor', 'Iris-setosa',\n",
              "       'Iris-setosa', 'Iris-setosa', 'Iris-virginica', 'Iris-virginica',\n",
              "       'Iris-setosa', 'Iris-versicolor', 'Iris-versicolor'], dtype=object)"
            ]
          },
          "metadata": {
            "tags": []
          },
          "execution_count": 17
        }
      ]
    },
    {
      "cell_type": "code",
      "metadata": {
        "id": "v8rNy7hxoNfu",
        "colab": {
          "base_uri": "https://localhost:8080/",
          "height": 969
        },
        "outputId": "03c31489-ed74-4dd5-d867-36baf1acb396"
      },
      "source": [
        "# Just a quick comparison with y_test to see if they match up\n",
        "y_test"
      ],
      "execution_count": null,
      "outputs": [
        {
          "output_type": "execute_result",
          "data": {
            "text/html": [
              "<div>\n",
              "<style scoped>\n",
              "    .dataframe tbody tr th:only-of-type {\n",
              "        vertical-align: middle;\n",
              "    }\n",
              "\n",
              "    .dataframe tbody tr th {\n",
              "        vertical-align: top;\n",
              "    }\n",
              "\n",
              "    .dataframe thead th {\n",
              "        text-align: right;\n",
              "    }\n",
              "</style>\n",
              "<table border=\"1\" class=\"dataframe\">\n",
              "  <thead>\n",
              "    <tr style=\"text-align: right;\">\n",
              "      <th></th>\n",
              "      <th>species</th>\n",
              "    </tr>\n",
              "  </thead>\n",
              "  <tbody>\n",
              "    <tr>\n",
              "      <th>0</th>\n",
              "      <td>Iris-setosa</td>\n",
              "    </tr>\n",
              "    <tr>\n",
              "      <th>12</th>\n",
              "      <td>Iris-setosa</td>\n",
              "    </tr>\n",
              "    <tr>\n",
              "      <th>10</th>\n",
              "      <td>Iris-setosa</td>\n",
              "    </tr>\n",
              "    <tr>\n",
              "      <th>130</th>\n",
              "      <td>Iris-virginica</td>\n",
              "    </tr>\n",
              "    <tr>\n",
              "      <th>1</th>\n",
              "      <td>Iris-setosa</td>\n",
              "    </tr>\n",
              "    <tr>\n",
              "      <th>15</th>\n",
              "      <td>Iris-setosa</td>\n",
              "    </tr>\n",
              "    <tr>\n",
              "      <th>89</th>\n",
              "      <td>Iris-versicolor</td>\n",
              "    </tr>\n",
              "    <tr>\n",
              "      <th>71</th>\n",
              "      <td>Iris-versicolor</td>\n",
              "    </tr>\n",
              "    <tr>\n",
              "      <th>24</th>\n",
              "      <td>Iris-setosa</td>\n",
              "    </tr>\n",
              "    <tr>\n",
              "      <th>11</th>\n",
              "      <td>Iris-setosa</td>\n",
              "    </tr>\n",
              "    <tr>\n",
              "      <th>116</th>\n",
              "      <td>Iris-virginica</td>\n",
              "    </tr>\n",
              "    <tr>\n",
              "      <th>74</th>\n",
              "      <td>Iris-versicolor</td>\n",
              "    </tr>\n",
              "    <tr>\n",
              "      <th>149</th>\n",
              "      <td>Iris-virginica</td>\n",
              "    </tr>\n",
              "    <tr>\n",
              "      <th>93</th>\n",
              "      <td>Iris-versicolor</td>\n",
              "    </tr>\n",
              "    <tr>\n",
              "      <th>32</th>\n",
              "      <td>Iris-setosa</td>\n",
              "    </tr>\n",
              "    <tr>\n",
              "      <th>39</th>\n",
              "      <td>Iris-setosa</td>\n",
              "    </tr>\n",
              "    <tr>\n",
              "      <th>109</th>\n",
              "      <td>Iris-virginica</td>\n",
              "    </tr>\n",
              "    <tr>\n",
              "      <th>80</th>\n",
              "      <td>Iris-versicolor</td>\n",
              "    </tr>\n",
              "    <tr>\n",
              "      <th>57</th>\n",
              "      <td>Iris-versicolor</td>\n",
              "    </tr>\n",
              "    <tr>\n",
              "      <th>31</th>\n",
              "      <td>Iris-setosa</td>\n",
              "    </tr>\n",
              "    <tr>\n",
              "      <th>123</th>\n",
              "      <td>Iris-virginica</td>\n",
              "    </tr>\n",
              "    <tr>\n",
              "      <th>50</th>\n",
              "      <td>Iris-versicolor</td>\n",
              "    </tr>\n",
              "    <tr>\n",
              "      <th>40</th>\n",
              "      <td>Iris-setosa</td>\n",
              "    </tr>\n",
              "    <tr>\n",
              "      <th>30</th>\n",
              "      <td>Iris-setosa</td>\n",
              "    </tr>\n",
              "    <tr>\n",
              "      <th>36</th>\n",
              "      <td>Iris-setosa</td>\n",
              "    </tr>\n",
              "    <tr>\n",
              "      <th>121</th>\n",
              "      <td>Iris-virginica</td>\n",
              "    </tr>\n",
              "    <tr>\n",
              "      <th>138</th>\n",
              "      <td>Iris-virginica</td>\n",
              "    </tr>\n",
              "    <tr>\n",
              "      <th>5</th>\n",
              "      <td>Iris-setosa</td>\n",
              "    </tr>\n",
              "    <tr>\n",
              "      <th>88</th>\n",
              "      <td>Iris-versicolor</td>\n",
              "    </tr>\n",
              "    <tr>\n",
              "      <th>63</th>\n",
              "      <td>Iris-versicolor</td>\n",
              "    </tr>\n",
              "  </tbody>\n",
              "</table>\n",
              "</div>"
            ],
            "text/plain": [
              "             species\n",
              "0        Iris-setosa\n",
              "12       Iris-setosa\n",
              "10       Iris-setosa\n",
              "130   Iris-virginica\n",
              "1        Iris-setosa\n",
              "15       Iris-setosa\n",
              "89   Iris-versicolor\n",
              "71   Iris-versicolor\n",
              "24       Iris-setosa\n",
              "11       Iris-setosa\n",
              "116   Iris-virginica\n",
              "74   Iris-versicolor\n",
              "149   Iris-virginica\n",
              "93   Iris-versicolor\n",
              "32       Iris-setosa\n",
              "39       Iris-setosa\n",
              "109   Iris-virginica\n",
              "80   Iris-versicolor\n",
              "57   Iris-versicolor\n",
              "31       Iris-setosa\n",
              "123   Iris-virginica\n",
              "50   Iris-versicolor\n",
              "40       Iris-setosa\n",
              "30       Iris-setosa\n",
              "36       Iris-setosa\n",
              "121   Iris-virginica\n",
              "138   Iris-virginica\n",
              "5        Iris-setosa\n",
              "88   Iris-versicolor\n",
              "63   Iris-versicolor"
            ]
          },
          "metadata": {
            "tags": []
          },
          "execution_count": 18
        }
      ]
    },
    {
      "cell_type": "code",
      "metadata": {
        "colab": {
          "base_uri": "https://localhost:8080/"
        },
        "id": "yMmfN0J4-ucg",
        "outputId": "3f3f97ef-0b16-4466-da18-d5dda2e43cf0"
      },
      "source": [
        "neigh.predict_proba(X_test) # or X"
      ],
      "execution_count": null,
      "outputs": [
        {
          "output_type": "execute_result",
          "data": {
            "text/plain": [
              "array([[1.        , 0.        , 0.        ],\n",
              "       [1.        , 0.        , 0.        ],\n",
              "       [1.        , 0.        , 0.        ],\n",
              "       [0.        , 0.        , 1.        ],\n",
              "       [1.        , 0.        , 0.        ],\n",
              "       [1.        , 0.        , 0.        ],\n",
              "       [0.        , 1.        , 0.        ],\n",
              "       [0.        , 1.        , 0.        ],\n",
              "       [1.        , 0.        , 0.        ],\n",
              "       [1.        , 0.        , 0.        ],\n",
              "       [0.        , 0.        , 1.        ],\n",
              "       [0.        , 1.        , 0.        ],\n",
              "       [0.        , 0.        , 1.        ],\n",
              "       [0.        , 1.        , 0.        ],\n",
              "       [1.        , 0.        , 0.        ],\n",
              "       [1.        , 0.        , 0.        ],\n",
              "       [0.        , 0.        , 1.        ],\n",
              "       [0.        , 1.        , 0.        ],\n",
              "       [0.        , 1.        , 0.        ],\n",
              "       [1.        , 0.        , 0.        ],\n",
              "       [0.        , 0.        , 1.        ],\n",
              "       [0.        , 1.        , 0.        ],\n",
              "       [1.        , 0.        , 0.        ],\n",
              "       [1.        , 0.        , 0.        ],\n",
              "       [1.        , 0.        , 0.        ],\n",
              "       [0.        , 0.        , 1.        ],\n",
              "       [0.        , 0.33333333, 0.66666667],\n",
              "       [1.        , 0.        , 0.        ],\n",
              "       [0.        , 1.        , 0.        ],\n",
              "       [0.        , 1.        , 0.        ]])"
            ]
          },
          "metadata": {
            "tags": []
          },
          "execution_count": 19
        }
      ]
    },
    {
      "cell_type": "markdown",
      "metadata": {
        "id": "_YBap2t2igKT"
      },
      "source": [
        "### Step 7: Evaluate the Model\n",
        "\n",
        "There are several metrics we can use to determine how well our model is performing.\n",
        "\n",
        "Most of them are in the [sklearn.metrics library](https://scikit-learn.org/stable/modules/classes.html#sklearn-metrics-metrics).\n",
        "\n",
        "Most of the sklearn metric function work using the same pattern. We import the function, then give it a list of the true values for our test data, and a list of the values the model predicted for our test data. The metric then outputs the value. How we interpret that value will depend on the exact problem we're solving, the qualities of our data, and the particular metric we're using."
      ]
    },
    {
      "cell_type": "markdown",
      "metadata": {
        "id": "w-na7Ahwl6d2"
      },
      "source": [
        "#### Accuracy \n",
        "Since this is a multiclass classification problem (\"multiclass\" means we have more than two options we're choosing from), we can get a quick estimate from the [accuracy_score()](https://scikit-learn.org/stable/modules/generated/sklearn.metrics.accuracy_score.html#sklearn.metrics.accuracy_score) function, which tells us the percent of correct predictions made by the model."
      ]
    },
    {
      "cell_type": "code",
      "metadata": {
        "id": "ZndOJI6XoP46",
        "colab": {
          "base_uri": "https://localhost:8080/"
        },
        "outputId": "a35eac25-c937-43f6-9c52-b9e2a139dd17"
      },
      "source": [
        "# Import the accuracy_score function and use it to determine\n",
        "# how accurate the models predictions were for our test data\n",
        "from sklearn.metrics import accuracy_score\n",
        "\n",
        "accuracy_score(y_test, y_pred)"
      ],
      "execution_count": null,
      "outputs": [
        {
          "output_type": "execute_result",
          "data": {
            "text/plain": [
              "1.0"
            ]
          },
          "metadata": {
            "tags": []
          },
          "execution_count": 20
        }
      ]
    },
    {
      "cell_type": "markdown",
      "metadata": {
        "id": "VZh218e_kuqw"
      },
      "source": [
        "#### Confusion Matrix\n",
        "While the accuracy score tells us a little about the model's performance, it doesn't tell us much.\n",
        "\n",
        "For example, we know how often the model was correct, but we don't know when it was wrong or why.\n",
        "\n",
        "We can get this information from the [confusion_matrix](https://scikit-learn.org/stable/modules/generated/sklearn.metrics.confusion_matrix.html#sklearn.metrics.confusion_matrix) function."
      ]
    },
    {
      "cell_type": "code",
      "metadata": {
        "id": "oqyBO7NRpjjB",
        "colab": {
          "base_uri": "https://localhost:8080/"
        },
        "outputId": "b2913fc8-1288-4909-a66e-840e5440856d"
      },
      "source": [
        "# Import the confusion_matrix function and use it to generate a confusion\n",
        "# matrix of our model results.\n",
        "from sklearn.metrics import confusion_matrix\n",
        "\n",
        "confusion_matrix(y_test, y_pred)"
      ],
      "execution_count": null,
      "outputs": [
        {
          "output_type": "execute_result",
          "data": {
            "text/plain": [
              "array([[14,  0,  0],\n",
              "       [ 0,  9,  0],\n",
              "       [ 0,  0,  7]])"
            ]
          },
          "metadata": {
            "tags": []
          },
          "execution_count": 21
        }
      ]
    },
    {
      "cell_type": "markdown",
      "metadata": {
        "id": "A_bfx9e7lv9r"
      },
      "source": [
        "#### Confusion Matrix Plot\n",
        "\n",
        "It's easier to see the results of the confusion matrix if we plot the results. The easiest way to do this is with the [plot_confusion_matrix()](https://scikit-learn.org/stable/modules/generated/sklearn.metrics.plot_confusion_matrix.html) function. \n",
        "\n",
        "This function works a little bit differently than the others. It takes as parameters your model instance, and the X_test and y_test data frames, and outputs a confusion matrix showing how well the model did in predicting the target values. \n",
        "\n",
        "You'll notice that in many cases (including this one), the numbers in the confusion matrix will be the same as the results you see from the confusion_matrix() function above, but the plot makes it easier to interpret the results.\n",
        "\n",
        "When using the confusion matrix, you may find that the default color mapping is difficult to read. The \"Blues\" mapping is a popular choice."
      ]
    },
    {
      "cell_type": "code",
      "metadata": {
        "id": "6CuFoRyHp6fu",
        "colab": {
          "base_uri": "https://localhost:8080/",
          "height": 283
        },
        "outputId": "4d6d003d-78e4-4ecd-aabf-a28cb52f371d"
      },
      "source": [
        "# Import the plot_confusion_matrix function and use it to plot the confusion\n",
        "# matrix for the test data.\n",
        "from sklearn.metrics import plot_confusion_matrix\n",
        "import matplotlib.pyplot as plt\n",
        "\n",
        "plot_confusion_matrix(neigh, X_test, y_test)  \n",
        "plt.show()\n"
      ],
      "execution_count": null,
      "outputs": [
        {
          "output_type": "display_data",
          "data": {
            "image/png": "[encoded data removed]",
            "text/plain": [
              "<Figure size 432x288 with 2 Axes>"
            ]
          },
          "metadata": {
            "tags": [],
            "needs_background": "light"
          }
        }
      ]
    },
    {
      "cell_type": "markdown",
      "metadata": {
        "id": "IyrxIM5ZuBsJ"
      },
      "source": [
        "## 🌟 Above and Beyond 🌟\n",
        "\n",
        "Once you've complted the basics, try to complete one or more of the following tasks:\n",
        "\n",
        "1. See if you can get better results from your model through some data preprocessing, such as normaliation.\n",
        "\n",
        "2. Often, using too many features can give poor results. Can you get better performance using a subset of the features instead of all four?\n",
        "\n",
        "3. Are there other ways you could visualize your model results?"
      ]
    },
    {
      "cell_type": "markdown",
      "metadata": {
        "id": "i0V3ptHMZqh9"
      },
      "source": [
        "normalization: making range in between 0 ~ 1.\n",
        "standardization: make mean = 0, and standard deviation = 1."
      ]
    },
    {
      "cell_type": "code",
      "metadata": {
        "id": "ouz51f4oTP0s",
        "colab": {
          "base_uri": "https://localhost:8080/"
        },
        "outputId": "4745f456-ce7e-41e0-c3fe-29ef9e447265"
      },
      "source": [
        "# standardization\n",
        "\n",
        "# Standardize the data attributes for the Iris dataset.\n",
        "from sklearn.datasets import load_iris\n",
        "from sklearn import preprocessing\n",
        "# load the Iris dataset\n",
        "iris = load_iris()\n",
        "print(iris.data.shape)\n",
        "# separate the data and target attributes\n",
        "X = iris.data\n",
        "y = iris.target\n",
        "# standardize the data attributes\n",
        "standardized_X = preprocessing.scale(X)"
      ],
      "execution_count": null,
      "outputs": [
        {
          "output_type": "stream",
          "text": [
            "(150, 4)\n"
          ],
          "name": "stdout"
        }
      ]
    },
    {
      "cell_type": "code",
      "metadata": {
        "id": "plb6M-uqaR8P"
      },
      "source": [
        "from sklearn import preprocessing\n",
        "X2 = data[[\"sepal_length\", \"sepal_width\", \"petal_length\", \"petal_width\"]]\n",
        "y2 = data[[\"species\"]]\n",
        "\n",
        "normalized_X = preprocessing.normalize(X2)"
      ],
      "execution_count": null,
      "outputs": []
    },
    {
      "cell_type": "code",
      "metadata": {
        "id": "w7sfKL5nSCmZ"
      },
      "source": [
        "#Normalzing\n",
        "\n",
        "# dataframes into training and test sets.\n",
        "#\n",
        "# The training data should contain 80% of the samples and\n",
        "# the test data should contain 20% of the samples.\n",
        "\n",
        "from sklearn import preprocessing\n",
        "\n",
        "# X_new = X.values #returns a numpy array\n",
        "#min_max_scaler = preprocessing.MinMaxScaler()\n",
        "\n",
        "X_new_scaled = preprocessing.MinMaxScaler().fit_transform(X)\n",
        "X_new_scaled = pd.DataFrame(X_new_scaled)\n",
        "\n",
        "X_new_scaled.columns = X.columns\n",
        "\n",
        "from sklearn.model_selection import train_test_split\n",
        "X_train, X_test, y_train, y_test = train_test_split(X_new_scaled, y, test_size=.2) #, random_state = 42)\n"
      ],
      "execution_count": null,
      "outputs": []
    },
    {
      "cell_type": "code",
      "metadata": {
        "id": "qklC9Jykl4wF",
        "colab": {
          "base_uri": "https://localhost:8080/",
          "height": 202
        },
        "outputId": "c5b52a73-5cc4-4d7c-97ca-7f9fc7c25687"
      },
      "source": [
        "X_new_scaled.head()"
      ],
      "execution_count": null,
      "outputs": [
        {
          "output_type": "execute_result",
          "data": {
            "text/html": [
              "<div>\n",
              "<style scoped>\n",
              "    .dataframe tbody tr th:only-of-type {\n",
              "        vertical-align: middle;\n",
              "    }\n",
              "\n",
              "    .dataframe tbody tr th {\n",
              "        vertical-align: top;\n",
              "    }\n",
              "\n",
              "    .dataframe thead th {\n",
              "        text-align: right;\n",
              "    }\n",
              "</style>\n",
              "<table border=\"1\" class=\"dataframe\">\n",
              "  <thead>\n",
              "    <tr style=\"text-align: right;\">\n",
              "      <th></th>\n",
              "      <th>sepal_length</th>\n",
              "      <th>sepal_width</th>\n",
              "      <th>petal_length</th>\n",
              "      <th>petal_width</th>\n",
              "    </tr>\n",
              "  </thead>\n",
              "  <tbody>\n",
              "    <tr>\n",
              "      <th>0</th>\n",
              "      <td>0.222222</td>\n",
              "      <td>0.625000</td>\n",
              "      <td>0.067797</td>\n",
              "      <td>0.041667</td>\n",
              "    </tr>\n",
              "    <tr>\n",
              "      <th>1</th>\n",
              "      <td>0.166667</td>\n",
              "      <td>0.416667</td>\n",
              "      <td>0.067797</td>\n",
              "      <td>0.041667</td>\n",
              "    </tr>\n",
              "    <tr>\n",
              "      <th>2</th>\n",
              "      <td>0.111111</td>\n",
              "      <td>0.500000</td>\n",
              "      <td>0.050847</td>\n",
              "      <td>0.041667</td>\n",
              "    </tr>\n",
              "    <tr>\n",
              "      <th>3</th>\n",
              "      <td>0.083333</td>\n",
              "      <td>0.458333</td>\n",
              "      <td>0.084746</td>\n",
              "      <td>0.041667</td>\n",
              "    </tr>\n",
              "    <tr>\n",
              "      <th>4</th>\n",
              "      <td>0.194444</td>\n",
              "      <td>0.666667</td>\n",
              "      <td>0.067797</td>\n",
              "      <td>0.041667</td>\n",
              "    </tr>\n",
              "  </tbody>\n",
              "</table>\n",
              "</div>"
            ],
            "text/plain": [
              "   sepal_length  sepal_width  petal_length  petal_width\n",
              "0      0.222222     0.625000      0.067797     0.041667\n",
              "1      0.166667     0.416667      0.067797     0.041667\n",
              "2      0.111111     0.500000      0.050847     0.041667\n",
              "3      0.083333     0.458333      0.084746     0.041667\n",
              "4      0.194444     0.666667      0.067797     0.041667"
            ]
          },
          "metadata": {
            "tags": []
          },
          "execution_count": 28
        }
      ]
    },
    {
      "cell_type": "code",
      "metadata": {
        "id": "81KVzsZFTae9",
        "colab": {
          "base_uri": "https://localhost:8080/",
          "height": 202
        },
        "outputId": "452c815a-4f3b-4b0c-c7be-ac3b7fbbe2c3"
      },
      "source": [
        "X_train.head()"
      ],
      "execution_count": null,
      "outputs": [
        {
          "output_type": "execute_result",
          "data": {
            "text/html": [
              "<div>\n",
              "<style scoped>\n",
              "    .dataframe tbody tr th:only-of-type {\n",
              "        vertical-align: middle;\n",
              "    }\n",
              "\n",
              "    .dataframe tbody tr th {\n",
              "        vertical-align: top;\n",
              "    }\n",
              "\n",
              "    .dataframe thead th {\n",
              "        text-align: right;\n",
              "    }\n",
              "</style>\n",
              "<table border=\"1\" class=\"dataframe\">\n",
              "  <thead>\n",
              "    <tr style=\"text-align: right;\">\n",
              "      <th></th>\n",
              "      <th>sepal_length</th>\n",
              "      <th>sepal_width</th>\n",
              "      <th>petal_length</th>\n",
              "      <th>petal_width</th>\n",
              "    </tr>\n",
              "  </thead>\n",
              "  <tbody>\n",
              "    <tr>\n",
              "      <th>19</th>\n",
              "      <td>0.222222</td>\n",
              "      <td>0.750000</td>\n",
              "      <td>0.084746</td>\n",
              "      <td>0.083333</td>\n",
              "    </tr>\n",
              "    <tr>\n",
              "      <th>113</th>\n",
              "      <td>0.388889</td>\n",
              "      <td>0.208333</td>\n",
              "      <td>0.677966</td>\n",
              "      <td>0.791667</td>\n",
              "    </tr>\n",
              "    <tr>\n",
              "      <th>89</th>\n",
              "      <td>0.333333</td>\n",
              "      <td>0.208333</td>\n",
              "      <td>0.508475</td>\n",
              "      <td>0.500000</td>\n",
              "    </tr>\n",
              "    <tr>\n",
              "      <th>41</th>\n",
              "      <td>0.055556</td>\n",
              "      <td>0.125000</td>\n",
              "      <td>0.050847</td>\n",
              "      <td>0.083333</td>\n",
              "    </tr>\n",
              "    <tr>\n",
              "      <th>27</th>\n",
              "      <td>0.250000</td>\n",
              "      <td>0.625000</td>\n",
              "      <td>0.084746</td>\n",
              "      <td>0.041667</td>\n",
              "    </tr>\n",
              "  </tbody>\n",
              "</table>\n",
              "</div>"
            ],
            "text/plain": [
              "     sepal_length  sepal_width  petal_length  petal_width\n",
              "19       0.222222     0.750000      0.084746     0.083333\n",
              "113      0.388889     0.208333      0.677966     0.791667\n",
              "89       0.333333     0.208333      0.508475     0.500000\n",
              "41       0.055556     0.125000      0.050847     0.083333\n",
              "27       0.250000     0.625000      0.084746     0.041667"
            ]
          },
          "metadata": {
            "tags": []
          },
          "execution_count": 29
        }
      ]
    },
    {
      "cell_type": "code",
      "metadata": {
        "id": "DyabaffLWGxr"
      },
      "source": [
        "X_new_scaled[\"species\"] = data[\"species\"] # =y"
      ],
      "execution_count": null,
      "outputs": []
    },
    {
      "cell_type": "code",
      "metadata": {
        "id": "g24Lf2XVmR6e",
        "colab": {
          "base_uri": "https://localhost:8080/",
          "height": 202
        },
        "outputId": "69ac5e43-c80d-40e0-87ef-b760f36a855a"
      },
      "source": [
        "X_new_scaled.head()"
      ],
      "execution_count": null,
      "outputs": [
        {
          "output_type": "execute_result",
          "data": {
            "text/html": [
              "<div>\n",
              "<style scoped>\n",
              "    .dataframe tbody tr th:only-of-type {\n",
              "        vertical-align: middle;\n",
              "    }\n",
              "\n",
              "    .dataframe tbody tr th {\n",
              "        vertical-align: top;\n",
              "    }\n",
              "\n",
              "    .dataframe thead th {\n",
              "        text-align: right;\n",
              "    }\n",
              "</style>\n",
              "<table border=\"1\" class=\"dataframe\">\n",
              "  <thead>\n",
              "    <tr style=\"text-align: right;\">\n",
              "      <th></th>\n",
              "      <th>sepal_length</th>\n",
              "      <th>sepal_width</th>\n",
              "      <th>petal_length</th>\n",
              "      <th>petal_width</th>\n",
              "      <th>species</th>\n",
              "    </tr>\n",
              "  </thead>\n",
              "  <tbody>\n",
              "    <tr>\n",
              "      <th>0</th>\n",
              "      <td>0.222222</td>\n",
              "      <td>0.625000</td>\n",
              "      <td>0.067797</td>\n",
              "      <td>0.041667</td>\n",
              "      <td>Iris-setosa</td>\n",
              "    </tr>\n",
              "    <tr>\n",
              "      <th>1</th>\n",
              "      <td>0.166667</td>\n",
              "      <td>0.416667</td>\n",
              "      <td>0.067797</td>\n",
              "      <td>0.041667</td>\n",
              "      <td>Iris-setosa</td>\n",
              "    </tr>\n",
              "    <tr>\n",
              "      <th>2</th>\n",
              "      <td>0.111111</td>\n",
              "      <td>0.500000</td>\n",
              "      <td>0.050847</td>\n",
              "      <td>0.041667</td>\n",
              "      <td>Iris-setosa</td>\n",
              "    </tr>\n",
              "    <tr>\n",
              "      <th>3</th>\n",
              "      <td>0.083333</td>\n",
              "      <td>0.458333</td>\n",
              "      <td>0.084746</td>\n",
              "      <td>0.041667</td>\n",
              "      <td>Iris-setosa</td>\n",
              "    </tr>\n",
              "    <tr>\n",
              "      <th>4</th>\n",
              "      <td>0.194444</td>\n",
              "      <td>0.666667</td>\n",
              "      <td>0.067797</td>\n",
              "      <td>0.041667</td>\n",
              "      <td>Iris-setosa</td>\n",
              "    </tr>\n",
              "  </tbody>\n",
              "</table>\n",
              "</div>"
            ],
            "text/plain": [
              "   sepal_length  sepal_width  petal_length  petal_width      species\n",
              "0      0.222222     0.625000      0.067797     0.041667  Iris-setosa\n",
              "1      0.166667     0.416667      0.067797     0.041667  Iris-setosa\n",
              "2      0.111111     0.500000      0.050847     0.041667  Iris-setosa\n",
              "3      0.083333     0.458333      0.084746     0.041667  Iris-setosa\n",
              "4      0.194444     0.666667      0.067797     0.041667  Iris-setosa"
            ]
          },
          "metadata": {
            "tags": []
          },
          "execution_count": 31
        }
      ]
    },
    {
      "cell_type": "code",
      "metadata": {
        "id": "AOSxVL8wbFU1",
        "colab": {
          "base_uri": "https://localhost:8080/",
          "height": 484
        },
        "outputId": "6d32d96f-d9b4-4cce-c004-82fa47f008d9"
      },
      "source": [
        "# how to visualize normalized data as the original data?\n",
        "\n",
        "alt.Chart(X_new_scaled).mark_circle().encode(\n",
        "    alt.X(\"petal_length\"),\n",
        "    alt.Y(\"petal_width\"),\n",
        "    alt.Color(\"species\", scale = alt.Scale(scheme = 'set1'))\n",
        ").properties(\n",
        "    width = 400,\n",
        "    height = 400,\n",
        "    title = \"Iris\"\n",
        ")"
      ],
      "execution_count": null,
      "outputs": [
        {
          "output_type": "execute_result",
          "data": {
            "text/plain": [
              "alt.Chart(...)"
            ],
            "text/html": [
              "\n",
              "<div id=\"altair-viz-6a5a07f7fd5a48b3a717c63d0c6dda56\"></div>\n",
              "<script type=\"text/javascript\">\n",
              "  (function(spec, embedOpt){\n",
              "    let outputDiv = document.currentScript.previousElementSibling;\n",
              "    if (outputDiv.id !== \"altair-viz-6a5a07f7fd5a48b3a717c63d0c6dda56\") {\n",
              "      outputDiv = document.getElementById(\"altair-viz-6a5a07f7fd5a48b3a717c63d0c6dda56\");\n",
              "    }\n",
              "    const paths = {\n",
              "      \"vega\": \"https://cdn.jsdelivr.net/npm//vega@5?noext\",\n",
              "      \"vega-lib\": \"https://cdn.jsdelivr.net/npm//vega-lib?noext\",\n",
              "      \"vega-lite\": \"https://cdn.jsdelivr.net/npm//vega-lite@4.8.1?noext\",\n",
              "      \"vega-embed\": \"https://cdn.jsdelivr.net/npm//vega-embed@6?noext\",\n",
              "    };\n",
              "\n",
              "    function loadScript(lib) {\n",
              "      return new Promise(function(resolve, reject) {\n",
              "        var s = document.createElement('script');\n",
              "        s.src = paths[lib];\n",
              "        s.async = true;\n",
              "        s.onload = () => resolve(paths[lib]);\n",
              "        s.onerror = () => reject(`Error loading script: ${paths[lib]}`);\n",
              "        document.getElementsByTagName(\"head\")[0].appendChild(s);\n",
              "      });\n",
              "    }\n",
              "\n",
              "    function showError(err) {\n",
              "      outputDiv.innerHTML = `<div class=\"error\" style=\"color:red;\">${err}</div>`;\n",
              "      throw err;\n",
              "    }\n",
              "\n",
              "    function displayChart(vegaEmbed) {\n",
              "      vegaEmbed(outputDiv, spec, embedOpt)\n",
              "        .catch(err => showError(`Javascript Error: ${err.message}<br>This usually means there's a typo in your chart specification. See the javascript console for the full traceback.`));\n",
              "    }\n",
              "\n",
              "    if(typeof define === \"function\" && define.amd) {\n",
              "      requirejs.config({paths});\n",
              "      require([\"vega-embed\"], displayChart, err => showError(`Error loading script: ${err.message}`));\n",
              "    } else if (typeof vegaEmbed === \"function\") {\n",
              "      displayChart(vegaEmbed);\n",
              "    } else {\n",
              "      loadScript(\"vega\")\n",
              "        .then(() => loadScript(\"vega-lite\"))\n",
              "        .then(() => loadScript(\"vega-embed\"))\n",
              "        .catch(showError)\n",
              "        .then(() => displayChart(vegaEmbed));\n",
              "    }\n",
              "  })({\"config\": {\"view\": {\"continuousWidth\": 400, \"continuousHeight\": 300}}, \"data\": {\"name\": \"data-95807f66f0a4047204606abf0da06884\"}, \"mark\": \"circle\", \"encoding\": {\"color\": {\"type\": \"nominal\", \"field\": \"species\", \"scale\": {\"scheme\": \"set1\"}}, \"x\": {\"type\": \"quantitative\", \"field\": \"petal_length\"}, \"y\": {\"type\": \"quantitative\", \"field\": \"petal_width\"}}, \"height\": 400, \"title\": \"Iris\", \"width\": 400, \"$schema\": \"https://vega.github.io/schema/vega-lite/v4.8.1.json\", \"datasets\": {\"data-95807f66f0a4047204606abf0da06884\": [{\"sepal_length\": 0.2222222222222221, \"sepal_width\": 0.625, \"petal_length\": 0.06779661016949151, \"petal_width\": 0.04166666666666667, \"species\": \"Iris-setosa\"}, {\"sepal_length\": 0.16666666666666674, \"sepal_width\": 0.41666666666666674, \"petal_length\": 0.06779661016949151, \"petal_width\": 0.04166666666666667, \"species\": \"Iris-setosa\"}, {\"sepal_length\": 0.11111111111111116, \"sepal_width\": 0.5, \"petal_length\": 0.05084745762711865, \"petal_width\": 0.04166666666666667, \"species\": \"Iris-setosa\"}, {\"sepal_length\": 0.08333333333333326, \"sepal_width\": 0.45833333333333326, \"petal_length\": 0.0847457627118644, \"petal_width\": 0.04166666666666667, \"species\": \"Iris-setosa\"}, {\"sepal_length\": 0.19444444444444442, \"sepal_width\": 0.6666666666666667, \"petal_length\": 0.06779661016949151, \"petal_width\": 0.04166666666666667, \"species\": \"Iris-setosa\"}, {\"sepal_length\": 0.3055555555555556, \"sepal_width\": 0.7916666666666665, \"petal_length\": 0.11864406779661013, \"petal_width\": 0.125, \"species\": \"Iris-setosa\"}, {\"sepal_length\": 0.08333333333333326, \"sepal_width\": 0.5833333333333333, \"petal_length\": 0.06779661016949151, \"petal_width\": 0.08333333333333333, \"species\": \"Iris-setosa\"}, {\"sepal_length\": 0.19444444444444442, \"sepal_width\": 0.5833333333333333, \"petal_length\": 0.0847457627118644, \"petal_width\": 0.04166666666666667, \"species\": \"Iris-setosa\"}, {\"sepal_length\": 0.0277777777777779, \"sepal_width\": 0.375, \"petal_length\": 0.06779661016949151, \"petal_width\": 0.04166666666666667, \"species\": \"Iris-setosa\"}, {\"sepal_length\": 0.16666666666666674, \"sepal_width\": 0.45833333333333326, \"petal_length\": 0.0847457627118644, \"petal_width\": 0.0, \"species\": \"Iris-setosa\"}, {\"sepal_length\": 0.3055555555555556, \"sepal_width\": 0.7083333333333333, \"petal_length\": 0.0847457627118644, \"petal_width\": 0.04166666666666667, \"species\": \"Iris-setosa\"}, {\"sepal_length\": 0.13888888888888884, \"sepal_width\": 0.5833333333333333, \"petal_length\": 0.1016949152542373, \"petal_width\": 0.04166666666666667, \"species\": \"Iris-setosa\"}, {\"sepal_length\": 0.13888888888888884, \"sepal_width\": 0.41666666666666674, \"petal_length\": 0.06779661016949151, \"petal_width\": 0.0, \"species\": \"Iris-setosa\"}, {\"sepal_length\": 0.0, \"sepal_width\": 0.41666666666666674, \"petal_length\": 0.01694915254237289, \"petal_width\": 0.0, \"species\": \"Iris-setosa\"}, {\"sepal_length\": 0.4166666666666665, \"sepal_width\": 0.8333333333333333, \"petal_length\": 0.033898305084745756, \"petal_width\": 0.04166666666666667, \"species\": \"Iris-setosa\"}, {\"sepal_length\": 0.38888888888888884, \"sepal_width\": 1.0, \"petal_length\": 0.0847457627118644, \"petal_width\": 0.125, \"species\": \"Iris-setosa\"}, {\"sepal_length\": 0.3055555555555556, \"sepal_width\": 0.7916666666666665, \"petal_length\": 0.05084745762711865, \"petal_width\": 0.125, \"species\": \"Iris-setosa\"}, {\"sepal_length\": 0.2222222222222221, \"sepal_width\": 0.625, \"petal_length\": 0.06779661016949151, \"petal_width\": 0.08333333333333333, \"species\": \"Iris-setosa\"}, {\"sepal_length\": 0.38888888888888884, \"sepal_width\": 0.7499999999999998, \"petal_length\": 0.11864406779661013, \"petal_width\": 0.08333333333333333, \"species\": \"Iris-setosa\"}, {\"sepal_length\": 0.2222222222222221, \"sepal_width\": 0.7499999999999998, \"petal_length\": 0.0847457627118644, \"petal_width\": 0.08333333333333333, \"species\": \"Iris-setosa\"}, {\"sepal_length\": 0.3055555555555556, \"sepal_width\": 0.5833333333333333, \"petal_length\": 0.11864406779661013, \"petal_width\": 0.04166666666666667, \"species\": \"Iris-setosa\"}, {\"sepal_length\": 0.2222222222222221, \"sepal_width\": 0.7083333333333333, \"petal_length\": 0.0847457627118644, \"petal_width\": 0.125, \"species\": \"Iris-setosa\"}, {\"sepal_length\": 0.08333333333333326, \"sepal_width\": 0.6666666666666667, \"petal_length\": 0.0, \"petal_width\": 0.04166666666666667, \"species\": \"Iris-setosa\"}, {\"sepal_length\": 0.2222222222222221, \"sepal_width\": 0.5416666666666665, \"petal_length\": 0.11864406779661013, \"petal_width\": 0.16666666666666669, \"species\": \"Iris-setosa\"}, {\"sepal_length\": 0.13888888888888884, \"sepal_width\": 0.5833333333333333, \"petal_length\": 0.15254237288135591, \"petal_width\": 0.04166666666666667, \"species\": \"Iris-setosa\"}, {\"sepal_length\": 0.19444444444444442, \"sepal_width\": 0.41666666666666674, \"petal_length\": 0.1016949152542373, \"petal_width\": 0.04166666666666667, \"species\": \"Iris-setosa\"}, {\"sepal_length\": 0.19444444444444442, \"sepal_width\": 0.5833333333333333, \"petal_length\": 0.1016949152542373, \"petal_width\": 0.125, \"species\": \"Iris-setosa\"}, {\"sepal_length\": 0.25, \"sepal_width\": 0.625, \"petal_length\": 0.0847457627118644, \"petal_width\": 0.04166666666666667, \"species\": \"Iris-setosa\"}, {\"sepal_length\": 0.25, \"sepal_width\": 0.5833333333333333, \"petal_length\": 0.06779661016949151, \"petal_width\": 0.04166666666666667, \"species\": \"Iris-setosa\"}, {\"sepal_length\": 0.11111111111111116, \"sepal_width\": 0.5, \"petal_length\": 0.1016949152542373, \"petal_width\": 0.04166666666666667, \"species\": \"Iris-setosa\"}, {\"sepal_length\": 0.13888888888888884, \"sepal_width\": 0.45833333333333326, \"petal_length\": 0.1016949152542373, \"petal_width\": 0.04166666666666667, \"species\": \"Iris-setosa\"}, {\"sepal_length\": 0.3055555555555556, \"sepal_width\": 0.5833333333333333, \"petal_length\": 0.0847457627118644, \"petal_width\": 0.125, \"species\": \"Iris-setosa\"}, {\"sepal_length\": 0.25, \"sepal_width\": 0.8749999999999998, \"petal_length\": 0.0847457627118644, \"petal_width\": 0.0, \"species\": \"Iris-setosa\"}, {\"sepal_length\": 0.33333333333333326, \"sepal_width\": 0.9166666666666667, \"petal_length\": 0.06779661016949151, \"petal_width\": 0.04166666666666667, \"species\": \"Iris-setosa\"}, {\"sepal_length\": 0.16666666666666674, \"sepal_width\": 0.45833333333333326, \"petal_length\": 0.0847457627118644, \"petal_width\": 0.0, \"species\": \"Iris-setosa\"}, {\"sepal_length\": 0.19444444444444442, \"sepal_width\": 0.5, \"petal_length\": 0.033898305084745756, \"petal_width\": 0.04166666666666667, \"species\": \"Iris-setosa\"}, {\"sepal_length\": 0.33333333333333326, \"sepal_width\": 0.625, \"petal_length\": 0.05084745762711865, \"petal_width\": 0.04166666666666667, \"species\": \"Iris-setosa\"}, {\"sepal_length\": 0.16666666666666674, \"sepal_width\": 0.45833333333333326, \"petal_length\": 0.0847457627118644, \"petal_width\": 0.0, \"species\": \"Iris-setosa\"}, {\"sepal_length\": 0.0277777777777779, \"sepal_width\": 0.41666666666666674, \"petal_length\": 0.05084745762711865, \"petal_width\": 0.04166666666666667, \"species\": \"Iris-setosa\"}, {\"sepal_length\": 0.2222222222222221, \"sepal_width\": 0.5833333333333333, \"petal_length\": 0.0847457627118644, \"petal_width\": 0.04166666666666667, \"species\": \"Iris-setosa\"}, {\"sepal_length\": 0.19444444444444442, \"sepal_width\": 0.625, \"petal_length\": 0.05084745762711865, \"petal_width\": 0.08333333333333333, \"species\": \"Iris-setosa\"}, {\"sepal_length\": 0.05555555555555558, \"sepal_width\": 0.12499999999999989, \"petal_length\": 0.05084745762711865, \"petal_width\": 0.08333333333333333, \"species\": \"Iris-setosa\"}, {\"sepal_length\": 0.0277777777777779, \"sepal_width\": 0.5, \"petal_length\": 0.05084745762711865, \"petal_width\": 0.04166666666666667, \"species\": \"Iris-setosa\"}, {\"sepal_length\": 0.19444444444444442, \"sepal_width\": 0.625, \"petal_length\": 0.1016949152542373, \"petal_width\": 0.20833333333333331, \"species\": \"Iris-setosa\"}, {\"sepal_length\": 0.2222222222222221, \"sepal_width\": 0.7499999999999998, \"petal_length\": 0.15254237288135591, \"petal_width\": 0.125, \"species\": \"Iris-setosa\"}, {\"sepal_length\": 0.13888888888888884, \"sepal_width\": 0.41666666666666674, \"petal_length\": 0.06779661016949151, \"petal_width\": 0.08333333333333333, \"species\": \"Iris-setosa\"}, {\"sepal_length\": 0.2222222222222221, \"sepal_width\": 0.7499999999999998, \"petal_length\": 0.1016949152542373, \"petal_width\": 0.04166666666666667, \"species\": \"Iris-setosa\"}, {\"sepal_length\": 0.08333333333333326, \"sepal_width\": 0.5, \"petal_length\": 0.06779661016949151, \"petal_width\": 0.04166666666666667, \"species\": \"Iris-setosa\"}, {\"sepal_length\": 0.2777777777777777, \"sepal_width\": 0.7083333333333333, \"petal_length\": 0.0847457627118644, \"petal_width\": 0.04166666666666667, \"species\": \"Iris-setosa\"}, {\"sepal_length\": 0.19444444444444442, \"sepal_width\": 0.5416666666666665, \"petal_length\": 0.06779661016949151, \"petal_width\": 0.04166666666666667, \"species\": \"Iris-setosa\"}, {\"sepal_length\": 0.75, \"sepal_width\": 0.5, \"petal_length\": 0.6271186440677966, \"petal_width\": 0.5416666666666667, \"species\": \"Iris-versicolor\"}, {\"sepal_length\": 0.5833333333333335, \"sepal_width\": 0.5, \"petal_length\": 0.5932203389830508, \"petal_width\": 0.5833333333333334, \"species\": \"Iris-versicolor\"}, {\"sepal_length\": 0.7222222222222223, \"sepal_width\": 0.45833333333333326, \"petal_length\": 0.6610169491525424, \"petal_width\": 0.5833333333333334, \"species\": \"Iris-versicolor\"}, {\"sepal_length\": 0.33333333333333326, \"sepal_width\": 0.12499999999999989, \"petal_length\": 0.5084745762711864, \"petal_width\": 0.5000000000000001, \"species\": \"Iris-versicolor\"}, {\"sepal_length\": 0.6111111111111112, \"sepal_width\": 0.33333333333333326, \"petal_length\": 0.6101694915254237, \"petal_width\": 0.5833333333333334, \"species\": \"Iris-versicolor\"}, {\"sepal_length\": 0.38888888888888884, \"sepal_width\": 0.33333333333333326, \"petal_length\": 0.5932203389830508, \"petal_width\": 0.5000000000000001, \"species\": \"Iris-versicolor\"}, {\"sepal_length\": 0.5555555555555556, \"sepal_width\": 0.5416666666666665, \"petal_length\": 0.6271186440677966, \"petal_width\": 0.6250000000000001, \"species\": \"Iris-versicolor\"}, {\"sepal_length\": 0.16666666666666674, \"sepal_width\": 0.16666666666666663, \"petal_length\": 0.38983050847457623, \"petal_width\": 0.375, \"species\": \"Iris-versicolor\"}, {\"sepal_length\": 0.6388888888888888, \"sepal_width\": 0.375, \"petal_length\": 0.6101694915254237, \"petal_width\": 0.5000000000000001, \"species\": \"Iris-versicolor\"}, {\"sepal_length\": 0.25, \"sepal_width\": 0.29166666666666674, \"petal_length\": 0.49152542372881347, \"petal_width\": 0.5416666666666667, \"species\": \"Iris-versicolor\"}, {\"sepal_length\": 0.19444444444444442, \"sepal_width\": 0.0, \"petal_length\": 0.423728813559322, \"petal_width\": 0.375, \"species\": \"Iris-versicolor\"}, {\"sepal_length\": 0.44444444444444464, \"sepal_width\": 0.41666666666666674, \"petal_length\": 0.5423728813559322, \"petal_width\": 0.5833333333333334, \"species\": \"Iris-versicolor\"}, {\"sepal_length\": 0.4722222222222223, \"sepal_width\": 0.08333333333333337, \"petal_length\": 0.5084745762711864, \"petal_width\": 0.375, \"species\": \"Iris-versicolor\"}, {\"sepal_length\": 0.4999999999999998, \"sepal_width\": 0.375, \"petal_length\": 0.6271186440677966, \"petal_width\": 0.5416666666666667, \"species\": \"Iris-versicolor\"}, {\"sepal_length\": 0.36111111111111094, \"sepal_width\": 0.375, \"petal_length\": 0.44067796610169496, \"petal_width\": 0.5000000000000001, \"species\": \"Iris-versicolor\"}, {\"sepal_length\": 0.6666666666666667, \"sepal_width\": 0.45833333333333326, \"petal_length\": 0.576271186440678, \"petal_width\": 0.5416666666666667, \"species\": \"Iris-versicolor\"}, {\"sepal_length\": 0.36111111111111094, \"sepal_width\": 0.41666666666666674, \"petal_length\": 0.5932203389830508, \"petal_width\": 0.5833333333333334, \"species\": \"Iris-versicolor\"}, {\"sepal_length\": 0.4166666666666665, \"sepal_width\": 0.29166666666666674, \"petal_length\": 0.5254237288135593, \"petal_width\": 0.375, \"species\": \"Iris-versicolor\"}, {\"sepal_length\": 0.5277777777777779, \"sepal_width\": 0.08333333333333337, \"petal_length\": 0.5932203389830508, \"petal_width\": 0.5833333333333334, \"species\": \"Iris-versicolor\"}, {\"sepal_length\": 0.36111111111111094, \"sepal_width\": 0.20833333333333326, \"petal_length\": 0.49152542372881347, \"petal_width\": 0.4166666666666667, \"species\": \"Iris-versicolor\"}, {\"sepal_length\": 0.44444444444444464, \"sepal_width\": 0.5, \"petal_length\": 0.6440677966101694, \"petal_width\": 0.7083333333333334, \"species\": \"Iris-versicolor\"}, {\"sepal_length\": 0.4999999999999998, \"sepal_width\": 0.33333333333333326, \"petal_length\": 0.5084745762711864, \"petal_width\": 0.5000000000000001, \"species\": \"Iris-versicolor\"}, {\"sepal_length\": 0.5555555555555556, \"sepal_width\": 0.20833333333333326, \"petal_length\": 0.6610169491525424, \"petal_width\": 0.5833333333333334, \"species\": \"Iris-versicolor\"}, {\"sepal_length\": 0.4999999999999998, \"sepal_width\": 0.33333333333333326, \"petal_length\": 0.6271186440677966, \"petal_width\": 0.4583333333333333, \"species\": \"Iris-versicolor\"}, {\"sepal_length\": 0.5833333333333335, \"sepal_width\": 0.375, \"petal_length\": 0.559322033898305, \"petal_width\": 0.5000000000000001, \"species\": \"Iris-versicolor\"}, {\"sepal_length\": 0.6388888888888888, \"sepal_width\": 0.41666666666666674, \"petal_length\": 0.576271186440678, \"petal_width\": 0.5416666666666667, \"species\": \"Iris-versicolor\"}, {\"sepal_length\": 0.6944444444444444, \"sepal_width\": 0.33333333333333326, \"petal_length\": 0.6440677966101694, \"petal_width\": 0.5416666666666667, \"species\": \"Iris-versicolor\"}, {\"sepal_length\": 0.6666666666666667, \"sepal_width\": 0.41666666666666674, \"petal_length\": 0.6779661016949152, \"petal_width\": 0.6666666666666667, \"species\": \"Iris-versicolor\"}, {\"sepal_length\": 0.4722222222222223, \"sepal_width\": 0.375, \"petal_length\": 0.5932203389830508, \"petal_width\": 0.5833333333333334, \"species\": \"Iris-versicolor\"}, {\"sepal_length\": 0.38888888888888884, \"sepal_width\": 0.25, \"petal_length\": 0.423728813559322, \"petal_width\": 0.375, \"species\": \"Iris-versicolor\"}, {\"sepal_length\": 0.33333333333333326, \"sepal_width\": 0.16666666666666663, \"petal_length\": 0.47457627118644063, \"petal_width\": 0.4166666666666667, \"species\": \"Iris-versicolor\"}, {\"sepal_length\": 0.33333333333333326, \"sepal_width\": 0.16666666666666663, \"petal_length\": 0.4576271186440678, \"petal_width\": 0.375, \"species\": \"Iris-versicolor\"}, {\"sepal_length\": 0.4166666666666665, \"sepal_width\": 0.29166666666666674, \"petal_length\": 0.49152542372881347, \"petal_width\": 0.4583333333333333, \"species\": \"Iris-versicolor\"}, {\"sepal_length\": 0.4722222222222223, \"sepal_width\": 0.29166666666666674, \"petal_length\": 0.6949152542372881, \"petal_width\": 0.6250000000000001, \"species\": \"Iris-versicolor\"}, {\"sepal_length\": 0.3055555555555556, \"sepal_width\": 0.41666666666666674, \"petal_length\": 0.5932203389830508, \"petal_width\": 0.5833333333333334, \"species\": \"Iris-versicolor\"}, {\"sepal_length\": 0.4722222222222223, \"sepal_width\": 0.5833333333333333, \"petal_length\": 0.5932203389830508, \"petal_width\": 0.6250000000000001, \"species\": \"Iris-versicolor\"}, {\"sepal_length\": 0.6666666666666667, \"sepal_width\": 0.45833333333333326, \"petal_length\": 0.6271186440677966, \"petal_width\": 0.5833333333333334, \"species\": \"Iris-versicolor\"}, {\"sepal_length\": 0.5555555555555556, \"sepal_width\": 0.12499999999999989, \"petal_length\": 0.576271186440678, \"petal_width\": 0.5000000000000001, \"species\": \"Iris-versicolor\"}, {\"sepal_length\": 0.36111111111111094, \"sepal_width\": 0.41666666666666674, \"petal_length\": 0.5254237288135593, \"petal_width\": 0.5000000000000001, \"species\": \"Iris-versicolor\"}, {\"sepal_length\": 0.33333333333333326, \"sepal_width\": 0.20833333333333326, \"petal_length\": 0.5084745762711864, \"petal_width\": 0.5000000000000001, \"species\": \"Iris-versicolor\"}, {\"sepal_length\": 0.33333333333333326, \"sepal_width\": 0.25, \"petal_length\": 0.576271186440678, \"petal_width\": 0.4583333333333333, \"species\": \"Iris-versicolor\"}, {\"sepal_length\": 0.4999999999999998, \"sepal_width\": 0.41666666666666674, \"petal_length\": 0.6101694915254237, \"petal_width\": 0.5416666666666667, \"species\": \"Iris-versicolor\"}, {\"sepal_length\": 0.4166666666666665, \"sepal_width\": 0.25, \"petal_length\": 0.5084745762711864, \"petal_width\": 0.4583333333333333, \"species\": \"Iris-versicolor\"}, {\"sepal_length\": 0.19444444444444442, \"sepal_width\": 0.12499999999999989, \"petal_length\": 0.38983050847457623, \"petal_width\": 0.375, \"species\": \"Iris-versicolor\"}, {\"sepal_length\": 0.36111111111111094, \"sepal_width\": 0.29166666666666674, \"petal_length\": 0.5423728813559322, \"petal_width\": 0.5000000000000001, \"species\": \"Iris-versicolor\"}, {\"sepal_length\": 0.38888888888888884, \"sepal_width\": 0.41666666666666674, \"petal_length\": 0.5423728813559322, \"petal_width\": 0.4583333333333333, \"species\": \"Iris-versicolor\"}, {\"sepal_length\": 0.38888888888888884, \"sepal_width\": 0.375, \"petal_length\": 0.5423728813559322, \"petal_width\": 0.5000000000000001, \"species\": \"Iris-versicolor\"}, {\"sepal_length\": 0.5277777777777779, \"sepal_width\": 0.375, \"petal_length\": 0.559322033898305, \"petal_width\": 0.5000000000000001, \"species\": \"Iris-versicolor\"}, {\"sepal_length\": 0.2222222222222221, \"sepal_width\": 0.20833333333333326, \"petal_length\": 0.3389830508474576, \"petal_width\": 0.4166666666666667, \"species\": \"Iris-versicolor\"}, {\"sepal_length\": 0.38888888888888884, \"sepal_width\": 0.33333333333333326, \"petal_length\": 0.5254237288135593, \"petal_width\": 0.5000000000000001, \"species\": \"Iris-versicolor\"}, {\"sepal_length\": 0.5555555555555556, \"sepal_width\": 0.5416666666666665, \"petal_length\": 0.847457627118644, \"petal_width\": 1.0, \"species\": \"Iris-virginica\"}, {\"sepal_length\": 0.4166666666666665, \"sepal_width\": 0.29166666666666674, \"petal_length\": 0.6949152542372881, \"petal_width\": 0.75, \"species\": \"Iris-virginica\"}, {\"sepal_length\": 0.7777777777777777, \"sepal_width\": 0.41666666666666674, \"petal_length\": 0.8305084745762712, \"petal_width\": 0.8333333333333335, \"species\": \"Iris-virginica\"}, {\"sepal_length\": 0.5555555555555556, \"sepal_width\": 0.375, \"petal_length\": 0.7796610169491525, \"petal_width\": 0.7083333333333334, \"species\": \"Iris-virginica\"}, {\"sepal_length\": 0.6111111111111112, \"sepal_width\": 0.41666666666666674, \"petal_length\": 0.8135593220338982, \"petal_width\": 0.8750000000000001, \"species\": \"Iris-virginica\"}, {\"sepal_length\": 0.9166666666666665, \"sepal_width\": 0.41666666666666674, \"petal_length\": 0.9491525423728813, \"petal_width\": 0.8333333333333335, \"species\": \"Iris-virginica\"}, {\"sepal_length\": 0.16666666666666674, \"sepal_width\": 0.20833333333333326, \"petal_length\": 0.5932203389830508, \"petal_width\": 0.6666666666666667, \"species\": \"Iris-virginica\"}, {\"sepal_length\": 0.833333333333333, \"sepal_width\": 0.375, \"petal_length\": 0.8983050847457625, \"petal_width\": 0.7083333333333334, \"species\": \"Iris-virginica\"}, {\"sepal_length\": 0.6666666666666667, \"sepal_width\": 0.20833333333333326, \"petal_length\": 0.8135593220338982, \"petal_width\": 0.7083333333333334, \"species\": \"Iris-virginica\"}, {\"sepal_length\": 0.8055555555555556, \"sepal_width\": 0.6666666666666667, \"petal_length\": 0.8644067796610169, \"petal_width\": 1.0, \"species\": \"Iris-virginica\"}, {\"sepal_length\": 0.6111111111111112, \"sepal_width\": 0.5, \"petal_length\": 0.6949152542372881, \"petal_width\": 0.7916666666666667, \"species\": \"Iris-virginica\"}, {\"sepal_length\": 0.5833333333333335, \"sepal_width\": 0.29166666666666674, \"petal_length\": 0.7288135593220338, \"petal_width\": 0.75, \"species\": \"Iris-virginica\"}, {\"sepal_length\": 0.6944444444444444, \"sepal_width\": 0.41666666666666674, \"petal_length\": 0.7627118644067796, \"petal_width\": 0.8333333333333335, \"species\": \"Iris-virginica\"}, {\"sepal_length\": 0.38888888888888884, \"sepal_width\": 0.20833333333333326, \"petal_length\": 0.6779661016949152, \"petal_width\": 0.7916666666666667, \"species\": \"Iris-virginica\"}, {\"sepal_length\": 0.4166666666666665, \"sepal_width\": 0.33333333333333326, \"petal_length\": 0.6949152542372881, \"petal_width\": 0.9583333333333334, \"species\": \"Iris-virginica\"}, {\"sepal_length\": 0.5833333333333335, \"sepal_width\": 0.5, \"petal_length\": 0.7288135593220338, \"petal_width\": 0.9166666666666666, \"species\": \"Iris-virginica\"}, {\"sepal_length\": 0.6111111111111112, \"sepal_width\": 0.41666666666666674, \"petal_length\": 0.7627118644067796, \"petal_width\": 0.7083333333333334, \"species\": \"Iris-virginica\"}, {\"sepal_length\": 0.9444444444444442, \"sepal_width\": 0.7499999999999998, \"petal_length\": 0.9661016949152543, \"petal_width\": 0.8750000000000001, \"species\": \"Iris-virginica\"}, {\"sepal_length\": 0.9444444444444442, \"sepal_width\": 0.25, \"petal_length\": 1.0, \"petal_width\": 0.9166666666666666, \"species\": \"Iris-virginica\"}, {\"sepal_length\": 0.4722222222222223, \"sepal_width\": 0.08333333333333337, \"petal_length\": 0.6779661016949152, \"petal_width\": 0.5833333333333334, \"species\": \"Iris-virginica\"}, {\"sepal_length\": 0.7222222222222223, \"sepal_width\": 0.5, \"petal_length\": 0.7966101694915254, \"petal_width\": 0.9166666666666666, \"species\": \"Iris-virginica\"}, {\"sepal_length\": 0.36111111111111094, \"sepal_width\": 0.33333333333333326, \"petal_length\": 0.6610169491525424, \"petal_width\": 0.7916666666666667, \"species\": \"Iris-virginica\"}, {\"sepal_length\": 0.9444444444444442, \"sepal_width\": 0.33333333333333326, \"petal_length\": 0.9661016949152543, \"petal_width\": 0.7916666666666667, \"species\": \"Iris-virginica\"}, {\"sepal_length\": 0.5555555555555556, \"sepal_width\": 0.29166666666666674, \"petal_length\": 0.6610169491525424, \"petal_width\": 0.7083333333333334, \"species\": \"Iris-virginica\"}, {\"sepal_length\": 0.6666666666666667, \"sepal_width\": 0.5416666666666665, \"petal_length\": 0.7966101694915254, \"petal_width\": 0.8333333333333335, \"species\": \"Iris-virginica\"}, {\"sepal_length\": 0.8055555555555556, \"sepal_width\": 0.5, \"petal_length\": 0.847457627118644, \"petal_width\": 0.7083333333333334, \"species\": \"Iris-virginica\"}, {\"sepal_length\": 0.5277777777777779, \"sepal_width\": 0.33333333333333326, \"petal_length\": 0.6440677966101694, \"petal_width\": 0.7083333333333334, \"species\": \"Iris-virginica\"}, {\"sepal_length\": 0.4999999999999998, \"sepal_width\": 0.41666666666666674, \"petal_length\": 0.6610169491525424, \"petal_width\": 0.7083333333333334, \"species\": \"Iris-virginica\"}, {\"sepal_length\": 0.5833333333333335, \"sepal_width\": 0.33333333333333326, \"petal_length\": 0.7796610169491525, \"petal_width\": 0.8333333333333335, \"species\": \"Iris-virginica\"}, {\"sepal_length\": 0.8055555555555556, \"sepal_width\": 0.41666666666666674, \"petal_length\": 0.8135593220338982, \"petal_width\": 0.6250000000000001, \"species\": \"Iris-virginica\"}, {\"sepal_length\": 0.8611111111111112, \"sepal_width\": 0.33333333333333326, \"petal_length\": 0.8644067796610169, \"petal_width\": 0.75, \"species\": \"Iris-virginica\"}, {\"sepal_length\": 1.0, \"sepal_width\": 0.7499999999999998, \"petal_length\": 0.9152542372881356, \"petal_width\": 0.7916666666666667, \"species\": \"Iris-virginica\"}, {\"sepal_length\": 0.5833333333333335, \"sepal_width\": 0.33333333333333326, \"petal_length\": 0.7796610169491525, \"petal_width\": 0.8750000000000001, \"species\": \"Iris-virginica\"}, {\"sepal_length\": 0.5555555555555556, \"sepal_width\": 0.33333333333333326, \"petal_length\": 0.6949152542372881, \"petal_width\": 0.5833333333333334, \"species\": \"Iris-virginica\"}, {\"sepal_length\": 0.4999999999999998, \"sepal_width\": 0.25, \"petal_length\": 0.7796610169491525, \"petal_width\": 0.5416666666666667, \"species\": \"Iris-virginica\"}, {\"sepal_length\": 0.9444444444444442, \"sepal_width\": 0.41666666666666674, \"petal_length\": 0.8644067796610169, \"petal_width\": 0.9166666666666666, \"species\": \"Iris-virginica\"}, {\"sepal_length\": 0.5555555555555556, \"sepal_width\": 0.5833333333333333, \"petal_length\": 0.7796610169491525, \"petal_width\": 0.9583333333333334, \"species\": \"Iris-virginica\"}, {\"sepal_length\": 0.5833333333333335, \"sepal_width\": 0.45833333333333326, \"petal_length\": 0.7627118644067796, \"petal_width\": 0.7083333333333334, \"species\": \"Iris-virginica\"}, {\"sepal_length\": 0.4722222222222223, \"sepal_width\": 0.41666666666666674, \"petal_length\": 0.6440677966101694, \"petal_width\": 0.7083333333333334, \"species\": \"Iris-virginica\"}, {\"sepal_length\": 0.7222222222222223, \"sepal_width\": 0.45833333333333326, \"petal_length\": 0.7457627118644068, \"petal_width\": 0.8333333333333335, \"species\": \"Iris-virginica\"}, {\"sepal_length\": 0.6666666666666667, \"sepal_width\": 0.45833333333333326, \"petal_length\": 0.7796610169491525, \"petal_width\": 0.9583333333333334, \"species\": \"Iris-virginica\"}, {\"sepal_length\": 0.7222222222222223, \"sepal_width\": 0.45833333333333326, \"petal_length\": 0.6949152542372881, \"petal_width\": 0.9166666666666666, \"species\": \"Iris-virginica\"}, {\"sepal_length\": 0.4166666666666665, \"sepal_width\": 0.29166666666666674, \"petal_length\": 0.6949152542372881, \"petal_width\": 0.75, \"species\": \"Iris-virginica\"}, {\"sepal_length\": 0.6944444444444444, \"sepal_width\": 0.5, \"petal_length\": 0.8305084745762712, \"petal_width\": 0.9166666666666666, \"species\": \"Iris-virginica\"}, {\"sepal_length\": 0.6666666666666667, \"sepal_width\": 0.5416666666666665, \"petal_length\": 0.7966101694915254, \"petal_width\": 1.0, \"species\": \"Iris-virginica\"}, {\"sepal_length\": 0.6666666666666667, \"sepal_width\": 0.41666666666666674, \"petal_length\": 0.711864406779661, \"petal_width\": 0.9166666666666666, \"species\": \"Iris-virginica\"}, {\"sepal_length\": 0.5555555555555556, \"sepal_width\": 0.20833333333333326, \"petal_length\": 0.6779661016949152, \"petal_width\": 0.75, \"species\": \"Iris-virginica\"}, {\"sepal_length\": 0.6111111111111112, \"sepal_width\": 0.41666666666666674, \"petal_length\": 0.711864406779661, \"petal_width\": 0.7916666666666667, \"species\": \"Iris-virginica\"}, {\"sepal_length\": 0.5277777777777779, \"sepal_width\": 0.5833333333333333, \"petal_length\": 0.7457627118644068, \"petal_width\": 0.9166666666666666, \"species\": \"Iris-virginica\"}, {\"sepal_length\": 0.44444444444444464, \"sepal_width\": 0.41666666666666674, \"petal_length\": 0.6949152542372881, \"petal_width\": 0.7083333333333334, \"species\": \"Iris-virginica\"}]}}, {\"mode\": \"vega-lite\"});\n",
              "</script>"
            ]
          },
          "metadata": {
            "tags": []
          },
          "execution_count": 32
        }
      ]
    },
    {
      "cell_type": "code",
      "metadata": {
        "id": "eB-FZ9SRTQP7",
        "colab": {
          "base_uri": "https://localhost:8080/"
        },
        "outputId": "1832ddc1-4a1d-4af8-8350-a3c30fc11093"
      },
      "source": [
        "X1 = data[[ \"sepal_width\", \"petal_width\"]]\n",
        "y1 = data[[\"species\"]]\n",
        "\n",
        "from sklearn.model_selection import train_test_split\n",
        "\n",
        "X1_train, X1_test, y1_train, y1_test = train_test_split(X1, y1, test_size = 0.2)\n",
        "\n",
        "from sklearn.neighbors import KNeighborsClassifier\n",
        "\n",
        "clf1 = KNeighborsClassifier(n_neighbors = 3)\n",
        "\n",
        "clf1.fit(X1_train, y1_train)"
      ],
      "execution_count": null,
      "outputs": [
        {
          "output_type": "stream",
          "text": [
            "/usr/local/lib/python3.6/dist-packages/ipykernel_launcher.py:12: DataConversionWarning: A column-vector y was passed when a 1d array was expected. Please change the shape of y to (n_samples, ), for example using ravel().\n",
            "  if sys.path[0] == '':\n"
          ],
          "name": "stderr"
        },
        {
          "output_type": "execute_result",
          "data": {
            "text/plain": [
              "KNeighborsClassifier(algorithm='auto', leaf_size=30, metric='minkowski',\n",
              "                     metric_params=None, n_jobs=None, n_neighbors=3, p=2,\n",
              "                     weights='uniform')"
            ]
          },
          "metadata": {
            "tags": []
          },
          "execution_count": 33
        }
      ]
    },
    {
      "cell_type": "code",
      "metadata": {
        "id": "nfWooGs9TQpO"
      },
      "source": [
        "test1_predictions = clf1.predict(X1_test)\n",
        "\n",
        "from sklearn.metrics import accuracy_score\n",
        "\n",
        "accuracy_score(y1_test, test1_predictions)"
      ],
      "execution_count": null,
      "outputs": []
    },
    {
      "cell_type": "code",
      "metadata": {
        "id": "-CakkqVHVTTp"
      },
      "source": [
        "from sklearn.metrics import confusion_matrix\n",
        "\n",
        "confusion_matrix(y1_test, test1_predictions)"
      ],
      "execution_count": null,
      "outputs": []
    },
    {
      "cell_type": "code",
      "metadata": {
        "id": "b3fW4JZzVlUe"
      },
      "source": [
        "from sklearn.metrics import plot_confusion_matrix\n",
        "import matplotlib.pyplot as plt\n",
        "\n",
        "plot_confusion_matrix(clf1, X1_test, y1_test)\n",
        "plt.show()"
      ],
      "execution_count": null,
      "outputs": []
    },
    {
      "cell_type": "code",
      "metadata": {
        "id": "tyA4QpGNqPcI"
      },
      "source": [
        "y_new = pd.DataFrame(y_test)\n",
        "y_new = y_new.reset_index(drop=True)\n",
        "y_new[\"predictions\"] = pd.Series(y_pred)\n",
        "y_new"
      ],
      "execution_count": null,
      "outputs": []
    },
    {
      "cell_type": "code",
      "metadata": {
        "id": "8cHpxZ7vXLa_"
      },
      "source": [
        "y_new = pd.DataFrame(y_test)\n",
        "y_new = y_new.reset_index(drop=True)\n",
        "y_new[\"predictions\"] = pd.Series(y_pred)\n",
        "\n",
        "\n",
        "y_new.species = y_new.species.astype(str)\n",
        "y_new.predictions = y_new.species.astype(str)\n",
        "y_new = y_new.replace({'Iris-versicolor': 1, 'Iris-setosa':2, 'Iris-virginica':3})\n",
        "\n",
        "y_new['mistake'] = pd.Series(data = [])\n",
        "y_new.fillna('Iris-versicolor', inplace=True)\n",
        "y_new['Correct'] = y_new.species.where(y_new.predictions == y_new.species, other=0)\n",
        "\n"
      ],
      "execution_count": null,
      "outputs": []
    },
    {
      "cell_type": "code",
      "metadata": {
        "id": "vEXSo0W6i9wL"
      },
      "source": [
        "y_new.Correct = y_new.Correct.apply(lambda x: 0 if x == 0 else 1)\n",
        "\n",
        "y_new.head()\n",
        "alt.Chart(y_new).mark_bar().encode(\n",
        "    x='Correct:Q',\n",
        "    y=\"count()\"\n",
        ").interactive().facet('species')\n"
      ],
      "execution_count": null,
      "outputs": []
    }
  ]
}